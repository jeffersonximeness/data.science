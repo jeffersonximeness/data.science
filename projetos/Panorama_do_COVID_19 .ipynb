{
  "nbformat": 4,
  "nbformat_minor": 0,
  "metadata": {
    "colab": {
      "name": "Panorama do COVID-19.ipynb",
      "provenance": [],
      "collapsed_sections": []
    },
    "kernelspec": {
      "name": "python3",
      "display_name": "Python 3"
    }
  },
  "cells": [
    {
      "cell_type": "markdown",
      "metadata": {
        "id": "kLI0gJtzDGuQ"
      },
      "source": [
        "# Panorama do COVID-19 no Brasil\n",
        "\n",
        "O Sars-CoV-2, causador da Covid-19, é um vírus pertencente a família coronavírus que já era conhecida pelos cientistas. Alguns desses familiares provocaram doenças em seres humanos, como o MERS-CoV e o Sars-CoV. Porém não chegaram ao ponto de se disseminar e causar uma pandemia como a que estamos vivenciando agora.\n",
        "\n",
        "<p align=center>\n",
        "  <img src=\"https://www.pfizer.com.br/sites/default/files/inline-images/covid-19_0.jpg\" height=\"300px\">\n",
        "</p>\n",
        "\n",
        "Esse tipo de vírus é transmitido por meio de gotículas provenientes de tosses e espirros de pessoas infectadas, em uma troca não necessariamente direta.\n",
        "\n",
        "<center><img alt=\"Colaboratory logo\" width=\"50%\" src=\"https://www.pfizer.com.br/sites/default/files/inline-images/covid-19_0.jpg\"></center>\n",
        "\n",
        "A doença pode variar de infecções assintomáticas a quadros graves. De acordo com a Organização Mundial da Saúde, cerca de 80% dos pacientes com COVID-19 podem ser assintomáticos ou apresentar poucos sintomas, e aproximadamente 20% podem necessitar de atendimento hospitalar por apresentarem dificuldade respiratória, dos quais aproximadamente 5% podem necessitar de suporte ventilatório.\n",
        "\n",
        "Com o objetivo de esclarecer a atual situação a respeito do COVID-19 no Brasil, irei realizar uma análise sobre os dados públicos a respeito dessa doença.\n"
      ]
    },
    {
      "cell_type": "markdown",
      "metadata": {
        "id": "0zxQHhIUDF_2"
      },
      "source": [
        "## Obtenção dos Dados\n",
        "\n",
        "Os dados foram obtidos nesse repositório no *Github*: [https://github.com/datasets/covid-19](https://github.com/datasets/covid-19). Esse repositório usa dados mantidos e atualizados diariamente pela equipa da *Johns Hopkins University Center for Systems Science and Engineering*. "
      ]
    },
    {
      "cell_type": "markdown",
      "metadata": {
        "id": "fNB0X8uZpb4k"
      },
      "source": [
        "### Dicionário de variáveis\n",
        "\n",
        "* `Date` - Data em que as informações foram coletadas.\n",
        "* `Country` - País de onde as informações foram extraídas.\n",
        "* `Confirmed` - Número de casos confirmados até esse dia.\n",
        "* `Recovered` - Número de casos recuperados até esse dia.\n",
        "* `Deaths` - Número de mortes até esse dia."
      ]
    },
    {
      "cell_type": "markdown",
      "metadata": {
        "id": "3tE5-pB-rZDv"
      },
      "source": [
        "## Análise Explorátoria dos Dados\n",
        "\n",
        "Essa análise inicial é crucial para o projeto, pois é nela que iremos analisar, resumir e visualizar os dados presentes no nosso *dataset*.\n",
        "\n",
        "Primeiramente, vamos importar os pacotes necessários e iniciar nossa análise exploratória."
      ]
    },
    {
      "cell_type": "code",
      "metadata": {
        "id": "lOtEJxe0DMEb"
      },
      "source": [
        "# importar as bibliotecas necessárias\n",
        "import pandas as pd\n",
        "import matplotlib.pyplot as plt\n",
        "import seaborn as sns\n",
        "\n",
        "import warnings\n",
        "warnings.filterwarnings('ignore')\n",
        "\n",
        "sns.set_style()\n",
        "%matplotlib inline\n",
        "\n",
        "# importar o dataset COVID-19 para um DataaFrame\n",
        "df = pd.read_csv('https://raw.githubusercontent.com/datasets/covid-19/main/data/countries-aggregated.csv')"
      ],
      "execution_count": 33,
      "outputs": []
    },
    {
      "cell_type": "markdown",
      "metadata": {
        "id": "skbaErkLopOn"
      },
      "source": [
        "Uma parte importante da análise é verificar a dimensão do nosso *dataset*."
      ]
    },
    {
      "cell_type": "code",
      "metadata": {
        "colab": {
          "base_uri": "https://localhost:8080/",
          "height": 271
        },
        "id": "kUvKxOWTomXT",
        "outputId": "aa4f7ce8-ebaa-4be0-a467-57d9e74e5823"
      },
      "source": [
        "# Ver a dimensão do dataset\n",
        "print(f'Dimensão do Dataset\\n')\n",
        "print(f'Entradas: {df.shape[0]}')\n",
        "print(f'Variáveis: {df.shape[1]}')\n",
        "\n",
        "# Verificando as primeira entradas\n",
        "df.head()"
      ],
      "execution_count": 34,
      "outputs": [
        {
          "output_type": "stream",
          "text": [
            "Dimensão do Dataset\n",
            "\n",
            "Entradas: 76416\n",
            "Variáveis: 5\n"
          ],
          "name": "stdout"
        },
        {
          "output_type": "execute_result",
          "data": {
            "text/html": [
              "<div>\n",
              "<style scoped>\n",
              "    .dataframe tbody tr th:only-of-type {\n",
              "        vertical-align: middle;\n",
              "    }\n",
              "\n",
              "    .dataframe tbody tr th {\n",
              "        vertical-align: top;\n",
              "    }\n",
              "\n",
              "    .dataframe thead th {\n",
              "        text-align: right;\n",
              "    }\n",
              "</style>\n",
              "<table border=\"1\" class=\"dataframe\">\n",
              "  <thead>\n",
              "    <tr style=\"text-align: right;\">\n",
              "      <th></th>\n",
              "      <th>Date</th>\n",
              "      <th>Country</th>\n",
              "      <th>Confirmed</th>\n",
              "      <th>Recovered</th>\n",
              "      <th>Deaths</th>\n",
              "    </tr>\n",
              "  </thead>\n",
              "  <tbody>\n",
              "    <tr>\n",
              "      <th>0</th>\n",
              "      <td>2020-01-22</td>\n",
              "      <td>Afghanistan</td>\n",
              "      <td>0</td>\n",
              "      <td>0</td>\n",
              "      <td>0</td>\n",
              "    </tr>\n",
              "    <tr>\n",
              "      <th>1</th>\n",
              "      <td>2020-01-23</td>\n",
              "      <td>Afghanistan</td>\n",
              "      <td>0</td>\n",
              "      <td>0</td>\n",
              "      <td>0</td>\n",
              "    </tr>\n",
              "    <tr>\n",
              "      <th>2</th>\n",
              "      <td>2020-01-24</td>\n",
              "      <td>Afghanistan</td>\n",
              "      <td>0</td>\n",
              "      <td>0</td>\n",
              "      <td>0</td>\n",
              "    </tr>\n",
              "    <tr>\n",
              "      <th>3</th>\n",
              "      <td>2020-01-25</td>\n",
              "      <td>Afghanistan</td>\n",
              "      <td>0</td>\n",
              "      <td>0</td>\n",
              "      <td>0</td>\n",
              "    </tr>\n",
              "    <tr>\n",
              "      <th>4</th>\n",
              "      <td>2020-01-26</td>\n",
              "      <td>Afghanistan</td>\n",
              "      <td>0</td>\n",
              "      <td>0</td>\n",
              "      <td>0</td>\n",
              "    </tr>\n",
              "  </tbody>\n",
              "</table>\n",
              "</div>"
            ],
            "text/plain": [
              "         Date      Country  Confirmed  Recovered  Deaths\n",
              "0  2020-01-22  Afghanistan          0          0       0\n",
              "1  2020-01-23  Afghanistan          0          0       0\n",
              "2  2020-01-24  Afghanistan          0          0       0\n",
              "3  2020-01-25  Afghanistan          0          0       0\n",
              "4  2020-01-26  Afghanistan          0          0       0"
            ]
          },
          "metadata": {
            "tags": []
          },
          "execution_count": 34
        }
      ]
    },
    {
      "cell_type": "code",
      "metadata": {
        "colab": {
          "base_uri": "https://localhost:8080/"
        },
        "id": "KOVYIFnfte0n",
        "outputId": "428de258-9a8a-4f06-cf71-5992b59957de"
      },
      "source": [
        "# Extrair o nome de cada coluna\n",
        "df.columns"
      ],
      "execution_count": 35,
      "outputs": [
        {
          "output_type": "execute_result",
          "data": {
            "text/plain": [
              "Index(['Date', 'Country', 'Confirmed', 'Recovered', 'Deaths'], dtype='object')"
            ]
          },
          "metadata": {
            "tags": []
          },
          "execution_count": 35
        }
      ]
    },
    {
      "cell_type": "code",
      "metadata": {
        "colab": {
          "base_uri": "https://localhost:8080/"
        },
        "id": "OuZPTSduizBO",
        "outputId": "2b92f6d4-421e-4123-ba2a-655684702466"
      },
      "source": [
        "# países contidos no dataset\n",
        "df.Country.unique()"
      ],
      "execution_count": 36,
      "outputs": [
        {
          "output_type": "execute_result",
          "data": {
            "text/plain": [
              "array(['Afghanistan', 'Albania', 'Algeria', 'Andorra', 'Angola',\n",
              "       'Antigua and Barbuda', 'Argentina', 'Armenia', 'Australia',\n",
              "       'Austria', 'Azerbaijan', 'Bahamas', 'Bahrain', 'Bangladesh',\n",
              "       'Barbados', 'Belarus', 'Belgium', 'Belize', 'Benin', 'Bhutan',\n",
              "       'Bolivia', 'Bosnia and Herzegovina', 'Botswana', 'Brazil',\n",
              "       'Brunei', 'Bulgaria', 'Burkina Faso', 'Burma', 'Burundi',\n",
              "       'Cabo Verde', 'Cambodia', 'Cameroon', 'Canada',\n",
              "       'Central African Republic', 'Chad', 'Chile', 'China', 'Colombia',\n",
              "       'Comoros', 'Congo (Brazzaville)', 'Congo (Kinshasa)', 'Costa Rica',\n",
              "       \"Cote d'Ivoire\", 'Croatia', 'Cuba', 'Cyprus', 'Czechia', 'Denmark',\n",
              "       'Diamond Princess', 'Djibouti', 'Dominica', 'Dominican Republic',\n",
              "       'Ecuador', 'Egypt', 'El Salvador', 'Equatorial Guinea', 'Eritrea',\n",
              "       'Estonia', 'Eswatini', 'Ethiopia', 'Fiji', 'Finland', 'France',\n",
              "       'Gabon', 'Gambia', 'Georgia', 'Germany', 'Ghana', 'Greece',\n",
              "       'Grenada', 'Guatemala', 'Guinea', 'Guinea-Bissau', 'Guyana',\n",
              "       'Haiti', 'Holy See', 'Honduras', 'Hungary', 'Iceland', 'India',\n",
              "       'Indonesia', 'Iran', 'Iraq', 'Ireland', 'Israel', 'Italy',\n",
              "       'Jamaica', 'Japan', 'Jordan', 'Kazakhstan', 'Kenya',\n",
              "       'Korea, South', 'Kosovo', 'Kuwait', 'Kyrgyzstan', 'Laos', 'Latvia',\n",
              "       'Lebanon', 'Lesotho', 'Liberia', 'Libya', 'Liechtenstein',\n",
              "       'Lithuania', 'Luxembourg', 'MS Zaandam', 'Madagascar', 'Malawi',\n",
              "       'Malaysia', 'Maldives', 'Mali', 'Malta', 'Marshall Islands',\n",
              "       'Mauritania', 'Mauritius', 'Mexico', 'Micronesia', 'Moldova',\n",
              "       'Monaco', 'Mongolia', 'Montenegro', 'Morocco', 'Mozambique',\n",
              "       'Namibia', 'Nepal', 'Netherlands', 'New Zealand', 'Nicaragua',\n",
              "       'Niger', 'Nigeria', 'North Macedonia', 'Norway', 'Oman',\n",
              "       'Pakistan', 'Panama', 'Papua New Guinea', 'Paraguay', 'Peru',\n",
              "       'Philippines', 'Poland', 'Portugal', 'Qatar', 'Romania', 'Russia',\n",
              "       'Rwanda', 'Saint Kitts and Nevis', 'Saint Lucia',\n",
              "       'Saint Vincent and the Grenadines', 'Samoa', 'San Marino',\n",
              "       'Sao Tome and Principe', 'Saudi Arabia', 'Senegal', 'Serbia',\n",
              "       'Seychelles', 'Sierra Leone', 'Singapore', 'Slovakia', 'Slovenia',\n",
              "       'Solomon Islands', 'Somalia', 'South Africa', 'South Sudan',\n",
              "       'Spain', 'Sri Lanka', 'Sudan', 'Suriname', 'Sweden', 'Switzerland',\n",
              "       'Syria', 'Taiwan*', 'Tajikistan', 'Tanzania', 'Thailand',\n",
              "       'Timor-Leste', 'Togo', 'Trinidad and Tobago', 'Tunisia', 'Turkey',\n",
              "       'US', 'Uganda', 'Ukraine', 'United Arab Emirates',\n",
              "       'United Kingdom', 'Uruguay', 'Uzbekistan', 'Vanuatu', 'Venezuela',\n",
              "       'Vietnam', 'West Bank and Gaza', 'Yemen', 'Zambia', 'Zimbabwe'],\n",
              "      dtype=object)"
            ]
          },
          "metadata": {
            "tags": []
          },
          "execution_count": 36
        }
      ]
    },
    {
      "cell_type": "markdown",
      "metadata": {
        "id": "PKaGo_8qCwa0"
      },
      "source": [
        "Também é importante analisarmos o tipo das nossas variáveis, para garantir que eles estão do jeito que queremos."
      ]
    },
    {
      "cell_type": "code",
      "metadata": {
        "colab": {
          "base_uri": "https://localhost:8080/"
        },
        "id": "gBeGMcGXDEM_",
        "outputId": "b0108bc4-a1c0-4401-fe44-6f0f09adc5bb"
      },
      "source": [
        "# Verificar o tipo das variáveis\n",
        "df.dtypes"
      ],
      "execution_count": 37,
      "outputs": [
        {
          "output_type": "execute_result",
          "data": {
            "text/plain": [
              "Date         object\n",
              "Country      object\n",
              "Confirmed     int64\n",
              "Recovered     int64\n",
              "Deaths        int64\n",
              "dtype: object"
            ]
          },
          "metadata": {
            "tags": []
          },
          "execution_count": 37
        }
      ]
    },
    {
      "cell_type": "markdown",
      "metadata": {
        "id": "R4MJJYFuEhrp"
      },
      "source": [
        "Verificando a distribuição estatística das variáveis."
      ]
    },
    {
      "cell_type": "code",
      "metadata": {
        "colab": {
          "base_uri": "https://localhost:8080/",
          "height": 288
        },
        "id": "HhFoouXqEmz9",
        "outputId": "292f0f02-d911-4756-82ee-5c9557af544a"
      },
      "source": [
        "df.describe()"
      ],
      "execution_count": 38,
      "outputs": [
        {
          "output_type": "execute_result",
          "data": {
            "text/html": [
              "<div>\n",
              "<style scoped>\n",
              "    .dataframe tbody tr th:only-of-type {\n",
              "        vertical-align: middle;\n",
              "    }\n",
              "\n",
              "    .dataframe tbody tr th {\n",
              "        vertical-align: top;\n",
              "    }\n",
              "\n",
              "    .dataframe thead th {\n",
              "        text-align: right;\n",
              "    }\n",
              "</style>\n",
              "<table border=\"1\" class=\"dataframe\">\n",
              "  <thead>\n",
              "    <tr style=\"text-align: right;\">\n",
              "      <th></th>\n",
              "      <th>Confirmed</th>\n",
              "      <th>Recovered</th>\n",
              "      <th>Deaths</th>\n",
              "    </tr>\n",
              "  </thead>\n",
              "  <tbody>\n",
              "    <tr>\n",
              "      <th>count</th>\n",
              "      <td>7.641600e+04</td>\n",
              "      <td>7.641600e+04</td>\n",
              "      <td>76416.000000</td>\n",
              "    </tr>\n",
              "    <tr>\n",
              "      <th>mean</th>\n",
              "      <td>1.691309e+05</td>\n",
              "      <td>1.005628e+05</td>\n",
              "      <td>4431.934543</td>\n",
              "    </tr>\n",
              "    <tr>\n",
              "      <th>std</th>\n",
              "      <td>1.024216e+06</td>\n",
              "      <td>5.585348e+05</td>\n",
              "      <td>21710.355733</td>\n",
              "    </tr>\n",
              "    <tr>\n",
              "      <th>min</th>\n",
              "      <td>0.000000e+00</td>\n",
              "      <td>0.000000e+00</td>\n",
              "      <td>0.000000</td>\n",
              "    </tr>\n",
              "    <tr>\n",
              "      <th>25%</th>\n",
              "      <td>9.400000e+01</td>\n",
              "      <td>1.900000e+01</td>\n",
              "      <td>1.000000</td>\n",
              "    </tr>\n",
              "    <tr>\n",
              "      <th>50%</th>\n",
              "      <td>3.265000e+03</td>\n",
              "      <td>1.542500e+03</td>\n",
              "      <td>62.000000</td>\n",
              "    </tr>\n",
              "    <tr>\n",
              "      <th>75%</th>\n",
              "      <td>4.532825e+04</td>\n",
              "      <td>2.269800e+04</td>\n",
              "      <td>782.000000</td>\n",
              "    </tr>\n",
              "    <tr>\n",
              "      <th>max</th>\n",
              "      <td>2.818857e+07</td>\n",
              "      <td>1.071266e+07</td>\n",
              "      <td>500244.000000</td>\n",
              "    </tr>\n",
              "  </tbody>\n",
              "</table>\n",
              "</div>"
            ],
            "text/plain": [
              "          Confirmed     Recovered         Deaths\n",
              "count  7.641600e+04  7.641600e+04   76416.000000\n",
              "mean   1.691309e+05  1.005628e+05    4431.934543\n",
              "std    1.024216e+06  5.585348e+05   21710.355733\n",
              "min    0.000000e+00  0.000000e+00       0.000000\n",
              "25%    9.400000e+01  1.900000e+01       1.000000\n",
              "50%    3.265000e+03  1.542500e+03      62.000000\n",
              "75%    4.532825e+04  2.269800e+04     782.000000\n",
              "max    2.818857e+07  1.071266e+07  500244.000000"
            ]
          },
          "metadata": {
            "tags": []
          },
          "execution_count": 38
        }
      ]
    },
    {
      "cell_type": "code",
      "metadata": {
        "id": "5UCBjcL7DMUg"
      },
      "source": [
        "# transformando a coluna Date em datetime\n",
        "df.Date = pd.to_datetime(df.Date)"
      ],
      "execution_count": 39,
      "outputs": []
    },
    {
      "cell_type": "markdown",
      "metadata": {
        "id": "YMraCI0QDg-S"
      },
      "source": [
        "Para entender um pouco mais sobre o nosso *dataset*, mais especificamente a data em que começa a coleta de dados."
      ]
    },
    {
      "cell_type": "code",
      "metadata": {
        "colab": {
          "base_uri": "https://localhost:8080/"
        },
        "id": "Eby_A2ILDkKO",
        "outputId": "6101cec3-2085-4f99-b5e1-310d02ccd32c"
      },
      "source": [
        "# Visualizando em que data os dados começaram a ser coletados\n",
        "print(f'Primeira entrada do Dataset: {df.Date.describe()[4]}')\n",
        "print(f'última entrada do Dataset: {df.Date.describe()[5]}')"
      ],
      "execution_count": 40,
      "outputs": [
        {
          "output_type": "stream",
          "text": [
            "Primeira entrada do Dataset: 2020-01-22 00:00:00\n",
            "última entrada do Dataset: 2021-02-22 00:00:00\n"
          ],
          "name": "stdout"
        }
      ]
    },
    {
      "cell_type": "markdown",
      "metadata": {
        "id": "yJcMRNy5EaFV"
      },
      "source": [
        "Os dados começaram a ser coletados em 22 de Janeiro de 2020 e se extendem até a presente data."
      ]
    },
    {
      "cell_type": "code",
      "metadata": {
        "colab": {
          "base_uri": "https://localhost:8080/"
        },
        "id": "PUr6A3U_EvxA",
        "outputId": "2d1a624f-3780-4739-82bf-497134502f9e"
      },
      "source": [
        "# verificando dados ausentes\n",
        "(df.isnull().sum() / df.shape[0]).sort_values(ascending = False)"
      ],
      "execution_count": 41,
      "outputs": [
        {
          "output_type": "execute_result",
          "data": {
            "text/plain": [
              "Deaths       0.0\n",
              "Recovered    0.0\n",
              "Confirmed    0.0\n",
              "Country      0.0\n",
              "Date         0.0\n",
              "dtype: float64"
            ]
          },
          "metadata": {
            "tags": []
          },
          "execution_count": 41
        }
      ]
    },
    {
      "cell_type": "markdown",
      "metadata": {
        "id": "R0wHC9g4Kc35"
      },
      "source": [
        "Podemos ver que não temos nenhum dado faltante. Isso porque a equipe que mantém o repositório está fazendo um trabalho incrível de limpeza e normalização dos dados. O que torna nossa análise ainda melhor."
      ]
    },
    {
      "cell_type": "markdown",
      "metadata": {
        "id": "XieGMxilQcIz"
      },
      "source": [
        "### Quais países têm o maior número de casos?\n",
        "\n",
        "Até o dia 22 de Fevereiro, os países que tem maior número de caso são **Estados Unidos, India, Brasil, Reino Unido** e **Russia**."
      ]
    },
    {
      "cell_type": "code",
      "metadata": {
        "colab": {
          "base_uri": "https://localhost:8080/",
          "height": 198
        },
        "id": "6vMpgnxmK8kU",
        "outputId": "5f65c6d6-8a91-4c92-fc92-0f7f4152c6f3"
      },
      "source": [
        "df.loc[df.Date == '2021-02-22'].sort_values(by = 'Confirmed', ascending = False).head()"
      ],
      "execution_count": 42,
      "outputs": [
        {
          "output_type": "execute_result",
          "data": {
            "text/html": [
              "<div>\n",
              "<style scoped>\n",
              "    .dataframe tbody tr th:only-of-type {\n",
              "        vertical-align: middle;\n",
              "    }\n",
              "\n",
              "    .dataframe tbody tr th {\n",
              "        vertical-align: top;\n",
              "    }\n",
              "\n",
              "    .dataframe thead th {\n",
              "        text-align: right;\n",
              "    }\n",
              "</style>\n",
              "<table border=\"1\" class=\"dataframe\">\n",
              "  <thead>\n",
              "    <tr style=\"text-align: right;\">\n",
              "      <th></th>\n",
              "      <th>Date</th>\n",
              "      <th>Country</th>\n",
              "      <th>Confirmed</th>\n",
              "      <th>Recovered</th>\n",
              "      <th>Deaths</th>\n",
              "    </tr>\n",
              "  </thead>\n",
              "  <tbody>\n",
              "    <tr>\n",
              "      <th>71241</th>\n",
              "      <td>2021-02-22</td>\n",
              "      <td>US</td>\n",
              "      <td>28188571</td>\n",
              "      <td>0</td>\n",
              "      <td>500244</td>\n",
              "    </tr>\n",
              "    <tr>\n",
              "      <th>31839</th>\n",
              "      <td>2021-02-22</td>\n",
              "      <td>India</td>\n",
              "      <td>11016434</td>\n",
              "      <td>10712665</td>\n",
              "      <td>156463</td>\n",
              "    </tr>\n",
              "    <tr>\n",
              "      <th>9551</th>\n",
              "      <td>2021-02-22</td>\n",
              "      <td>Brazil</td>\n",
              "      <td>10195160</td>\n",
              "      <td>9108205</td>\n",
              "      <td>247143</td>\n",
              "    </tr>\n",
              "    <tr>\n",
              "      <th>72833</th>\n",
              "      <td>2021-02-22</td>\n",
              "      <td>United Kingdom</td>\n",
              "      <td>4138233</td>\n",
              "      <td>11342</td>\n",
              "      <td>120988</td>\n",
              "    </tr>\n",
              "    <tr>\n",
              "      <th>56913</th>\n",
              "      <td>2021-02-22</td>\n",
              "      <td>Russia</td>\n",
              "      <td>4130447</td>\n",
              "      <td>3684955</td>\n",
              "      <td>82255</td>\n",
              "    </tr>\n",
              "  </tbody>\n",
              "</table>\n",
              "</div>"
            ],
            "text/plain": [
              "            Date         Country  Confirmed  Recovered  Deaths\n",
              "71241 2021-02-22              US   28188571          0  500244\n",
              "31839 2021-02-22           India   11016434   10712665  156463\n",
              "9551  2021-02-22          Brazil   10195160    9108205  247143\n",
              "72833 2021-02-22  United Kingdom    4138233      11342  120988\n",
              "56913 2021-02-22          Russia    4130447    3684955   82255"
            ]
          },
          "metadata": {
            "tags": []
          },
          "execution_count": 42
        }
      ]
    },
    {
      "cell_type": "markdown",
      "metadata": {
        "id": "-NvHpNVk1bgj"
      },
      "source": [
        "### Quais países têm o maior número de recuperados?\n",
        "**India, Brasil, Russia, Turquia** e **Itália** são os países que tiverem o maior número de recuperados."
      ]
    },
    {
      "cell_type": "code",
      "metadata": {
        "colab": {
          "base_uri": "https://localhost:8080/",
          "height": 198
        },
        "id": "W7rz_Q6M1e0s",
        "outputId": "cf544e28-e936-4b55-afb7-b268e7208476"
      },
      "source": [
        "df.loc[df.Date == '2021-02-22'].sort_values(by = 'Recovered', ascending = False).head()"
      ],
      "execution_count": 43,
      "outputs": [
        {
          "output_type": "execute_result",
          "data": {
            "text/html": [
              "<div>\n",
              "<style scoped>\n",
              "    .dataframe tbody tr th:only-of-type {\n",
              "        vertical-align: middle;\n",
              "    }\n",
              "\n",
              "    .dataframe tbody tr th {\n",
              "        vertical-align: top;\n",
              "    }\n",
              "\n",
              "    .dataframe thead th {\n",
              "        text-align: right;\n",
              "    }\n",
              "</style>\n",
              "<table border=\"1\" class=\"dataframe\">\n",
              "  <thead>\n",
              "    <tr style=\"text-align: right;\">\n",
              "      <th></th>\n",
              "      <th>Date</th>\n",
              "      <th>Country</th>\n",
              "      <th>Confirmed</th>\n",
              "      <th>Recovered</th>\n",
              "      <th>Deaths</th>\n",
              "    </tr>\n",
              "  </thead>\n",
              "  <tbody>\n",
              "    <tr>\n",
              "      <th>31839</th>\n",
              "      <td>2021-02-22</td>\n",
              "      <td>India</td>\n",
              "      <td>11016434</td>\n",
              "      <td>10712665</td>\n",
              "      <td>156463</td>\n",
              "    </tr>\n",
              "    <tr>\n",
              "      <th>9551</th>\n",
              "      <td>2021-02-22</td>\n",
              "      <td>Brazil</td>\n",
              "      <td>10195160</td>\n",
              "      <td>9108205</td>\n",
              "      <td>247143</td>\n",
              "    </tr>\n",
              "    <tr>\n",
              "      <th>56913</th>\n",
              "      <td>2021-02-22</td>\n",
              "      <td>Russia</td>\n",
              "      <td>4130447</td>\n",
              "      <td>3684955</td>\n",
              "      <td>82255</td>\n",
              "    </tr>\n",
              "    <tr>\n",
              "      <th>70843</th>\n",
              "      <td>2021-02-22</td>\n",
              "      <td>Turkey</td>\n",
              "      <td>2646526</td>\n",
              "      <td>2529450</td>\n",
              "      <td>28138</td>\n",
              "    </tr>\n",
              "    <tr>\n",
              "      <th>34227</th>\n",
              "      <td>2021-02-22</td>\n",
              "      <td>Italy</td>\n",
              "      <td>2818863</td>\n",
              "      <td>2334968</td>\n",
              "      <td>95992</td>\n",
              "    </tr>\n",
              "  </tbody>\n",
              "</table>\n",
              "</div>"
            ],
            "text/plain": [
              "            Date Country  Confirmed  Recovered  Deaths\n",
              "31839 2021-02-22   India   11016434   10712665  156463\n",
              "9551  2021-02-22  Brazil   10195160    9108205  247143\n",
              "56913 2021-02-22  Russia    4130447    3684955   82255\n",
              "70843 2021-02-22  Turkey    2646526    2529450   28138\n",
              "34227 2021-02-22   Italy    2818863    2334968   95992"
            ]
          },
          "metadata": {
            "tags": []
          },
          "execution_count": 43
        }
      ]
    },
    {
      "cell_type": "markdown",
      "metadata": {
        "id": "PVIOtz3JRwdu"
      },
      "source": [
        "### Quais países têm mais mortes?\n",
        "Os países lideres em mortes são **Estados Unidos, Brazil, Mexico, India** e **Reino Unido**, respectivamente."
      ]
    },
    {
      "cell_type": "code",
      "metadata": {
        "colab": {
          "base_uri": "https://localhost:8080/",
          "height": 198
        },
        "id": "A_Pl55VqSCyz",
        "outputId": "5a0f48e7-2e79-4ea0-bb09-059393facb8d"
      },
      "source": [
        "df.loc[df.Date == '2021-02-22'].sort_values(by = 'Deaths', ascending = False).head()"
      ],
      "execution_count": 44,
      "outputs": [
        {
          "output_type": "execute_result",
          "data": {
            "text/html": [
              "<div>\n",
              "<style scoped>\n",
              "    .dataframe tbody tr th:only-of-type {\n",
              "        vertical-align: middle;\n",
              "    }\n",
              "\n",
              "    .dataframe tbody tr th {\n",
              "        vertical-align: top;\n",
              "    }\n",
              "\n",
              "    .dataframe thead th {\n",
              "        text-align: right;\n",
              "    }\n",
              "</style>\n",
              "<table border=\"1\" class=\"dataframe\">\n",
              "  <thead>\n",
              "    <tr style=\"text-align: right;\">\n",
              "      <th></th>\n",
              "      <th>Date</th>\n",
              "      <th>Country</th>\n",
              "      <th>Confirmed</th>\n",
              "      <th>Recovered</th>\n",
              "      <th>Deaths</th>\n",
              "    </tr>\n",
              "  </thead>\n",
              "  <tbody>\n",
              "    <tr>\n",
              "      <th>71241</th>\n",
              "      <td>2021-02-22</td>\n",
              "      <td>US</td>\n",
              "      <td>28188571</td>\n",
              "      <td>0</td>\n",
              "      <td>500244</td>\n",
              "    </tr>\n",
              "    <tr>\n",
              "      <th>9551</th>\n",
              "      <td>2021-02-22</td>\n",
              "      <td>Brazil</td>\n",
              "      <td>10195160</td>\n",
              "      <td>9108205</td>\n",
              "      <td>247143</td>\n",
              "    </tr>\n",
              "    <tr>\n",
              "      <th>45769</th>\n",
              "      <td>2021-02-22</td>\n",
              "      <td>Mexico</td>\n",
              "      <td>2043632</td>\n",
              "      <td>1602024</td>\n",
              "      <td>180536</td>\n",
              "    </tr>\n",
              "    <tr>\n",
              "      <th>31839</th>\n",
              "      <td>2021-02-22</td>\n",
              "      <td>India</td>\n",
              "      <td>11016434</td>\n",
              "      <td>10712665</td>\n",
              "      <td>156463</td>\n",
              "    </tr>\n",
              "    <tr>\n",
              "      <th>72833</th>\n",
              "      <td>2021-02-22</td>\n",
              "      <td>United Kingdom</td>\n",
              "      <td>4138233</td>\n",
              "      <td>11342</td>\n",
              "      <td>120988</td>\n",
              "    </tr>\n",
              "  </tbody>\n",
              "</table>\n",
              "</div>"
            ],
            "text/plain": [
              "            Date         Country  Confirmed  Recovered  Deaths\n",
              "71241 2021-02-22              US   28188571          0  500244\n",
              "9551  2021-02-22          Brazil   10195160    9108205  247143\n",
              "45769 2021-02-22          Mexico    2043632    1602024  180536\n",
              "31839 2021-02-22           India   11016434   10712665  156463\n",
              "72833 2021-02-22  United Kingdom    4138233      11342  120988"
            ]
          },
          "metadata": {
            "tags": []
          },
          "execution_count": 44
        }
      ]
    },
    {
      "cell_type": "markdown",
      "metadata": {
        "id": "0hjWNzkBS0ks"
      },
      "source": [
        "A tabela acima nos chama atenção. Mesmo o méxico não se destacando nos países com maior número de casos, ele está em terceiro em maior número de mortes. O mesmo acontece com o Brasil, mesmo estando em terceiro na relação de mais casos, em número de mortes ele aparece em segundo. Vamos analisar um pouco mais..."
      ]
    },
    {
      "cell_type": "code",
      "metadata": {
        "colab": {
          "base_uri": "https://localhost:8080/"
        },
        "id": "3Oeo0amvTOGD",
        "outputId": "f8e200e6-78f9-4872-fa5c-9e19fd0bd2fc"
      },
      "source": [
        "# verificando taxa de mortalidade nos primeiros 3 países\n",
        "\n",
        "taxa_morte_mexico = (df[(df['Country'] == 'Mexico') & (df['Date'] == '2021-02-22')]['Deaths']) / (df[(df['Country'] == 'Mexico') & (df['Date'] == '2021-02-22')]['Confirmed'])\n",
        "taxa_morte_us = (df[(df['Country'] == 'US') & (df['Date'] == '2021-02-22')]['Deaths']) / (df[(df['Country'] == 'US') & (df['Date'] == '2021-02-22')]['Confirmed'])\n",
        "taxa_morte_br = (df[(df['Country'] == 'Brazil') & (df['Date'] == '2021-02-22')]['Deaths']) / (df[(df['Country'] == 'Brazil') & (df['Date'] == '2021-02-22')]['Confirmed'])\n",
        "\n",
        "print(f'A taxa de morte no México é de: {taxa_morte_mexico.values[0] * 100:.2f}%')\n",
        "print(f'A taxa de morte nos Estados Unidos é de: {taxa_morte_us.values[0] * 100:.2f}%')\n",
        "print(f'A taxa de morte no Brasil é de: {taxa_morte_br.values[0] * 100:.2f}%')"
      ],
      "execution_count": 45,
      "outputs": [
        {
          "output_type": "stream",
          "text": [
            "A taxa de morte no México é de: 8.83%\n",
            "A taxa de morte nos Estados Unidos é de: 1.77%\n",
            "A taxa de morte no Brasil é de: 2.42%\n"
          ],
          "name": "stdout"
        }
      ]
    },
    {
      "cell_type": "markdown",
      "metadata": {
        "id": "mOxk2vt1Y0fW"
      },
      "source": [
        "Podemos ver que o México tem uma taxa muito maior de mortalidade do que os países lideres em casos e mortes."
      ]
    },
    {
      "cell_type": "markdown",
      "metadata": {
        "id": "L2oHOABqde6g"
      },
      "source": [
        "### Gráfico com os 5 países lideres em mortes\n",
        "\n",
        "Para podermos visualizar melhor esses dados, irá ser plotado um gráfico de barras. Fica muito melhor para comparar os números."
      ]
    },
    {
      "cell_type": "code",
      "metadata": {
        "colab": {
          "base_uri": "https://localhost:8080/",
          "height": 585
        },
        "id": "4NJdY62Ifoiu",
        "outputId": "9b442663-467d-4707-f5dd-3a9b26499ec5"
      },
      "source": [
        "top_5_mortes_totais = df.loc[df['Date'] == '2021-02-22', ['Country', 'Deaths']].sort_values(by = 'Deaths', ascending = False)[0:5]\n",
        "\n",
        "fig, ax = plt.subplots(figsize = (10, 8))\n",
        "ax.bar('Country', 'Deaths', data = top_5_mortes_totais)\n",
        "\n",
        "plt.tight_layout()"
      ],
      "execution_count": 46,
      "outputs": [
        {
          "output_type": "display_data",
          "data": {
            "image/png": "[encoded data removed]",
            "text/plain": [
              "<Figure size 720x576 with 1 Axes>"
            ]
          },
          "metadata": {
            "tags": [],
            "needs_background": "light"
          }
        }
      ]
    },
    {
      "cell_type": "markdown",
      "metadata": {
        "id": "SViA5VZ7DYLA"
      },
      "source": [
        "## Análise Exploratória para o Brasil\n",
        "\n",
        "Agora que temos o panorama de como está a COVID-19 no mundo, vamos focar em analisar como está no Brasil."
      ]
    },
    {
      "cell_type": "code",
      "metadata": {
        "colab": {
          "base_uri": "https://localhost:8080/",
          "height": 198
        },
        "id": "YeYQYkQC3DxV",
        "outputId": "7d59e317-50f0-4fd9-cf48-473d337ff62e"
      },
      "source": [
        "# criando um DataFrame apenas do Brasil\n",
        "\n",
        "df_brasil = df.loc[df.Country == 'Brazil'].copy()\n",
        "\n",
        "# Visualizando as primeiras linhas\n",
        "df_brasil.head()"
      ],
      "execution_count": 47,
      "outputs": [
        {
          "output_type": "execute_result",
          "data": {
            "text/html": [
              "<div>\n",
              "<style scoped>\n",
              "    .dataframe tbody tr th:only-of-type {\n",
              "        vertical-align: middle;\n",
              "    }\n",
              "\n",
              "    .dataframe tbody tr th {\n",
              "        vertical-align: top;\n",
              "    }\n",
              "\n",
              "    .dataframe thead th {\n",
              "        text-align: right;\n",
              "    }\n",
              "</style>\n",
              "<table border=\"1\" class=\"dataframe\">\n",
              "  <thead>\n",
              "    <tr style=\"text-align: right;\">\n",
              "      <th></th>\n",
              "      <th>Date</th>\n",
              "      <th>Country</th>\n",
              "      <th>Confirmed</th>\n",
              "      <th>Recovered</th>\n",
              "      <th>Deaths</th>\n",
              "    </tr>\n",
              "  </thead>\n",
              "  <tbody>\n",
              "    <tr>\n",
              "      <th>9154</th>\n",
              "      <td>2020-01-22</td>\n",
              "      <td>Brazil</td>\n",
              "      <td>0</td>\n",
              "      <td>0</td>\n",
              "      <td>0</td>\n",
              "    </tr>\n",
              "    <tr>\n",
              "      <th>9155</th>\n",
              "      <td>2020-01-23</td>\n",
              "      <td>Brazil</td>\n",
              "      <td>0</td>\n",
              "      <td>0</td>\n",
              "      <td>0</td>\n",
              "    </tr>\n",
              "    <tr>\n",
              "      <th>9156</th>\n",
              "      <td>2020-01-24</td>\n",
              "      <td>Brazil</td>\n",
              "      <td>0</td>\n",
              "      <td>0</td>\n",
              "      <td>0</td>\n",
              "    </tr>\n",
              "    <tr>\n",
              "      <th>9157</th>\n",
              "      <td>2020-01-25</td>\n",
              "      <td>Brazil</td>\n",
              "      <td>0</td>\n",
              "      <td>0</td>\n",
              "      <td>0</td>\n",
              "    </tr>\n",
              "    <tr>\n",
              "      <th>9158</th>\n",
              "      <td>2020-01-26</td>\n",
              "      <td>Brazil</td>\n",
              "      <td>0</td>\n",
              "      <td>0</td>\n",
              "      <td>0</td>\n",
              "    </tr>\n",
              "  </tbody>\n",
              "</table>\n",
              "</div>"
            ],
            "text/plain": [
              "           Date Country  Confirmed  Recovered  Deaths\n",
              "9154 2020-01-22  Brazil          0          0       0\n",
              "9155 2020-01-23  Brazil          0          0       0\n",
              "9156 2020-01-24  Brazil          0          0       0\n",
              "9157 2020-01-25  Brazil          0          0       0\n",
              "9158 2020-01-26  Brazil          0          0       0"
            ]
          },
          "metadata": {
            "tags": []
          },
          "execution_count": 47
        }
      ]
    },
    {
      "cell_type": "markdown",
      "metadata": {
        "id": "8EnoqKUR3iuE"
      },
      "source": [
        "Novamente vamos ver desde quando os dados referentes ao Brasil começaram a ser coletados."
      ]
    },
    {
      "cell_type": "code",
      "metadata": {
        "colab": {
          "base_uri": "https://localhost:8080/"
        },
        "id": "vtSOkhZo3y36",
        "outputId": "bbd26b3a-fd60-4e39-e833-279309fe220e"
      },
      "source": [
        "# Visualizando em que data os dados começaram a ser coletados\n",
        "print(f'Primeira entrada do Dataset: {df_brasil.Date.describe()[4]}')\n",
        "print(f'última entrada do Dataset: {df_brasil.Date.describe()[5]}')"
      ],
      "execution_count": 48,
      "outputs": [
        {
          "output_type": "stream",
          "text": [
            "Primeira entrada do Dataset: 2020-01-22 00:00:00\n",
            "última entrada do Dataset: 2021-02-22 00:00:00\n"
          ],
          "name": "stdout"
        }
      ]
    },
    {
      "cell_type": "markdown",
      "metadata": {
        "id": "PPLI3Nzc3-qx"
      },
      "source": [
        "### Quando foi confirmado o primeiro caso no Brasil?"
      ]
    },
    {
      "cell_type": "code",
      "metadata": {
        "colab": {
          "base_uri": "https://localhost:8080/"
        },
        "id": "BwTHrArB4COF",
        "outputId": "ecc30ce8-02e6-4852-bc91-7f7609c0b43a"
      },
      "source": [
        "# verificando a confirmação do primeiro caso\n",
        "primeiro_caso = df_brasil[df.Confirmed != 0].head(1)\n",
        "\n",
        "# obtendo o index do primeiro caso\n",
        "primeiro_caso.index"
      ],
      "execution_count": 49,
      "outputs": [
        {
          "output_type": "execute_result",
          "data": {
            "text/plain": [
              "Int64Index([9189], dtype='int64')"
            ]
          },
          "metadata": {
            "tags": []
          },
          "execution_count": 49
        }
      ]
    },
    {
      "cell_type": "code",
      "metadata": {
        "colab": {
          "base_uri": "https://localhost:8080/"
        },
        "id": "eonWAUxp6UxQ",
        "outputId": "24d469eb-5037-46f4-9da2-5f2de191842c"
      },
      "source": [
        "print(f'O primeiro caso foi confirmado no dia {df_brasil.Date.loc[primeiro_caso.index[0]]}')"
      ],
      "execution_count": 50,
      "outputs": [
        {
          "output_type": "stream",
          "text": [
            "O primeiro caso foi confirmado no dia 2020-02-26 00:00:00\n"
          ],
          "name": "stdout"
        }
      ]
    },
    {
      "cell_type": "markdown",
      "metadata": {
        "id": "592XE2Wc47nK"
      },
      "source": [
        "### Quando foi confirmada a primeira morte no Brasil?"
      ]
    },
    {
      "cell_type": "code",
      "metadata": {
        "colab": {
          "base_uri": "https://localhost:8080/",
          "height": 78
        },
        "id": "c39yJw4D5hQi",
        "outputId": "2d8bbfa8-d596-4b6a-ac57-b3f4d0376818"
      },
      "source": [
        "# verificando a confirmação da primeira morte\n",
        "primeira_morte = df_brasil[df_brasil.Deaths != 0].head(1)\n",
        "\n",
        "primeira_morte"
      ],
      "execution_count": 51,
      "outputs": [
        {
          "output_type": "execute_result",
          "data": {
            "text/html": [
              "<div>\n",
              "<style scoped>\n",
              "    .dataframe tbody tr th:only-of-type {\n",
              "        vertical-align: middle;\n",
              "    }\n",
              "\n",
              "    .dataframe tbody tr th {\n",
              "        vertical-align: top;\n",
              "    }\n",
              "\n",
              "    .dataframe thead th {\n",
              "        text-align: right;\n",
              "    }\n",
              "</style>\n",
              "<table border=\"1\" class=\"dataframe\">\n",
              "  <thead>\n",
              "    <tr style=\"text-align: right;\">\n",
              "      <th></th>\n",
              "      <th>Date</th>\n",
              "      <th>Country</th>\n",
              "      <th>Confirmed</th>\n",
              "      <th>Recovered</th>\n",
              "      <th>Deaths</th>\n",
              "    </tr>\n",
              "  </thead>\n",
              "  <tbody>\n",
              "    <tr>\n",
              "      <th>9209</th>\n",
              "      <td>2020-03-17</td>\n",
              "      <td>Brazil</td>\n",
              "      <td>321</td>\n",
              "      <td>2</td>\n",
              "      <td>1</td>\n",
              "    </tr>\n",
              "  </tbody>\n",
              "</table>\n",
              "</div>"
            ],
            "text/plain": [
              "           Date Country  Confirmed  Recovered  Deaths\n",
              "9209 2020-03-17  Brazil        321          2       1"
            ]
          },
          "metadata": {
            "tags": []
          },
          "execution_count": 51
        }
      ]
    },
    {
      "cell_type": "code",
      "metadata": {
        "colab": {
          "base_uri": "https://localhost:8080/"
        },
        "id": "Sl1AWNff6am1",
        "outputId": "1112df66-c0f4-45f9-fafe-63f28360f4b6"
      },
      "source": [
        "print(f'A primeira morte aconteceu no dia {df_brasil.Date.loc[primeira_morte.index[0]]}')"
      ],
      "execution_count": 52,
      "outputs": [
        {
          "output_type": "stream",
          "text": [
            "A primeira morte aconteceu no dia 2020-03-17 00:00:00\n"
          ],
          "name": "stdout"
        }
      ]
    },
    {
      "cell_type": "markdown",
      "metadata": {
        "id": "XMy3TAxa7Wg1"
      },
      "source": [
        "### Quanto tempo levou desde o primeiro caso confirmado até a primeira morte?\n",
        "\n",
        "Agora que temos a informação de quando foi confirmado o primeiro caso no Brasil e também sabemos quando foi a primeira morte, é interessante responder qual foi o espaço de tempo entre os dois."
      ]
    },
    {
      "cell_type": "code",
      "metadata": {
        "colab": {
          "base_uri": "https://localhost:8080/"
        },
        "id": "GpBmoNdz7qhB",
        "outputId": "bbca980e-1b0f-46e5-b4df-5c3e63c0b3db"
      },
      "source": [
        "# identificar quantos dias levou para identificarmos a primeira morte, em relação ao primeiro caso de COVID-19 registrado.\n",
        "from datetime import date\n",
        "\n",
        "data = df_brasil.Date.loc[primeira_morte.index[0]] - df_brasil.Date.loc[primeiro_caso.index[0]]\n",
        "\n",
        "print(f'Se passaram {data.days} dias entre o primeiro caso e a primeira morte no Brasil.')"
      ],
      "execution_count": 53,
      "outputs": [
        {
          "output_type": "stream",
          "text": [
            "Se passaram 20 dias entre o primeiro caso e a primeira morte no Brasil.\n"
          ],
          "name": "stdout"
        }
      ]
    },
    {
      "cell_type": "markdown",
      "metadata": {
        "id": "hEbiwwRzU8fb"
      },
      "source": [
        "### Gráfico em escalar linear e logarítmica\n",
        "\n",
        "* `Escala linear`: A escala linear é a que estamos mais acostumados a ver no cotidiano, essa escala pode ser feita plotando a variável no eixo X e a sua correlata em Y. No nosso caso o eixo X corresponderá aos dias e o Y o número de casos.\n",
        "* `Escala logarítmica`: A escala logarítmica difere da escala linear, pois ela usará o *log* da grandeza e não a própria grandeza.\n"
      ]
    },
    {
      "cell_type": "markdown",
      "metadata": {
        "id": "9dDhSf2EVik-"
      },
      "source": [
        "Visualizando o total de registros no Brasil, para plotar o gráfico."
      ]
    },
    {
      "cell_type": "code",
      "metadata": {
        "colab": {
          "base_uri": "https://localhost:8080/"
        },
        "id": "Jkut_ydiVAyk",
        "outputId": "1a4e189d-5c8e-4845-88ce-c0dc3bc9418e"
      },
      "source": [
        "print(len(df_brasil['Confirmed']))\n",
        "print(len(df_brasil['Deaths']))\n",
        "num_registros = int(len(df_brasil['Confirmed']))"
      ],
      "execution_count": 54,
      "outputs": [
        {
          "output_type": "stream",
          "text": [
            "398\n",
            "398\n"
          ],
          "name": "stdout"
        }
      ]
    },
    {
      "cell_type": "code",
      "metadata": {
        "colab": {
          "base_uri": "https://localhost:8080/",
          "height": 681
        },
        "id": "syA129hwVq7b",
        "outputId": "fbd92a26-d998-4fc4-fead-bc0246f55aec"
      },
      "source": [
        "sns.set()\n",
        "\n",
        "# variáveis que serão usadas para plotar o gráfico\n",
        "tamanho = list(range(num_registros))\n",
        "casos = df_brasil['Confirmed']\n",
        "mortes = df_brasil['Deaths']\n",
        "\n",
        "# gráfico em escala linear\n",
        "fig, ((ax1, ax2), (ax3, ax4)) = plt.subplots(nrows = 2, ncols = 2, figsize = (14, 11))\n",
        "ax1.set_title('Casos no Brasil em escala linear')\n",
        "ax1.set_xlabel('Dias')\n",
        "ax1.set_ylabel('Casos')\n",
        "ax1.plot(tamanho, casos)\n",
        "\n",
        "# gráfico em escala logarítmica\n",
        "ax2.set_title('Casos no Brasil em escala logarítmica')\n",
        "ax2.set_xlabel('Dias')\n",
        "ax2.set_ylabel('Casos')\n",
        "ax2.set_yscale('log')\n",
        "ax2.plot(tamanho, casos)\n",
        "\n",
        "# gráfico de mortes no Brasil\n",
        "ax3.set_title('Mortes no Brasil em escala linear')\n",
        "ax3.set_xlabel('Dias')\n",
        "ax3.set_ylabel('Mortes')\n",
        "ax3.plot(tamanho, mortes)\n",
        "\n",
        "# gráfico de mortes no Brasil em escala logarítmica\n",
        "ax4.set_title('Mortes no Brasil em escala logarítmica')\n",
        "ax4.set_xlabel('Dias')\n",
        "ax4.set_ylabel('Mortes')\n",
        "ax4.set_yscale('log')\n",
        "ax4.plot(tamanho, mortes);"
      ],
      "execution_count": 55,
      "outputs": [
        {
          "output_type": "display_data",
          "data": {
            "image/png": "[encoded data removed]",
            "text/plain": [
              "<Figure size 1008x792 with 4 Axes>"
            ]
          },
          "metadata": {
            "tags": []
          }
        }
      ]
    },
    {
      "cell_type": "markdown",
      "metadata": {
        "id": "p5ZpTzLNPBXv"
      },
      "source": [
        "### Novos casos confirmados e mortes por dia.\n",
        "Para isso criei uma função que pega o número de pessoas confirmadas de um dia e subtrai pelo número de confirmados do dia anterior, resultando no número de novos casos naquele dia em relação ao anterior."
      ]
    },
    {
      "cell_type": "code",
      "metadata": {
        "id": "irsbDccUN2Bm"
      },
      "source": [
        "# inserindo nova coluna 'cases_per_day' no nosso DataFrame do Brasil, iniciando com valor 0\n",
        "df_brasil.insert(5, 'cases_per_day', 0)\n",
        "\n",
        "# resetando os indices do DataFrame, ele vai criar uma coluna chamada index. Iremos remover ela, já que não será usada\n",
        "df_brasil = df_brasil.reset_index()\n",
        "df_brasil = df_brasil.drop('index', axis = 1)\n",
        "\n",
        "def create_df_cases(df):\n",
        "  tamanho_df = int(len(df))\n",
        "\n",
        "  for i in range(1, tamanho_df):\n",
        "    dif = df.Confirmed[i] - df.Confirmed[i - 1]\n",
        "    \n",
        "    if dif >= 0:\n",
        "      df['cases_per_day'][i] = dif\n",
        "\n",
        "    else:\n",
        "      df['cases_per_day'][i] = 0 \n",
        "\n",
        "create_df_cases(df_brasil)"
      ],
      "execution_count": 56,
      "outputs": []
    },
    {
      "cell_type": "markdown",
      "metadata": {
        "id": "sj40mGgp3_PL"
      },
      "source": [
        "De forma análoga a criação da coluna de novos casos, vamos criar a de mortes por dia."
      ]
    },
    {
      "cell_type": "code",
      "metadata": {
        "id": "rmvOORl-vxlb"
      },
      "source": [
        "# inserindo coluna 'deaths_per_day' no nosso DataFrame do Brasil iniciando com valor 0 \n",
        "df_brasil.insert(6, 'deaths_per_day', 0)\n",
        "\n",
        "def create_df_deaths(df):\n",
        "  for i in range(1, int(len(df))):\n",
        "    dif = df.Deaths[i] - df.Deaths[i - 1]\n",
        "\n",
        "    if dif >= 0:\n",
        "      df['deaths_per_day'][i] = dif\n",
        "\n",
        "    else:\n",
        "      df['deaths_per_day'][i] = 0 \n",
        "\n",
        "create_df_deaths(df_brasil)"
      ],
      "execution_count": 57,
      "outputs": []
    },
    {
      "cell_type": "markdown",
      "metadata": {
        "id": "L2wlix5GPTs0"
      },
      "source": [
        "Agora vamos ver como nosso *dataset* está após inserir as colunas"
      ]
    },
    {
      "cell_type": "code",
      "metadata": {
        "colab": {
          "base_uri": "https://localhost:8080/",
          "height": 198
        },
        "id": "HpjEbLeUPXYu",
        "outputId": "7a02d5ee-e7a0-4125-8c2b-39003f6f3188"
      },
      "source": [
        "# visualizando as últimas entradas do dataframe\n",
        "df_brasil.tail()"
      ],
      "execution_count": 58,
      "outputs": [
        {
          "output_type": "execute_result",
          "data": {
            "text/html": [
              "<div>\n",
              "<style scoped>\n",
              "    .dataframe tbody tr th:only-of-type {\n",
              "        vertical-align: middle;\n",
              "    }\n",
              "\n",
              "    .dataframe tbody tr th {\n",
              "        vertical-align: top;\n",
              "    }\n",
              "\n",
              "    .dataframe thead th {\n",
              "        text-align: right;\n",
              "    }\n",
              "</style>\n",
              "<table border=\"1\" class=\"dataframe\">\n",
              "  <thead>\n",
              "    <tr style=\"text-align: right;\">\n",
              "      <th></th>\n",
              "      <th>Date</th>\n",
              "      <th>Country</th>\n",
              "      <th>Confirmed</th>\n",
              "      <th>Recovered</th>\n",
              "      <th>Deaths</th>\n",
              "      <th>cases_per_day</th>\n",
              "      <th>deaths_per_day</th>\n",
              "    </tr>\n",
              "  </thead>\n",
              "  <tbody>\n",
              "    <tr>\n",
              "      <th>393</th>\n",
              "      <td>2021-02-18</td>\n",
              "      <td>Brazil</td>\n",
              "      <td>10030626</td>\n",
              "      <td>8960755</td>\n",
              "      <td>243457</td>\n",
              "      <td>51879</td>\n",
              "      <td>1367</td>\n",
              "    </tr>\n",
              "    <tr>\n",
              "      <th>394</th>\n",
              "      <td>2021-02-19</td>\n",
              "      <td>Brazil</td>\n",
              "      <td>10084208</td>\n",
              "      <td>8988618</td>\n",
              "      <td>244737</td>\n",
              "      <td>53582</td>\n",
              "      <td>1280</td>\n",
              "    </tr>\n",
              "    <tr>\n",
              "      <th>395</th>\n",
              "      <td>2021-02-20</td>\n",
              "      <td>Brazil</td>\n",
              "      <td>10139148</td>\n",
              "      <td>9070505</td>\n",
              "      <td>245977</td>\n",
              "      <td>54940</td>\n",
              "      <td>1240</td>\n",
              "    </tr>\n",
              "    <tr>\n",
              "      <th>396</th>\n",
              "      <td>2021-02-21</td>\n",
              "      <td>Brazil</td>\n",
              "      <td>10168174</td>\n",
              "      <td>9095692</td>\n",
              "      <td>246504</td>\n",
              "      <td>29026</td>\n",
              "      <td>527</td>\n",
              "    </tr>\n",
              "    <tr>\n",
              "      <th>397</th>\n",
              "      <td>2021-02-22</td>\n",
              "      <td>Brazil</td>\n",
              "      <td>10195160</td>\n",
              "      <td>9108205</td>\n",
              "      <td>247143</td>\n",
              "      <td>26986</td>\n",
              "      <td>639</td>\n",
              "    </tr>\n",
              "  </tbody>\n",
              "</table>\n",
              "</div>"
            ],
            "text/plain": [
              "          Date Country  Confirmed  ...  Deaths  cases_per_day  deaths_per_day\n",
              "393 2021-02-18  Brazil   10030626  ...  243457          51879            1367\n",
              "394 2021-02-19  Brazil   10084208  ...  244737          53582            1280\n",
              "395 2021-02-20  Brazil   10139148  ...  245977          54940            1240\n",
              "396 2021-02-21  Brazil   10168174  ...  246504          29026             527\n",
              "397 2021-02-22  Brazil   10195160  ...  247143          26986             639\n",
              "\n",
              "[5 rows x 7 columns]"
            ]
          },
          "metadata": {
            "tags": []
          },
          "execution_count": 58
        }
      ]
    },
    {
      "cell_type": "markdown",
      "metadata": {
        "id": "4PSNoJEv89ah"
      },
      "source": [
        "Com essas informações, podemos saber qual a média de novos casos diários e mortes."
      ]
    },
    {
      "cell_type": "markdown",
      "metadata": {
        "id": "FxECfR0zTqtx"
      },
      "source": [
        "### Média de novos casos e mortes."
      ]
    },
    {
      "cell_type": "code",
      "metadata": {
        "colab": {
          "base_uri": "https://localhost:8080/"
        },
        "id": "mfR0Ypdf9Fj5",
        "outputId": "539fbf8e-c61f-4a24-e0a7-728524906baa"
      },
      "source": [
        "# variáveis com as medias de mortes e novos casos.\n",
        "media_de_casos_por_dia = df_brasil.cases_per_day.mean()\n",
        "media_de_mortes_por_dia = df_brasil.deaths_per_day.mean()\n",
        "\n",
        "print(f'Média de casos confirmados por dia: {media_de_casos_por_dia:.0f}')\n",
        "print(f'Média de mortes por dia: {media_de_mortes_por_dia:.0f}')"
      ],
      "execution_count": 59,
      "outputs": [
        {
          "output_type": "stream",
          "text": [
            "Média de casos confirmados por dia: 25616\n",
            "Média de mortes por dia: 621\n"
          ],
          "name": "stdout"
        }
      ]
    },
    {
      "cell_type": "markdown",
      "metadata": {
        "id": "QcvPR_tjmEZc"
      },
      "source": [
        "### Recorde de novos casos e mortes."
      ]
    },
    {
      "cell_type": "code",
      "metadata": {
        "colab": {
          "base_uri": "https://localhost:8080/"
        },
        "id": "ccU_p0E7lqUw",
        "outputId": "b7f6803f-ef0f-419d-de62-3cc555a78506"
      },
      "source": [
        "print(f'A maior quantidade de novos casos em um dia foi de: {df_brasil.cases_per_day.max()}')\n",
        "print(f'A maior quantidade de mortes em um dia foi de: {df_brasil.deaths_per_day.max()}')"
      ],
      "execution_count": 60,
      "outputs": [
        {
          "output_type": "stream",
          "text": [
            "A maior quantidade de novos casos em um dia foi de: 87843\n",
            "A maior quantidade de mortes em um dia foi de: 1986\n"
          ],
          "name": "stdout"
        }
      ]
    },
    {
      "cell_type": "markdown",
      "metadata": {
        "id": "zhRL_4Ci-LNR"
      },
      "source": [
        "### Gráfico de novos casos confirmados e mortes no Brasil."
      ]
    },
    {
      "cell_type": "code",
      "metadata": {
        "colab": {
          "base_uri": "https://localhost:8080/",
          "height": 797
        },
        "id": "qeLCJV7a79wL",
        "outputId": "bc3a813f-790a-4fe2-edd9-62b1dfd100a4"
      },
      "source": [
        "cases_per_day = df_brasil['cases_per_day']\n",
        "deaths_per_day = df_brasil['deaths_per_day']\n",
        "\n",
        "fig, (ax1, ax2) = plt.subplots(nrows = 2, ncols = 1, figsize = (14, 11))\n",
        "\n",
        "ax1.set_title(\"Casos por dia\")\n",
        "ax1.set_ylabel(\"Total\")\n",
        "ax1.set_xlabel(\"Dias\")\n",
        "ax1.plot(tamanho, cases_per_day)\n",
        "\n",
        "ax2.set_title(\"Mortes por dia\")\n",
        "ax2.set_ylabel(\"Total\")\n",
        "ax2.set_xlabel(\"Dias\")\n",
        "ax2.plot(tamanho, deaths_per_day)\n",
        "\n",
        "\n",
        "plt.tight_layout()"
      ],
      "execution_count": 61,
      "outputs": [
        {
          "output_type": "display_data",
          "data": {
            "image/png": "[encoded data removed]",
            "text/plain": [
              "<Figure size 1008x792 with 2 Axes>"
            ]
          },
          "metadata": {
            "tags": []
          }
        }
      ]
    },
    {
      "cell_type": "markdown",
      "metadata": {
        "id": "mZr88wSoA3Wp"
      },
      "source": [
        "A primeira vista, podemos perceber que a curva de novos casos e mortes é muito parecida, mesmo estando em escalas diferentes, ou seja, pode existir uma correlação entre essas variáveis, vamos averiguar."
      ]
    },
    {
      "cell_type": "markdown",
      "metadata": {
        "id": "KdOf6_gna1Wm"
      },
      "source": [
        "### Correlação entre novos casos e mortes\n",
        "Não confunda correlação com causa. Correlação quer dizer que as duas variáveis estão relacionadas e não que uma é a causa da outra."
      ]
    },
    {
      "cell_type": "code",
      "metadata": {
        "colab": {
          "base_uri": "https://localhost:8080/",
          "height": 281
        },
        "id": "-ovPSkulF5Nx",
        "outputId": "2af7dc5c-8a3b-4ccd-cb06-5040e638053d"
      },
      "source": [
        "# criando matriz de correlação\n",
        "corr = df_brasil[['cases_per_day', 'deaths_per_day']].corr()\n",
        "\n",
        "# plotando o heatmap a partir das correlações\n",
        "sns.heatmap(corr, cmap = 'RdBu', fmt = '.2f', square = True, linecolor = 'white', annot = True);"
      ],
      "execution_count": 62,
      "outputs": [
        {
          "output_type": "display_data",
          "data": {
            "image/png": "[encoded data removed]",
            "text/plain": [
              "<Figure size 432x288 with 2 Axes>"
            ]
          },
          "metadata": {
            "tags": []
          }
        }
      ]
    },
    {
      "cell_type": "markdown",
      "metadata": {
        "id": "LCsiXvM3BcsO"
      },
      "source": [
        "## Conclusão\n",
        "\n",
        "Um detalhe sobre esse conjunto de dados é que ele é atualizado diariamente, ou seja, em alguns dias, as informações presentes aqui podem estar desatualizadas.\n",
        "\n",
        "Contudo, com a análise desses dados, podemos destacar alguns pontos:\n",
        "* Os Estados Unidos lideram em casos e mortes.\n",
        "* México, mesmo não estando entre os 5 primeiros em número de casos, está em terceiro no número de mortes e tem a maior taxa de mortalidade entre os 3 primeiros.\n",
        "* Nota-se uma forte crelação entre novos casos e mortes.\n",
        "* Casos e mortes continuam em uma crescente, no Brasil e no mundo. O que influciará se os números irão continuar crescendo são as políticas públicas de cada país.\n",
        "\n",
        "No mais, lavem as mãos, usem álcool em gel, máscara e evitem aglomerações."
      ]
    }
  ]
}
