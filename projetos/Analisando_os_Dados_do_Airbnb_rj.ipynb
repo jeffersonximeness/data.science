{
  "nbformat": 4,
  "nbformat_minor": 0,
  "metadata": {
    "colab": {
      "name": "Analisando os Dados do Airbnb.ipynb",
      "provenance": [],
      "collapsed_sections": []
    },
    "kernelspec": {
      "name": "python3",
      "display_name": "Python 3"
    }
  },
  "cells": [
    {
      "cell_type": "markdown",
      "metadata": {
        "id": "kLI0gJtzDGuQ"
      },
      "source": [
        "### Projeto inspirado por:   \n",
        "<img alt=\"Colaboratory logo\" width=\"15%\" src=\"https://raw.githubusercontent.com/carlosfab/escola-data-science/master/img/novo_logo_bg_claro.png\">\n",
        "\n",
        "<img src="https://lh3.googleusercontent.com/proxy/uP_u2PxLa1MBfOviUX50nB2G84qlKKwPu21qTMGWZlZjAn43stKAOpHn-1KCe0A1c7RpWFub5PSIJWnz6m9Adn6YV0VLwFJcP7WjlgvzkJM52AeyjRjhLApsshTJ9EhRLcZssgb6CQ" >",
        "# Análise dos Dados do Airbnb - *Rio de Janeiro*\n",
        "\n",
        "O [Airbnb](https://www.airbnb.com.br/) é um serviço online para as pessoas anunciarem, descobrirem e reservarem meios de hospedagem. Ele já é considerado como sendo a **maior empresa hoteleira da atualidade**, mas o detalhe é que ele **não possui nenhum hotel**!\n",
        "\n",
        "No final de 2018, a Startup fundada 10 anos atrás, já havia **hospedado mais de 300 milhões** de pessoas ao redor de todo o mundo, desafiando as redes hoteleiras tradicionais.\n",
        "\n",
        "Uma das iniciativas do Airbnb é disponibilizar dados do site, para algumas das principais cidades do mundo. Por meio do portal [Inside Airbnb](http://insideairbnb.com/get-the-data.html), é possível baixar uma grande quantidade de dados para desenvolver projetos e soluções de *Data Science*.\n",
        "\n",
        "<center><img alt=\"Analisando Airbnb\" width=\"10%\" src=\"https://www.area360.com.au/wp-content/uploads/2017/09/airbnb-logo.jpg\"></center>\n",
        "\n",
        "**Neste *notebook*, iremos analisar os dados referentes à cidade Rio de Janeiro, e ver quais insights podem ser extraídos a partir de dados brutos.**"
      ]
    },
    {
      "cell_type": "markdown",
      "metadata": {
        "id": "0zxQHhIUDF_2"
      },
      "source": [
        "## Obtenção dos Dados\n",
        "Os dados usados nesse projeto foram obtidos a partir do portal [Inside Airbnb](http://insideairbnb.com/get-the-data.html).\n",
        "\n",
        "Para a análise exploratória dos dados, iremos usar o seguinte arquivo:\n",
        "* `listings.csv` - *Summary information and metrics for listings in Rio de Janeiro (good for visualisations).*\n",
        "\n"
      ]
    },
    {
      "cell_type": "code",
      "metadata": {
        "id": "Vhp2wMPgJ6zX"
      },
      "source": [
        "# importar os pacotes necessarios\n",
        "import pandas as pd\n",
        "import matplotlib.pyplot as plt\n",
        "import seaborn as sns\n",
        "\n",
        "%matplotlib inline "
      ],
      "execution_count": null,
      "outputs": []
    },
    {
      "cell_type": "code",
      "metadata": {
        "id": "tUmoAT8DLQ5T"
      },
      "source": [
        "# importar o arquivo listings.csv para um DataFrame\n",
        "df = pd.read_csv('http://data.insideairbnb.com/brazil/rj/rio-de-janeiro/2020-04-20/visualisations/listings.csv')"
      ],
      "execution_count": null,
      "outputs": []
    },
    {
      "cell_type": "markdown",
      "metadata": {
        "id": "qb5By2nIMS6m"
      },
      "source": [
        "## Análise dos Dados\n",
        "\n",
        "O objetivo dessa etapa é criar uma consciência da atual situação e entendermos como nossos dados estão estruturados."
      ]
    },
    {
      "cell_type": "markdown",
      "metadata": {
        "id": "RYgvuebKNg8-"
      },
      "source": [
        "**Dicionário das variáveis**\n",
        "\n",
        "* `id` - número de id gerado para identificar o imóvel\n",
        "* `name` - nome da propriedade anunciada\n",
        "* `host_id` - número de id do proprietário (anfitrião) da propriedade\n",
        "* `host_name` - Nome do anfitrião\n",
        "* `neighbourhood_group` - esta coluna não contém nenhum valor válido\n",
        "* `neighbourhood` - nome do bairro\n",
        "* `latitude` - coordenada da latitude da propriedade\n",
        "* `longitude` - coordenada da longitude da propriedade\n",
        "* `room_type` - informa o tipo de quarto que é oferecido\n",
        "* `price` - preço para alugar o imóvel\n",
        "* `minimum_nights` - quantidade mínima de noites para reservar\n",
        "* `number_of_reviews` - número de reviews que a propriedade possui\n",
        "* `last_review` - data do último review\n",
        "* `reviews_per_month` - quantidade de reviews por mês\n",
        "* `calculated_host_listings_count` - quantidade de imóveis do mesmo anfitrião\n",
        "* `availability_365` - número de dias de disponibilidade dentro de 365 dias\n",
        "\n",
        "Antes de iniciar qualquer análise, vamos verificar a cara do nosso *dataset*, analisando as 5 primeiras entradas."
      ]
    },
    {
      "cell_type": "code",
      "metadata": {
        "id": "2iS_dae7YQtO",
        "colab": {
          "base_uri": "https://localhost:8080/",
          "height": 479
        },
        "outputId": "f82789a8-120b-4ebf-d41f-9e50fa28d509"
      },
      "source": [
        "# mostrar as 5 primeiras entradas\n",
        "df.head()"
      ],
      "execution_count": null,
      "outputs": [
        {
          "output_type": "execute_result",
          "data": {
            "text/html": [
              "<div>\n",
              "<style scoped>\n",
              "    .dataframe tbody tr th:only-of-type {\n",
              "        vertical-align: middle;\n",
              "    }\n",
              "\n",
              "    .dataframe tbody tr th {\n",
              "        vertical-align: top;\n",
              "    }\n",
              "\n",
              "    .dataframe thead th {\n",
              "        text-align: right;\n",
              "    }\n",
              "</style>\n",
              "<table border=\"1\" class=\"dataframe\">\n",
              "  <thead>\n",
              "    <tr style=\"text-align: right;\">\n",
              "      <th></th>\n",
              "      <th>id</th>\n",
              "      <th>name</th>\n",
              "      <th>host_id</th>\n",
              "      <th>host_name</th>\n",
              "      <th>neighbourhood_group</th>\n",
              "      <th>neighbourhood</th>\n",
              "      <th>latitude</th>\n",
              "      <th>longitude</th>\n",
              "      <th>room_type</th>\n",
              "      <th>price</th>\n",
              "      <th>minimum_nights</th>\n",
              "      <th>number_of_reviews</th>\n",
              "      <th>last_review</th>\n",
              "      <th>reviews_per_month</th>\n",
              "      <th>calculated_host_listings_count</th>\n",
              "      <th>availability_365</th>\n",
              "    </tr>\n",
              "  </thead>\n",
              "  <tbody>\n",
              "    <tr>\n",
              "      <th>0</th>\n",
              "      <td>17878</td>\n",
              "      <td>Very Nice 2Br - Copacabana - WiFi</td>\n",
              "      <td>68997</td>\n",
              "      <td>Matthias</td>\n",
              "      <td>NaN</td>\n",
              "      <td>Copacabana</td>\n",
              "      <td>-22.96592</td>\n",
              "      <td>-43.17896</td>\n",
              "      <td>Entire home/apt</td>\n",
              "      <td>218</td>\n",
              "      <td>5</td>\n",
              "      <td>251</td>\n",
              "      <td>2020-04-06</td>\n",
              "      <td>2.11</td>\n",
              "      <td>1</td>\n",
              "      <td>0</td>\n",
              "    </tr>\n",
              "    <tr>\n",
              "      <th>1</th>\n",
              "      <td>21280</td>\n",
              "      <td>Renovated Modern Apt. Near Beach</td>\n",
              "      <td>81163</td>\n",
              "      <td>Jules</td>\n",
              "      <td>NaN</td>\n",
              "      <td>Ipanema</td>\n",
              "      <td>-22.98467</td>\n",
              "      <td>-43.19611</td>\n",
              "      <td>Entire home/apt</td>\n",
              "      <td>422</td>\n",
              "      <td>5</td>\n",
              "      <td>94</td>\n",
              "      <td>2020-03-22</td>\n",
              "      <td>1.25</td>\n",
              "      <td>1</td>\n",
              "      <td>69</td>\n",
              "    </tr>\n",
              "    <tr>\n",
              "      <th>2</th>\n",
              "      <td>25026</td>\n",
              "      <td>Beautiful Modern Decorated Studio in Copa</td>\n",
              "      <td>102840</td>\n",
              "      <td>Viviane</td>\n",
              "      <td>NaN</td>\n",
              "      <td>Copacabana</td>\n",
              "      <td>-22.97712</td>\n",
              "      <td>-43.19045</td>\n",
              "      <td>Entire home/apt</td>\n",
              "      <td>158</td>\n",
              "      <td>7</td>\n",
              "      <td>238</td>\n",
              "      <td>2020-02-15</td>\n",
              "      <td>1.98</td>\n",
              "      <td>3</td>\n",
              "      <td>95</td>\n",
              "    </tr>\n",
              "    <tr>\n",
              "      <th>3</th>\n",
              "      <td>31560</td>\n",
              "      <td>NICE &amp; COZY 1BDR - IPANEMA BEACH</td>\n",
              "      <td>135635</td>\n",
              "      <td>Renata</td>\n",
              "      <td>NaN</td>\n",
              "      <td>Ipanema</td>\n",
              "      <td>-22.98302</td>\n",
              "      <td>-43.21427</td>\n",
              "      <td>Entire home/apt</td>\n",
              "      <td>342</td>\n",
              "      <td>2</td>\n",
              "      <td>282</td>\n",
              "      <td>2020-03-02</td>\n",
              "      <td>2.37</td>\n",
              "      <td>1</td>\n",
              "      <td>0</td>\n",
              "    </tr>\n",
              "    <tr>\n",
              "      <th>4</th>\n",
              "      <td>35636</td>\n",
              "      <td>Cosy flat close to Ipanema beach</td>\n",
              "      <td>153232</td>\n",
              "      <td>Patricia</td>\n",
              "      <td>NaN</td>\n",
              "      <td>Ipanema</td>\n",
              "      <td>-22.98816</td>\n",
              "      <td>-43.19359</td>\n",
              "      <td>Entire home/apt</td>\n",
              "      <td>479</td>\n",
              "      <td>2</td>\n",
              "      <td>181</td>\n",
              "      <td>2020-03-15</td>\n",
              "      <td>2.29</td>\n",
              "      <td>1</td>\n",
              "      <td>358</td>\n",
              "    </tr>\n",
              "  </tbody>\n",
              "</table>\n",
              "</div>"
            ],
            "text/plain": [
              "      id  ... availability_365\n",
              "0  17878  ...                0\n",
              "1  21280  ...               69\n",
              "2  25026  ...               95\n",
              "3  31560  ...                0\n",
              "4  35636  ...              358\n",
              "\n",
              "[5 rows x 16 columns]"
            ]
          },
          "metadata": {
            "tags": []
          },
          "execution_count": 4
        }
      ]
    },
    {
      "cell_type": "markdown",
      "metadata": {
        "id": "6-B_qtEaYEd-"
      },
      "source": [
        "### **Q1. Quantos atributos (variáveis) e quantas entradas o nosso conjunto de dados possui? Quais os tipos das variáveis?**"
      ]
    },
    {
      "cell_type": "code",
      "metadata": {
        "id": "TFRK0tniLV-G",
        "colab": {
          "base_uri": "https://localhost:8080/",
          "height": 340
        },
        "outputId": "ecb4e12c-3bce-47e2-94c4-83799f16cec6"
      },
      "source": [
        "# identificar o volume de dados do DataFrame\n",
        "print(f'Entradas:\\t {df.shape[0]}')\n",
        "print(f'Variáveis:\\t {df.shape[1]}')\n",
        "\n",
        "# verificar as 5 primeiras entradas do dataset\n",
        "display(df.dtypes)"
      ],
      "execution_count": null,
      "outputs": [
        {
          "output_type": "stream",
          "text": [
            "Entradas:\t 35870\n",
            "Variáveis:\t 16\n"
          ],
          "name": "stdout"
        },
        {
          "output_type": "display_data",
          "data": {
            "text/plain": [
              "id                                  int64\n",
              "name                               object\n",
              "host_id                             int64\n",
              "host_name                          object\n",
              "neighbourhood_group               float64\n",
              "neighbourhood                      object\n",
              "latitude                          float64\n",
              "longitude                         float64\n",
              "room_type                          object\n",
              "price                               int64\n",
              "minimum_nights                      int64\n",
              "number_of_reviews                   int64\n",
              "last_review                        object\n",
              "reviews_per_month                 float64\n",
              "calculated_host_listings_count      int64\n",
              "availability_365                    int64\n",
              "dtype: object"
            ]
          },
          "metadata": {
            "tags": []
          }
        }
      ]
    },
    {
      "cell_type": "markdown",
      "metadata": {
        "id": "yz1urSUGW9iE"
      },
      "source": [
        "### **Q2. Qual a porcentagem de valores ausentes no *dataset*?**\n",
        "A qualidade dos dados está diretamente relacionada à quantidade de valores ausentes/nulos. Por isso é muito importante entender se esses valores são significativos comparados ao total de entradas.\n",
        "\n",
        "* A coluna neighbourhood_group está com 100% dos seus valores ausentes.\n",
        "* As variáveis *reviews_per_month* e *last_review* possuem quase metade dos valores ausentes.\n",
        "* Já a coluna *name* possui aproximadamente 0,1% dos seus valores nulos e por sua vez *host_name* possui ainda menos que isso, aproximadamente 0,01% "
      ]
    },
    {
      "cell_type": "code",
      "metadata": {
        "id": "plk2FjbCXOqP",
        "colab": {
          "base_uri": "https://localhost:8080/"
        },
        "outputId": "952b311c-2a9c-45f8-b630-17e42624e6bf"
      },
      "source": [
        "# ordenar em ordem decrescente as variáveis por seus valores ausentes\n",
        "(df.isnull().sum() / df.shape[0]).sort_values(ascending = False)"
      ],
      "execution_count": null,
      "outputs": [
        {
          "output_type": "execute_result",
          "data": {
            "text/plain": [
              "neighbourhood_group               1.000000\n",
              "reviews_per_month                 0.411653\n",
              "last_review                       0.411653\n",
              "name                              0.001617\n",
              "host_name                         0.000139\n",
              "availability_365                  0.000000\n",
              "calculated_host_listings_count    0.000000\n",
              "number_of_reviews                 0.000000\n",
              "minimum_nights                    0.000000\n",
              "price                             0.000000\n",
              "room_type                         0.000000\n",
              "longitude                         0.000000\n",
              "latitude                          0.000000\n",
              "neighbourhood                     0.000000\n",
              "host_id                           0.000000\n",
              "id                                0.000000\n",
              "dtype: float64"
            ]
          },
          "metadata": {
            "tags": []
          },
          "execution_count": 11
        }
      ]
    },
    {
      "cell_type": "markdown",
      "metadata": {
        "id": "iHXvvHIxaoNc"
      },
      "source": [
        "### **Q3. Qual o tipo de distribuição das variáveis?** "
      ]
    },
    {
      "cell_type": "code",
      "metadata": {
        "id": "q2wWSfeRbmBo",
        "colab": {
          "base_uri": "https://localhost:8080/",
          "height": 607
        },
        "outputId": "2867b0ae-3204-488d-d6d9-7ef95de65edd"
      },
      "source": [
        "# plotar o histograma das variáveis numéricas\n",
        "df.hist(bins = 15, figsize = (15, 10));"
      ],
      "execution_count": null,
      "outputs": [
        {
          "output_type": "display_data",
          "data": {
            "image/png": "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\n",
            "text/plain": [
              "<Figure size 1080x720 with 12 Axes>"
            ]
          },
          "metadata": {
            "tags": [],
            "needs_background": "light"
          }
        }
      ]
    },
    {
      "cell_type": "markdown",
      "metadata": {
        "id": "7x4aw1j5wNmn"
      },
      "source": [
        "### **Q4. Verificando a presença de *outliers***\n",
        "Pela distribuição do histograma, é possível verificar indícios da presença de *outliers*. Olhe por exemplo as variáveis `price`, `minimum_nights` e `calculated_host_listings_count`.\n",
        "\n",
        "Os valores não seguem uma distribuição, e distorcem toda a representação gráfica. Para confirmar, há duas maneiras rápidas que auxiliam a detecção de *outliers*. São elas:\n",
        "\n",
        "* Resumo estatístico por meio do método `describe()`\n",
        "* Plotar `boxplots` para a variável."
      ]
    },
    {
      "cell_type": "code",
      "metadata": {
        "id": "ff-8gUahLk-C",
        "colab": {
          "base_uri": "https://localhost:8080/",
          "height": 297
        },
        "outputId": "5421cf53-7afd-4eea-db0f-1b8db82cada5"
      },
      "source": [
        "# ver a média da coluna `price``\n",
        "df[['price', 'minimum_nights', 'number_of_reviews', 'reviews_per_month',\n",
        "    'calculated_host_listings_count', 'availability_365']].describe()"
      ],
      "execution_count": null,
      "outputs": [
        {
          "output_type": "execute_result",
          "data": {
            "text/html": [
              "<div>\n",
              "<style scoped>\n",
              "    .dataframe tbody tr th:only-of-type {\n",
              "        vertical-align: middle;\n",
              "    }\n",
              "\n",
              "    .dataframe tbody tr th {\n",
              "        vertical-align: top;\n",
              "    }\n",
              "\n",
              "    .dataframe thead th {\n",
              "        text-align: right;\n",
              "    }\n",
              "</style>\n",
              "<table border=\"1\" class=\"dataframe\">\n",
              "  <thead>\n",
              "    <tr style=\"text-align: right;\">\n",
              "      <th></th>\n",
              "      <th>price</th>\n",
              "      <th>minimum_nights</th>\n",
              "      <th>number_of_reviews</th>\n",
              "      <th>reviews_per_month</th>\n",
              "      <th>calculated_host_listings_count</th>\n",
              "      <th>availability_365</th>\n",
              "    </tr>\n",
              "  </thead>\n",
              "  <tbody>\n",
              "    <tr>\n",
              "      <th>count</th>\n",
              "      <td>35870.000000</td>\n",
              "      <td>35870.000000</td>\n",
              "      <td>35870.000000</td>\n",
              "      <td>21104.000000</td>\n",
              "      <td>35870.000000</td>\n",
              "      <td>35870.000000</td>\n",
              "    </tr>\n",
              "    <tr>\n",
              "      <th>mean</th>\n",
              "      <td>753.686367</td>\n",
              "      <td>4.781851</td>\n",
              "      <td>9.822972</td>\n",
              "      <td>0.652248</td>\n",
              "      <td>6.613995</td>\n",
              "      <td>180.371815</td>\n",
              "    </tr>\n",
              "    <tr>\n",
              "      <th>std</th>\n",
              "      <td>2229.366334</td>\n",
              "      <td>22.471085</td>\n",
              "      <td>25.827647</td>\n",
              "      <td>0.823388</td>\n",
              "      <td>22.769663</td>\n",
              "      <td>152.510778</td>\n",
              "    </tr>\n",
              "    <tr>\n",
              "      <th>min</th>\n",
              "      <td>0.000000</td>\n",
              "      <td>1.000000</td>\n",
              "      <td>0.000000</td>\n",
              "      <td>0.010000</td>\n",
              "      <td>1.000000</td>\n",
              "      <td>0.000000</td>\n",
              "    </tr>\n",
              "    <tr>\n",
              "      <th>25%</th>\n",
              "      <td>158.000000</td>\n",
              "      <td>1.000000</td>\n",
              "      <td>0.000000</td>\n",
              "      <td>0.130000</td>\n",
              "      <td>1.000000</td>\n",
              "      <td>0.000000</td>\n",
              "    </tr>\n",
              "    <tr>\n",
              "      <th>50%</th>\n",
              "      <td>298.000000</td>\n",
              "      <td>2.000000</td>\n",
              "      <td>1.000000</td>\n",
              "      <td>0.340000</td>\n",
              "      <td>1.000000</td>\n",
              "      <td>178.000000</td>\n",
              "    </tr>\n",
              "    <tr>\n",
              "      <th>75%</th>\n",
              "      <td>632.000000</td>\n",
              "      <td>4.000000</td>\n",
              "      <td>6.000000</td>\n",
              "      <td>0.830000</td>\n",
              "      <td>3.000000</td>\n",
              "      <td>363.000000</td>\n",
              "    </tr>\n",
              "    <tr>\n",
              "      <th>max</th>\n",
              "      <td>131727.000000</td>\n",
              "      <td>1123.000000</td>\n",
              "      <td>399.000000</td>\n",
              "      <td>9.570000</td>\n",
              "      <td>200.000000</td>\n",
              "      <td>365.000000</td>\n",
              "    </tr>\n",
              "  </tbody>\n",
              "</table>\n",
              "</div>"
            ],
            "text/plain": [
              "               price  ...  availability_365\n",
              "count   35870.000000  ...      35870.000000\n",
              "mean      753.686367  ...        180.371815\n",
              "std      2229.366334  ...        152.510778\n",
              "min         0.000000  ...          0.000000\n",
              "25%       158.000000  ...          0.000000\n",
              "50%       298.000000  ...        178.000000\n",
              "75%       632.000000  ...        363.000000\n",
              "max    131727.000000  ...        365.000000\n",
              "\n",
              "[8 rows x 6 columns]"
            ]
          },
          "metadata": {
            "tags": []
          },
          "execution_count": 14
        }
      ]
    },
    {
      "cell_type": "markdown",
      "metadata": {
        "id": "a8LtvUtW_iAt"
      },
      "source": [
        "Olhando o resumo estatístico acima, podemos confirmar algumas hipóteses como:\n",
        "\n",
        "* A variável `price` possui 75% do valor abaixo de 632, porém seu valor máximo é 131727.\n",
        "* A quantidade mínima de noites (`minimum_nights`) está acima de 365 dias no ano.\n",
        "\n",
        "#### Boxplot para minimum_nights"
      ]
    },
    {
      "cell_type": "code",
      "metadata": {
        "colab": {
          "base_uri": "https://localhost:8080/",
          "height": 262
        },
        "id": "F8g-_x1XD1Zd",
        "outputId": "945546ee-3205-408a-ce4d-8a7c602acb0b"
      },
      "source": [
        "# criar uma matriz de correlação\n",
        "df.minimum_nights.plot(kind = 'box', vert = False, figsize = (15, 3))\n",
        "plt.show()\n",
        "\n",
        "# mostrar a matriz de correlação\n",
        "print('Valores acima de 30 em minimun_nights: ')\n",
        "print(f'{len(df[df.minimum_nights > 30])} entradas')\n",
        "print(f'{(len(df[df.minimum_nights > 30]) / df.shape[0]) * 100:.4f}%')"
      ],
      "execution_count": null,
      "outputs": [
        {
          "output_type": "display_data",
          "data": {
            "image/png": "iVBORw0KGgoAAAANSUhEUgAAA60AAADCCAYAAACi7yTNAAAABHNCSVQICAgIfAhkiAAAAAlwSFlzAAALEgAACxIB0t1+/AAAADh0RVh0U29mdHdhcmUAbWF0cGxvdGxpYiB2ZXJzaW9uMy4yLjIsIGh0dHA6Ly9tYXRwbG90bGliLm9yZy+WH4yJAAAT70lEQVR4nO3dfZBdZ30f8O9ztcsKbMasbGEb9LLKhGnESmocVJeYtGPizCqJGUFbtU1LxyYxzYwmcgOtaSzTGScz5W2GjRMmDJqEgEkncptxM2mKZxpDFqZVW9HKNcEOTmrGNYQYgqgRBaVThfbpH/eFu6tdrVaW9j67+/nM3PE9788553eevV+de65LrTUAAADQos6oGwAAAABLEVoBAABoltAKAABAs4RWAAAAmiW0AgAA0CyhFQAAgGaNjboBdF133XV1ampq1M0AAAAYiccee+zrtdatC8cLrY2YmprKqVOnRt0MAACAkSilfHGx8b4eDAAAQLOEVgAAAJoltAIAANAsoRUAAIBmCa0AAAA0S2gFAACgWUIrAAAAzRJaAQAAaJbQCgAAQLOEVgAAAJoltAIAANAsoRUAAIBmCa0AAAA0S2gFAACgWUIrAAAAzRJaAQAAaJbQCgAAQLOEVgAAAJoltAIAANAsoRUAAIBmCa0AAAA0S2gFAACgWUIrAAAAzRJaAQAAaJbQCgAAQLOEVgAAAJoltAIAANAsoRUAAIBmCa0AAAA0S2gFAACgWUIrAAAAzRJaAQAAaJbQCgAAQLOEVgAAAJoltAIAANAsoRUAAIBmCa0AAAA0S2gFAACgWUIrAAAAzRJaAQAAaJbQCgAAQLOEVgAAAJoltAIAANAsoRUAAIBmCa0AAAA0S2gFAACgWUIrAAAAzRJaAQAAaJbQCgAAQLOEVgAAAJoltAIAANAsoRUAAIBmCa0AAAA0S2gFAACgWUIrAAAAzRJaAQAAaJbQCgAAQLOEVgAAAJoltAIAANAsoRUAAIBmCa0AAAA0S2gFAACgWUIrAAAAzRJaAQAAaJbQCgAAQLOEVgAAAJoltAIAANCssVE3gLbt/djefOup9+aaF4/nD+6fGXVzAACADcadVpb17Htvzzf/91+MuhkAAMAGJLQCAADQLKEVAACAZgmtAAAANEtoBQAAoFlCKytSShl1EwAAgA1EaAUAAKBZQisAAADNElq5aP2vBpdSrsir0+lk37592bNnTzZt2pRrr702mzZtuujlF/PQQw9lz5496XQ689Y1Pj6eAwcODLa12Po2bdqUPXv2ZMeOHfPG79u3b966+/M99NBDg+12Op3z9u2FWmx7F2rDcssvdRzHx8dz9913L7mO7du3D+bdvn37YJsract6srA+duzYkWQ0x2OxbY6Pj1/StbOWtFp7+/btW7Tv4PJo9byPyt13353NmzenlJLNmzcv2Y/Tvoup7ZXW/1q+Xg4cODD4XNXpdHLgwIFRN2nVXc7zt2Zrodb6gl9JDia5d5l5XpHk4cuxvSvxSrI/yQeWmWcqyZNLTHtLkldc6vZf85rX1BbteXBPrbXWJFf09frXv77edtttNUndv39/PXz4cC2l1E6nU3fu3DmYb/PmzfOWu+OOO+YNDzt+/HjdtWtXfec731lf+tKX1k6nUycnJ+s73vGOetVVV9Uk9U1vetO85bdv3z5veNeuXTVJvemmm+rp06frwYMHB/Pt2rWrzs3N1XPnztW5ubm6a9euevz48VpKGbT15MmTgzaXUi75PPT3ZXh7W7durVu3bl20DcstP7yPmzZtmjd81VVX1U6nU48cOXLeOrZu3VpvvPHG+uijj9ZHH3203nDDDXXr1q31yJEjSx6P9axfL7fcckt97rnn6i233FKT1C1btqz68VisRvrndHJysr7nPe+Zd57f+ta3LnntrCWL7XcLtbd3796apB48eHBe37F3796Rtmu9aPW8j8qRI0fq2NhYnZ2drWfPnq2zs7N1bGzsvH6c9l1Mba+0/tfy9TIzM1OT1MOHD9czZ87Uw4cP1yR1ZmZm1E1bNZfz/K2FWkhyqi6WtRYb6XVJofXTSfZf6ro3cmidnJyspZQ6PT1dDx48WEspdWJiot5www11dnZ20Fn13/df/RA4/OF82PT0dJ2bm6vT09N1fHy8zs7ODoanpqbq5ORknZiYGCw7NzdXJyYm5q2vH0imp6cH6+1/+Jybm5u3vf66+4F1WD+4Xqr+vgybmpqqU1NTi7ZhueX7+zY+Pj44Np1OpyapU1NT9frrr68TExPnrWNqamreeubm5urU1NTguF1MW9aTfn0M6wfX1T4ei9XI8HXSr83ha2Wpa2ctWWy/W6i9fmAd1u87eOFaPe+jMjExUWdnZ+eNm52dPa8fp30XU9srrf+1fL2UUurhw4fnjevf2NgoLuf5Wwu1cMmhtRfU/ijJg0n+e5LfTPIjSf5jkqeT3JzuXcZf6c3/YJIPJPlPSZ5JcmhoPU/23r8lye8k+USSZ5McSfKPkzye5GSSLXVBEExyXZJnV7L8Evvz6STvS/Jfevvz13rjb03y8d77rb11/2GSDyf5Ym/7U0meSvJrvWmPJnlxkkNJvp3kj5N8tjfuvUk+n+RzSd6/RFt+OsmpJKd27Nhx5avgEqzWndYktdPp1NOnT88bPnv2bE1Sz5w5M3ifpN53332DD3/Ddw6HdTqdeu7cuUEYO3v27GC4P67/uv322wfrOXfuXL399tsH05577rna6XQG6+238dy5c/O2N7ytkydPzpt28uTJF/Rhtb8vw/p3ohdrw3LLLzz2Z8+erZ/85CcHIWep47lwPefOnRvMv9TxWM/69THsueeeG8nxWKxGhs9jvzbf/va3L3vtrCWL7XcLtZeknj59et64ft/BC9fqeR+Vfj8+rP83k7XlYmp7pfW/lq+X/mfAYWfOnNlQtX05z99aqIUsEVov9kG7700ym+T7eq+/n+SHktyT5L5F5r+xN/0N6Ya3xexJ8jeT/JUk70ry57XWm5L85yR3XESbXsjyY7XWm5O8Lcn9i0y/P8lcrXU6ycNJdgxNe1WSD/amnUnyt2qtD6cbPt9ca/3+JC9J8jeSTNda9yX554s1otb6q7XW/bXW/Vu3br2IXV6fJicnU0rJ7t27c9ddd6WUkomJibz85S/PsWPHkiRHjx4dvE+Sd7/73YNn8U6cOLHoenfv3p0TJ05k9+7dGR8fz7FjxwbDO3bsyOTkZCYmJpIkjzzySE6cOJGJiYmcOHEijzzyyGA9hw4dyu7duwfDd91116Lb7a87SW699dZ50xYOr1R/X4bt3Llz8PzkYm1YbvkkGR8fHxybmZmZwXqvv/76wbEZXseOHTvmrefEiRPZuXPn4LhdTFvWm0OHDi06vNrHY6lz3L9O+tt+4IEH5rVprVtsv1upvX5fsdQwl67l8z4KExMT8/5GJsmxY8fO68dp38XU9krrfy1fL6WUHD16dN64o0eProvfY7hYl/P8reVauNg7rU8PDf9GuuEsSb4n3TuLb8n8O61vHpr/W0PrGb7T+mtD83wpySt7738qyS/V5e+0Lrv8Evvz6SSv672/PskX6vl3Wj+bZNfQMs/nu3dah4/FzyX5Z4u0dSzJHyT5SLrB+kXLHeeN/PXgxDOty/FMa5s80zp6rT6f45nWK6vV8z4qnmldPzzTOp9nWj3T2n+t+DnOdEPpvK/85vzQemho/m8vXM/w/L3hZ5Nct3Bakk8mubn3flvmh9Zll19ifz6dxYPwrbm40Dp8LO5J8vML19sbnkjy4+kG17nljnProXXnz338igfXUkrdu3dvnZ6erp1Op27ZsuW8r/Fe6LWY48eP1+np6UEA7s87NjZWZ2ZmBttabH2dTqdOT0+fF2T7Hzr76+7PN3zBD3/Ftr9vL9Ri27tQG5ZbfqnjeKEPOsePH6/btm0bzLtt27bBNlfSlvVkYX1s37691jqa47HYNsfGxi7p2llLWq29fnBd2HdwebR63kflyJEjg99pmJiYEFjXsIup7ZXW/1q+XmZmZgafq0opGyqw9l3O89d6LWSJ0Fq605ZWSpnqhbk9veEHe8MP96cleX8vsB0Znt6b/9u11quH11NKeUt//t48z/aGvz48rZTy4SSP1Vo/VEp5W5K31VqnLnb5Jfbn00nuqbWeKqVc1zswU6WUW3vj31BK+WCSL9Va31dKmUnye+k+53r1gmNxT5Kra60/X0r5t0l+sdb6qVLK1UleUmv9WinlmiTP1FqvvdBx3r9/fz116tQFz8Uo7P3Y3jxx5xOZuveRPPve21NKyXI1AwAAsFKllMdqrfsXjm/9/9P6/iSHSymPp3unc7X8QpKZUsqTSf52kq8m+dYyyzyY5Fgp5bNJXprk46WUzyU5ke6PRAEAALBCy95p3YhKKRNJ/m+t9TullB9M8qHa/YGlK8adVgAAYCNb6k7r2CgaswbsSPJbpZROknNJ/uGI29MMgRUAAFhN6za09p5Lfd2C0b9ca/3ocsvWWp9OctMVaRgAAAAXbd2G1lrrz4y6DQAAALwwrf8QEwAAABuY0AoAAECzhFaWNXXvI7nmxeOjbgYAALABrdtnWrk8nrjziVE3AQAA2MDcaQUAAKBZQisAAADNEloBAABoltAKAABAs4RWAAAAmiW0AgAA0CyhFQAAgGYJrQAAADRLaAUAAKBZQisAAADNEloBAABoltAKAABAs4RWAAAAmiW0AgAA0CyhFQAAgGYJrQAAADRLaAUAAKBZQisAAADNEloBAABoltAKAABAs4RWAAAAmiW0AgAA0CyhFQAAgGYJrQAAADRLaAUAAKBZQisAAADNEloBAABoltAKAABAs4RWAAAAmiW0AgAA0CyhFQAAgGYJrQAAADRLaAUAAKBZQisAAADNEloBAABoltAKAABAs4RWAAAAmiW0AgAA0CyhFQAAgGYJrQAAADRLaAUAAKBZQisAAADNEloBAABoltAKAABAs4RWAAAAmiW0AgAA0CyhFQAAgGYJrQAAADRLaAUAAKBZQisAAADNEloBAABoltAKAABAs4RWAAAAmiW0AgAA0CyhFQAAgGYJrQAAADRLaAUAAKBZQisAAADNEloBAABoltAKAABAs4RWAAAAmiW0AgAA0CyhFQAAgGYJrQAAADRLaAUAAKBZQisAAADNEloBAABoltAKAABAs0qtddRtIEkp5XSSL466HQtcl+Tro24EzVIfLEVtcCHqgwtRHyxFbWwMO2utWxeOFFpZUinlVK11/6jbQZvUB0tRG1yI+uBC1AdLURsbm68HAwAA0CyhFQAAgGYJrVzIr466ATRNfbAUtcGFqA8uRH2wFLWxgXmmFQAAgGa50woAAECzhFYWVUr50VLKH5dSvlBKuXfU7WF1lVK2l1I+VUr5fCnlD0spP9sbv6WU8olSytO9/072xpdSygd69fK5UsoPjHYPuNJKKZtKKY+XUj7eG95VSvlMrwb+VSnlRb3xE73hL/SmT42y3Vx5pZSXlVIeLqX8USnlqVLKD+o76CulvL33d+XJUspDpZTN+o+Nq5TykVLK10opTw6NW3F/UUq5szf/06WUO0exL1xZQivnKaVsSvLBJD+W5NVJ/l4p5dWjbRWr7DtJ/kmt9dVJXpvkZ3o1cG+S36+1virJ7/eGk26tvKr3+ukkH1r9JrPKfjbJU0PD70vyQK31e5N8I8ldvfF3JflGb/wDvflY3345yb+rtX5fkr+cbp3oO0gp5ZVJ/lGS/bXWPUk2JfmJ6D82sgeT/OiCcSvqL0opW5Lcn+SvJrk5yf39oMv6IbSymJuTfKHW+kyt9VySf5nkjSNuE6uo1vqVWut/673/VrofOl+Zbh18rDfbx5K8qff+jUl+o3adTPKyUsqNq9xsVkkpZVuS25N8uDdckvxwkod7syysjX7NPJzktt78rEOllGuS/PUkv54ktdZztdYz0XfwXWNJXlxKGUvykiRfif5jw6q1/vskzy8YvdL+4kCST9Ran6+1fiPJJ3J+EGaNE1pZzCuT/MnQ8Jd749iAel/HuinJZ5JcX2v9Sm/SV5Nc33uvZjaWX0ryT5P8v97wtUnO1Fq/0xsePv+D2uhN/2ZvftanXUlOJ/lo7+vjHy6lXBV9B0lqrX+a5P1JvpRuWP1mksei/2C+lfYX+pENQGgFllRKuTrJv07ytlrr/xqeVrs/Pe7nxzeYUsobknyt1vrYqNtCk8aS/ECSD9Vab0pyNt/9al8SfcdG1vvK5hvT/ceNVyS5Ku6IcQH6C/qEVhbzp0m2Dw1v641jAymljKcbWH+z1vrbvdF/1v/qXu+/X+uNVzMbx+uSHCylPJvuowM/nO4zjC/rfd0vmX/+B7XRm35Nkv+5mg1mVX05yZdrrZ/pDT+cbojVd5AkP5Lkf9RaT9da/yLJb6fbp+g/GLbS/kI/sgEIrSzmvyZ5Ve/X/F6U7o8k/O6I28Qq6j0z9OtJnqq1/uLQpN9N0v9VvjuT/Juh8Xf0ftnvtUm+OfTVHtaRWuvRWuu2WutUun3DXK31zUk+leRQb7aFtdGvmUO9+f2r+TpVa/1qkj8ppfyl3qjbknw++g66vpTktaWUl/T+zvTrQ//BsJX2F7+XZKaUMtm7mz/TG8c6Ulz7LKaU8uPpPre2KclHaq3vGnGTWEWllB9K8h+SPJHvPrd4X7rPtf5Wkh1Jvpjk79Ran+99+PiVdL/m9edJfrLWemrVG86qKqXcmuSeWusbSinfk+6d1y1JHk/yD2qt/6eUsjnJv0j3uejnk/xErfWZUbWZK6+U8v3p/kjXi5I8k+Qn0/1Hcn0HKaX8QpK/m+6v1D+e5K3pPn+o/9iASikPJbk1yXVJ/izdXwH+naywvyil/FS6n1OS5F211o+u5n5w5QmtAAAANMvXgwEAAGiW0AoAAECzhFYAAACaJbQCAADQLKEVAACAZgmtAAAANEtoBQAAoFlCKwAAAM36/4kee3aCLeSSAAAAAElFTkSuQmCC\n",
            "text/plain": [
              "<Figure size 1080x216 with 1 Axes>"
            ]
          },
          "metadata": {
            "tags": [],
            "needs_background": "light"
          }
        },
        {
          "output_type": "stream",
          "text": [
            "Valores acima de 30 em minimun_nights: \n",
            "224 entradas\n",
            "0.6245%\n"
          ],
          "name": "stdout"
        }
      ]
    },
    {
      "cell_type": "markdown",
      "metadata": {
        "id": "PRoJ9EjuD-Rp"
      },
      "source": [
        "#### Boxplot para prices"
      ]
    },
    {
      "cell_type": "code",
      "metadata": {
        "colab": {
          "base_uri": "https://localhost:8080/",
          "height": 262
        },
        "id": "s_u60tbVEDJd",
        "outputId": "88600380-4d1a-420b-9d83-0b82e07165f7"
      },
      "source": [
        "# criar uma matriz de correlação\n",
        "df.price.plot(kind = 'box', vert = False, figsize = (15, 3))\n",
        "plt.show()\n",
        "\n",
        "# mostrar a matriz de correlação\n",
        "print('Valores acima de 30 em minimun_nights: ')\n",
        "print(f'{len(df[df.price > 1500])} entradas')\n",
        "print(f'{(len(df[df.price > 1500]) / df.shape[0]) * 100:.4f}%')"
      ],
      "execution_count": null,
      "outputs": [
        {
          "output_type": "display_data",
          "data": {
            "image/png": "iVBORw0KGgoAAAANSUhEUgAAA3MAAADCCAYAAADjN5s3AAAABHNCSVQICAgIfAhkiAAAAAlwSFlzAAALEgAACxIB0t1+/AAAADh0RVh0U29mdHdhcmUAbWF0cGxvdGxpYiB2ZXJzaW9uMy4yLjIsIGh0dHA6Ly9tYXRwbG90bGliLm9yZy+WH4yJAAATb0lEQVR4nO3df2xd12Ef8O95FE3ZcirRtkxppSTKQFbItL01VgbXLYYhDaTMcWX/4T8CuE2yeuigwcJ+1HHsacHQZX8kazRs3YYpRdpm3kI1ret2hYu2ysYCgzrEjdw1PxYnjZc4TZp0cdrZKdxiStCzP959r48UKZEiRfrQnw9wwHvPvfedc+95h49fvfueSq01AAAAtKW32R0AAABg9YQ5AACABglzAAAADRLmAAAAGiTMAQAANEiYAwAAaNC2ze7Apdx00011ZmZms7sBAACwKZ599tlv1lp3L7XtVR3mZmZmcv78+c3uBgAAwKYopXx5uW1uswQAAGiQMAcAANAgYQ4AAKBBwhwAAECDhDkAAIAGCXMAAAANEuYAAAAaJMwBAAA0SJgDAABokDAHAADQIGEOAACgQcIcAABAg4Q5AACABglzAAAADRLmAAAAGiTMAQAANEiYAwAAaJAwBwAA0CBhDgAAoEHCHAAAQIOEOQAAgAYJcwAAAA0S5gAAABokzAEAADRImAMAAGiQMAcAANAgYQ4AAKBBwhwAAECDhDkAAIAGCXMAAAANEuYAAAAaJMwBAAA0SJgDAABokDAHAADQIGEOAACgQcIcAABAg4Q5AACABglzAAAADRLmAAAAGiTMAQAANEiYAwAAaJAwBwAA0CBhDgAAoEHCHAAAQIOEOQAAgAYJcwAAAA0S5gAAABokzAEAADRImAMAAGiQMAcAANAgYQ4AAKBBwhwAAECDhDkAAIAGCXMAAAANEuYAAAAaJMwBAAA0SJgDAABokDAHAADQIGEOAACgQcIcAABAg4Q5AACABglzAAAADRLmAAAAGiTMAQAANEiYAwAAaJAwBwAA0CBhDgAAoEHbNrsDrfprP3E2fzHz4/nT596XndeO55P/7MhmdwkAAHgN8c7cFXr5z7+dJHnhfW8dLgMAAGwUYQ4AAKBBwhwAAECDhDkAAIAGCXMAAAANEuauQCllTdsBAADWSpgDAABokDAHAADQoHULc6WUf15KefN6PV6LSinDWywHy8r6lV6vt+J9x8bG1q3d8fHxnDhxImfOnMn27dsXbLvjjjuu6DkyWk6cOJHx8fFl2z569Ghuu+22jI2NZd++fdm3b1/GxsZy22235cyZM8PHPnPmzHC/wbajR48Or1uv18vRo0cv6tOZM2eyb9++YZv79u1b8Lirdccddyw4h+3bty/Z9xMnTixod3ANtm/fnl6vd9H5LdXvlVyXy53vjTfeuKpjF1/jlRoc2+v1hue4mn5f6TkPjlnu+b19+/acOHFi3doDgNas5fV909Va11ySjK3H4ywud955Z301SlIPvPvpetuHb6u11nrg3U/XJK/5ct11163p+FJKveeeexbUXX/99fWWW25Zsq2xsbHh+o033njRPjt27FiwPrr/SsrExERNUrdt21ZLKbWUUpPUe++9tz711FP12muvrUnq7bffvuLnzaA88sgjC9ZvuOGG+q53vauOj48P23700UeH53D//ffXJ554ou7Zs6fu3bu3PvHEE3V+fr4ePHiwzs3N1bm5uXrw4ME6Pz9fL1y4UOfn5+v27dtrknr8+PH60ksv1ePHj9ck9ciRI8M+zc3N1d27d9e9e/fWs2fP1rNnz9Y9e/bU3bt317m5uVXPjdtvv70mqceOHasf/OAHh8+J6enpBX0/efJk7fV6defOnfXxxx+ve/bsqTt27Ki9Xq8++OCDdWZmpp48eXJ4fouNnu+lrstSx+3evbvu2bOnnj17tj722GN1bGys7tq1a0XHLr7Gy+273LEnT56sMzMz9dSpU3X37t11165ddc+ePZdte6lz3rt372WPHRxz8ODBmqTefffd9frrrx8+72699dZ66tSpum3btvrwww+vyzUGgJas5fV9oyQ5X5fLYcttGO6QzCT5XJKPJHkuyZNJrkvyQpL3J/ndJG9L8uEkD3THvDHJ/0jyySS/k+R1ScaS/GSSTyT5VJK/d7m2hbnNK6N/8K2kjIadxfXLHTM1NTVc7vV6dWZmps7Ozi7YZ35+vs7Ozta77757WLdnz546MzNzUTunTp1aENgG+4yNjdVerzc8dvS4sbGxOjU1NQxRo23Mz8/XycnJBUHw2LFjw+fB/Pz88Dqt9HmzeN/F5zk+Pl6PHTtWx8fH6+zsbJ2ZmamTk5N1YmKizs7O1vn5+eG+gz7Mzs4Oty1+7MnJyQV1x48fr6WU4fqgjdFj5+fnh2OxWqPXaNCnY8eODc9xtL9TU1PDdgZtTk1NDddHfy42er6Xui5LHTd6vrOzs/XUqVMLznclbY5eq5Vcp8XnVGutMzMzw75cru0rPefBfqPjMj4+XqempobjUmutp06dqhMTE2tuDwBas5bX942SdQhzNcn3d+s/m+SR9MPcoyP7fTjJA0muSfLFJG/s6r8rybYkP5bkn3Z1E0nOJzm4RHs/1m07v3///g28TCuXLR7m3vOe91wyhK1XGW2j1+vVUsowdA3KhQsXaq/Xq1/72tcu2nfx473yyisL1hc/1nJ1Sz1Wr9cbtj1a/+KLLw6fBxcuXBgeu9LnzSOPPHJR3eh5DtoY9GG0/UGfBvsO+jDY78KFC0s+9qiXXnppQd1Sxw7Oa9DGaoxeo8HjDs5ntO+DMRy0M6hfvD56rqNG+3yp67LUcaWUBce+8sorwz5d7tjF13i5fZc7dnG/B325XNtXes6D/UbHZfS5PHguDObOWtsDgNas5fV9o+QSYW6ln5n7Sq31t7vl/5zkB7rljy6x7/ck+Xqt9RPp/3XwrVrrd5IcSfL2UsrvJXkmyY1JXr/44FrrT9daD9daD+/evXuF3WM9vfe9782OHTtWdczg8zdL1S/n5ptvXrB+4MCBHDp0aEHduXPncujQoTzwwAMLjjtw4MBF7Zw+fTpjY2PDuv379ydJxsbG0uv1lmxzbGwsN998c8bHxy/q27lz57Jz587hfkny0EMPLejbaq/TBz7wgSXrB+c5Pj6ehx56KOPj4zl06FD279+fycnJTExM5NChQzl37txw39HjBtsWm5ycXLD++OOPLxiTQRujx547d27JsVipwTUa9GmwPtr3Q4cODcdxsN/+/ftz8803D9dHfy42er6Xui5LHXfgwIEFx54+fTr79+9f0bGLr/Fy+y537Ohj7N+/f9iXy7V9pec8esxgHMbHxzM1NbXguXz69OlMTEysuT0AaM1aXt9fFZZLeXXhO3NfHll/U5JfTv+duZvqxe/M3Z7kt5d4nF9KcvRy7Y0Wt1m2VXxm7vLPm0HxmTmfmfOZOQDYfK+Vz8zVJN/XrX8oyY9n+TC3+DbL1+Uvb7P8lSTjXf1fTbLjUm23FOYG9crVK6u59XOp2ymvtAz+0J2bmxsGvEFZaZAbfe4sLg8//HDdtm3bsm0fOXKkzs7O1l6vV6enp+v09HTt9Xp1dnZ2wS+aubm54X6DbUeOHBlet1LKgiA3etz09PSwzenp6TX9AhsEukGZmJhYsu8PP/zwgnYH12BiYqKWUi46v6X6vZLrcrnzveGGG1Z17OJrvFKDY0spw3NcTb+v9JwHxyz3/J6YmLgoyK2lPQBozVpe3zdCLhHmSn/78kopM0l+I/3Psd2Z5LNJfqT7ebjW+s1uvw8nebrW+mQp5Y1J/m2Sa5P8eZI3J/mzJP8iyQ8lKUleTHJ/rfXl5do+fPhwPX/+/CX7txlKKTnw7qfzukOP5dPv+HRmHvu1vPC+ty7YfrnrCgAAcDmllGdrrYeX2rZthY/xnVrrDy+qmxldqbW+c2T5E0nuWuJx/klXAAAAWIN1+0/DAQAA2DiXDXO11hdqrbdtRGdacblbKN1iCQAAXG3emQMAAGiQMAcAANAgYQ4AAKBBwhwAAECDhLk1mnns17Lz2vHN7gYAAPAas9L/Z45F+v9J+Fsvux8AAMDV4J05AACABglzAAAADRLmAAAAGiTMAQAANEiYAwAAaJAwBwAA0CBhDgAAoEHCHAAAQIOEOQAAgAYJcwAAAA0S5gAAABokzAEAADRImAMAAGiQMAcAANAgYQ4AAKBBwhwAAECDhDkAAIAGCXMAAAANEuYAAAAaJMwBAAA0SJgDAABokDAHAADQIGEOAACgQcIcAABAg4Q5AACABglzAAAADRLmAAAAGiTMAQAANEiYAwAAaJAwBwAA0CBhDgAAoEHCHAAAQIOEOQAAgAYJcwAAAA0S5gAAABokzAEAADRImAMAAGiQMAcAANAgYQ4AAKBBwhwAAECDhDkAAIAGCXMAAAANEuYAAAAaJMwBAAA0SJgDAABokDAHAADQIGEOAACgQcIcAABAg4Q5AACABglzAAAADRLmAAAAGiTMAQAANEiYAwAAaJAwBwAA0CBhDgAAoEHCHAAAQIOEOQAAgAYJcwAAAA0S5gAAABokzAEAADRImAMAAGiQMAcAANAgYQ4AAKBBwhwAAECDhDkAAIAGCXMAAAANEuYAAAAaJMwBAAA0qNRaN7sPyyqlvJjky5vdjyXclOSbm90J1o3x3DqM5dZiPLcOY7m1GM+tw1i24UCtdfdSG17VYe7VqpRyvtZ6eLP7wfownluHsdxajOfWYSy3FuO5dRjL9rnNEgAAoEHCHAAAQIOEuSvz05vdAdaV8dw6jOXWYjy3DmO5tRjPrcNYNs5n5gAAABrknTkAAIAGCXOrVEp5Synl86WU50spj212f+grpewrpfxWKeWzpZT/VUr5B139DaWUj5VSvtD9nOzqSynlp7px/FQp5Q0jj/WObv8vlFLeMVJ/Zynl090xP1VKKRt/pq8dpZSxUsr/LKU83a0fLKU8013/j5ZSrunqJ7r157vtMyOP8XhX//lSytGRevN4A5VSdpVSniylfK6U8lwp5fvMzTaVUv5R9zv2M6WUM6WU7eZmO0opP1tK+UYp5TMjdVd9Li7XBmuzzHj+ZPe79lOllF8upewa2baqeXclc5tNUGtVVliSjCX530luSXJNkk8muXWz+6XUJNmb5A3d8uuS/H6SW5P8yySPdfWPJXl/t3xPkl9PUpLcleSZrv6GJF/sfk52y5Pdtt/p9i3dsX97s897K5ck/zjJXJKnu/VfSPK2bvl0kuPd8t9PcrpbfluSj3bLt3ZzdCLJwW7ujpnHmzKW/zHJ3+2Wr0myy9xsryT57iRfSnJtt/4LSd5pbrZTkvzNJG9I8pmRuqs+F5drQ7kq43kkybZu+f0j47nqebfaua1sTvHO3Or8jSTP11q/WGu9kOTnk9y3yX0iSa3167XW3+2W/zTJc+n/4XFf+n9Ipvt5f7d8X5Inat/Hk+wqpexNcjTJx2qtf1Jr/b9JPpbkLd2276q1frz2f3s9MfJYrLNSynSStyb5ULdekrwpyZPdLovHcjDGTyb5wW7/+5L8fK31/9Vav5Tk+fTnsHm8gUopO9P/g+NnkqTWeqHW+lLMzVZtS3JtKWVbkuuSfD3mZjNqrf89yZ8sqt6IubhcG6zBUuNZaz1ba/1Ot/rxJNPd8qrm3RW+7rIJhLnV+e4kXxlZ/2pXx6tI93b/9yZ5JslUrfXr3aY/SjLVLS83lpeq/+oS9Vwd/zrJo0n+olu/MclLIy9Qo9d/OGbd9pe7/Vc7xlwdB5O8mOTnSv+22Q+VUnbE3GxOrfUPk3wgyR+kH+JeTvJszM3WbcRcXK4Nrq4fTf8d0mT143klr7tsAmGOLaWUcn2SX0ryD2ut3xrd1v1Loa9vfZUrpdyb5Bu11mc3uy+si23p3wb0H2qt35vklfRvsxoyN9vQfc7pvvQD+l9JsiPJWza1U6yrjZiL5vvGKKWcTPKdJB/Z7L5wdQlzq/OHSfaNrE93dbwKlFLG0w9yH6m1PtVV/5/u1o90P7/R1S83lpeqn16invX3/UmOlVJeSP92jzcl+Tfp3+Kzrdtn9PoPx6zbvjPJH2f1Y8zV8dUkX621PtOtP5l+uDM32/PmJF+qtb5Ya/12kqfSn6/mZts2Yi4u1wZXQSnlnUnuTfJgF56T1Y/nH2f1c5tNIMytzieSvL77dp9r0v/Q569ucp/I8DNVP5PkuVrrvxrZ9KtJBt+09Y4k/2Wk/u3dt3XdleTl7haQ30xypJQy2f0r9JEkv9lt+1Yp5a6urbePPBbrqNb6eK11utY6k/4cm6+1Ppjkt5I80O22eCwHY/xAt3/t6t/WfevWwSSvT//D+ebxBqq1/lGSr5RSvqer+sEkn4252aI/SHJXKeW67loPxtLcbNtGzMXl2mCdlVLekv7HFI7VWv9sZNOq5l03V1c7t9kMG/EtK1uppP/tTr+f/jf/nNzs/ijDcfmB9G/b+FSS3+vKPenfw/3fknwhyX9NckO3f0ny77tx/HSSwyOP9aPpfzD4+SR/Z6T+cJLPdMf8uyRls897q5ckfyt/+W2Wt6T/wvN8kl9MMtHVb+/Wn++23zJy/MluvD6fkW84NI83fBz/epLz3fz8lfS/Ac/cbLAk+Ykkn+uu939K/5vxzM1GSpIz6X/e8dvpv2v+0EbMxeXaUK7KeD6f/ufZBn8LnR7Zf1Xz7krmtrLxZTDJAAAAaIjbLAEAABokzAEAADRImAMAAGiQMAcAANAgYQ4AAKBBwhwAAECDhDkAAIAGCXMAAAAN+v8v/0JkmBRQ6AAAAABJRU5ErkJggg==\n",
            "text/plain": [
              "<Figure size 1080x216 with 1 Axes>"
            ]
          },
          "metadata": {
            "tags": [],
            "needs_background": "light"
          }
        },
        {
          "output_type": "stream",
          "text": [
            "Valores acima de 30 em minimun_nights: \n",
            "3360 entradas\n",
            "9.3672%\n"
          ],
          "name": "stdout"
        }
      ]
    },
    {
      "cell_type": "markdown",
      "metadata": {
        "id": "g5Tu_rxJErl5"
      },
      "source": [
        "#### Plotando o histograma sem *outliers*\n",
        "Verificado os outliers nas variáveis `price` e `minimum_nights`, iremos limpar nosso *DataFrame* e plotar novamente o histograma. "
      ]
    },
    {
      "cell_type": "code",
      "metadata": {
        "colab": {
          "base_uri": "https://localhost:8080/",
          "height": 607
        },
        "id": "_xhjYMCXFKTZ",
        "outputId": "f7c015a6-f22b-456f-b08e-4e80624b0975"
      },
      "source": [
        "# Removendo os outliers em outro DataFrame\n",
        "df_clean = df.copy()\n",
        "df_clean.drop(df_clean[df_clean.minimum_nights > 30].index, axis = 0, inplace = True)\n",
        "df_clean.drop(df_clean[df_clean.price > 1500].index, axis = 0, inplace = True)\n",
        "\n",
        "# remover `neighbourhood_group`, pois está vazio\n",
        "df_clean.drop('neighbourhood_group', axis = 1, inplace = True)\n",
        "\n",
        "# plotar o histograma para as variáveis numéricas\n",
        "df_clean.hist(bins = 15, figsize = (15, 10));"
      ],
      "execution_count": null,
      "outputs": [
        {
          "output_type": "display_data",
          "data": {
            "image/png": "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\n",
            "text/plain": [
              "<Figure size 1080x720 with 12 Axes>"
            ]
          },
          "metadata": {
            "tags": [],
            "needs_background": "light"
          }
        }
      ]
    },
    {
      "cell_type": "markdown",
      "metadata": {
        "id": "IXn2oIo5qx-w"
      },
      "source": [
        "### **Q5. Qual a correlação existente entre as variáveis**\n",
        "\n",
        "Correlação significa que existe uma relação entre duas coisas. No nosso contexto, estamos buscando relação ou semelhança entre duas variáveis.\n",
        "\n",
        "Essa relação pode ser medida, e é função do coeficiente de correlação estabelecer qual a intensidade dela. Para identificar as correlações existentes entre as variáveis de interesse, vou:\n",
        "\n",
        "* Criar uma matriz de correlação\n",
        "* Gerar um *heatmap* a partir dessa matriz, usando a biblioteca `seaborn`"
      ]
    },
    {
      "cell_type": "code",
      "metadata": {
        "id": "x2ayzBajqxyd",
        "colab": {
          "base_uri": "https://localhost:8080/",
          "height": 235
        },
        "outputId": "8352dade-8e4e-4cbb-dea4-93d6504bc6d4"
      },
      "source": [
        "# criar uma matriz de correlação\n",
        "corr = df_clean[['price', 'minimum_nights', 'number_of_reviews', 'reviews_per_month',\n",
        "    'calculated_host_listings_count', 'availability_365']].corr()\n",
        "\n",
        "# mostrar a matriz de correlação\n",
        "display(corr)"
      ],
      "execution_count": null,
      "outputs": [
        {
          "output_type": "display_data",
          "data": {
            "text/html": [
              "<div>\n",
              "<style scoped>\n",
              "    .dataframe tbody tr th:only-of-type {\n",
              "        vertical-align: middle;\n",
              "    }\n",
              "\n",
              "    .dataframe tbody tr th {\n",
              "        vertical-align: top;\n",
              "    }\n",
              "\n",
              "    .dataframe thead th {\n",
              "        text-align: right;\n",
              "    }\n",
              "</style>\n",
              "<table border=\"1\" class=\"dataframe\">\n",
              "  <thead>\n",
              "    <tr style=\"text-align: right;\">\n",
              "      <th></th>\n",
              "      <th>price</th>\n",
              "      <th>minimum_nights</th>\n",
              "      <th>number_of_reviews</th>\n",
              "      <th>reviews_per_month</th>\n",
              "      <th>calculated_host_listings_count</th>\n",
              "      <th>availability_365</th>\n",
              "    </tr>\n",
              "  </thead>\n",
              "  <tbody>\n",
              "    <tr>\n",
              "      <th>price</th>\n",
              "      <td>1.000000</td>\n",
              "      <td>0.163318</td>\n",
              "      <td>-0.162241</td>\n",
              "      <td>-0.162366</td>\n",
              "      <td>0.047043</td>\n",
              "      <td>-0.015328</td>\n",
              "    </tr>\n",
              "    <tr>\n",
              "      <th>minimum_nights</th>\n",
              "      <td>0.163318</td>\n",
              "      <td>1.000000</td>\n",
              "      <td>-0.059857</td>\n",
              "      <td>-0.080109</td>\n",
              "      <td>-0.033148</td>\n",
              "      <td>-0.016418</td>\n",
              "    </tr>\n",
              "    <tr>\n",
              "      <th>number_of_reviews</th>\n",
              "      <td>-0.162241</td>\n",
              "      <td>-0.059857</td>\n",
              "      <td>1.000000</td>\n",
              "      <td>0.645518</td>\n",
              "      <td>-0.026347</td>\n",
              "      <td>0.050653</td>\n",
              "    </tr>\n",
              "    <tr>\n",
              "      <th>reviews_per_month</th>\n",
              "      <td>-0.162366</td>\n",
              "      <td>-0.080109</td>\n",
              "      <td>0.645518</td>\n",
              "      <td>1.000000</td>\n",
              "      <td>-0.013855</td>\n",
              "      <td>-0.020716</td>\n",
              "    </tr>\n",
              "    <tr>\n",
              "      <th>calculated_host_listings_count</th>\n",
              "      <td>0.047043</td>\n",
              "      <td>-0.033148</td>\n",
              "      <td>-0.026347</td>\n",
              "      <td>-0.013855</td>\n",
              "      <td>1.000000</td>\n",
              "      <td>0.073733</td>\n",
              "    </tr>\n",
              "    <tr>\n",
              "      <th>availability_365</th>\n",
              "      <td>-0.015328</td>\n",
              "      <td>-0.016418</td>\n",
              "      <td>0.050653</td>\n",
              "      <td>-0.020716</td>\n",
              "      <td>0.073733</td>\n",
              "      <td>1.000000</td>\n",
              "    </tr>\n",
              "  </tbody>\n",
              "</table>\n",
              "</div>"
            ],
            "text/plain": [
              "                                   price  ...  availability_365\n",
              "price                           1.000000  ...         -0.015328\n",
              "minimum_nights                  0.163318  ...         -0.016418\n",
              "number_of_reviews              -0.162241  ...          0.050653\n",
              "reviews_per_month              -0.162366  ...         -0.020716\n",
              "calculated_host_listings_count  0.047043  ...          0.073733\n",
              "availability_365               -0.015328  ...          1.000000\n",
              "\n",
              "[6 rows x 6 columns]"
            ]
          },
          "metadata": {
            "tags": []
          }
        }
      ]
    },
    {
      "cell_type": "code",
      "metadata": {
        "id": "91UujDr6ueqE",
        "colab": {
          "base_uri": "https://localhost:8080/",
          "height": 411
        },
        "outputId": "60732c79-0298-48ad-d800-e15182b3e4f5"
      },
      "source": [
        "# plotar um heatmap a partir das correlações\n",
        "sns.heatmap(corr, cmap = 'RdBu', fmt = '.2f', square = True, linecolor = 'white', annot = True);"
      ],
      "execution_count": null,
      "outputs": [
        {
          "output_type": "display_data",
          "data": {
            "image/png": "iVBORw0KGgoAAAANSUhEUgAAAbkAAAGKCAYAAACRuj8rAAAABHNCSVQICAgIfAhkiAAAAAlwSFlzAAALEgAACxIB0t1+/AAAADh0RVh0U29mdHdhcmUAbWF0cGxvdGxpYiB2ZXJzaW9uMy4yLjIsIGh0dHA6Ly9tYXRwbG90bGliLm9yZy+WH4yJAAAgAElEQVR4nOzdd3hUZfbA8e9JJyENkkkBISBNmrD0FkARAVEQV0VRfpYVe1tBBZQqYN/VFXXBdS1rdxEBQVFKqEFQehGRIiGkEkiv8/7+mCGZNDJMAonZ83meeZh733PvPUlIzrzvLa8YY1BKKaXqI7faTkAppZS6ULTIKaWUqre0yCmllKq3tMgppZSqt7TIKaWUqre0yCmllKq3tMgppZSqE0TkXRFJEpE9lbSLiLwuIodEZJeI/KmqfWqRU0opVVe8Bww7R/twoLX9NQF4q6odapFTSilVJxhj1gGnzhEyCvjA2MQCQSISca59etRkgkrVFK+ud9WpR/EkTrDUdgqlTH7g09pOoc67b0zb2k6hlJQD5/rbXTuG7N0q1d2Hs7+rBTv+fS+23tdZC4wxC87zcE2A4w7LcfZ1JyvbQIucUkqpC85e0M63qFWbFjmllFIuc/PwupiHOwFc4rDc1L6uUnpOTimllMvEzd2pVw1ZAoy3X2XZGzhjjKl0qBK0J6eUUqoaarCAISKfAIOAEBGJA6YDngDGmLeB5cAI4BCQDdxZ1T61yCmllHKZuNdckTPG3FJFuwEePJ99apFTSinlMrca7MldCFrklFJKuawmhysvBC1ySimlXObm4VnbKZyTFjmllFIu056cUkqpekuLnFJKqXpLi5xSSql6qyZvIbgQtMgppZRy2UV+rNd50yKn/rAWTL+TEdGXk3wqna43Tqsw5tUnb2VYv07k5OZz9/R/sePA7wDcfm1fnv7LtQA8/85SPly6qdr5bD6ayN9idmG1Gq7r2JzxPUo/BX97XAp/i9nFbynpzB7RgytaNyluS0jPZu4P20nMyEZEeHVUHyID/aqd002vTafjiMHkZ+fw/h0TOb59b7mYUc9NpNf4MfgGB/KYf4dSbd1uvIaRMx7DGEPczv28O+7RepWTf5fuNLnrPsTNndRVK0j66vNS7eLhSbNHJuHbsjWFGekce3Uu+cmJeIWG0e61heTFxwGQdfAAcQtedzkPR20mP0FIdD+KcnLZN3UmGft/KZ93+3Z0mDMdNx9vUtZt5OC8VwBo9cQjhA4agLWggJzjcex7ZhaFGZk1kldl9D45Ve+JyCxgnTHmh4t53A+WbuTNz1bx79l/qbB9WP9OtGoWRvtRk+nZqSVvTBlP//HPERzgx9QJo+gzbhbGGGI/ns7StTs4nZHtci5FVsPLa3by+ph+WBo24M5P1jCgZQQtGgcUx4T5N+DZod34+Odfy20/87ufuKNnW3o1t5CdX4hbtSdAgY7DB2Fp3YJprQfRoldXbn1rDi/0Hl0ubtfSVax5431m/bq21HpLqyiunvwAL/W7gezT6fiHNq5fObm50fSeB/lt1mQKUlNo88I/OLM1lry434tDGl15NUWZmex/6E6C+g0k4va7OfbqXADyEk/yy8QHXD9+BRoP6Itv82ZsGj6GgM4daTftabbeUv7JVe2mPc2+6XNI37WHLm+/RuP+fUndsIlTm7fw29/nY4qKaPXXh4i65w4OvfpGjeZYVl0/J6cPaFbVIiLuxphpF7vAAWz4+SBpZ7Iqbb92YFc+Wmbrof24+zBB/r6EhwQytG9HVsXuJS09i9MZ2ayK3cvV/TpVK5d9CadoGuhHk0A/PN3duKpNU9b9Vvq5sZGBfrQODUQoXcGOpKZTZKz0am6bs87XywMfz+p//uw8aiixHyyyHWPLdhoE+RMQHlou7siW7aQnJJdb3/+escTM/4Ds0+kAZCSn1qucfFu1JS8hnvzEBExhIWkb1hLYo0+pmMCefTi19nsATm9ej3+nLi4fzxmhVwzk5JJvAEjftQcPf3+8QkoXcq+Qxnj4+ZG+aw8AJ5d8Q+iVAwE4tWkLpqgIgDM79+AdFnZB84WL/oDm86ZFTlVKRKJE5ICIfCQi+0XkSxHxFZGjIvKCiPwM3Cgi74nIn+3b9BCRTSKyU0R+FBF/EXEXkZdEZKuI7BKRey9G/pGWYI4nlExUGZd4ikhLMJGhQcQllqw/kZRGZGhQtY6VnJWLxb9B8bLFvwHJWblObft7Wib+3p48tTSW8R+t5h/rd1Nkrf6csUFNwkg7Hl+8fDougaAm4U5vb2nTkrA2LZi04Uue3PwV7a8eWK9y8mzUmIKUkkJacCoFz8YhZWJCSmKsVoqys3D3t/XOvSzhtHlpPq1mvYTfZR1dzsORtyWU3ITE4uW8xCS8w0pP2OsdZiE3MakkJiEJb0v5DwqRY64jdX31h+GrokVO/dG1Bd40xlwGpANnx2dSjTF/MsYUT1EtIl7AZ8CjxpjLgSFADnA3tikxegA9gHtEpEXZA4nIBBHZJiLbrCnlz0PUV0XGsONEKo9Ed+LdWwZx4kw23+w7Vttp4ebhjqV1C14ZNJZ/3fIwty2cR4PAgKo3/B/IqSDtFPvuvY2Dkx7kxHv/pPljT+PWwPei51GZqAl3YgoLSVi24oIfq64XOT0np6py3Biz0f7+P8Aj9vefVRDbFjhpjNkKYIxJBxCRoUDns709IBBoDRxx3Nhx5mCvrndVuysTn5TGJeGNipebhjUiPimN+OTTRHcruSikiSWYdT9Vr6iG+vmQlJFTvJyUkUOon49T21oaNqBNaCBN7BeaDLw0gj0nT1WxVcUGPnA7/e+xPcj92NadBF8SWdwW1DSc0ycSnN7X6bgEjmzZgbWwkNSjcSQdPIKldRTHtu36w+cEUHAqFc+Qkh6QZ6MQClJTysSk4BkSSsGpFHBzw93Xj6IM21BpUWYBADmHD5GfEI93ZBNyfit/vrUqTW+5kSZ/tp2XTN+zD5/wMM7Y27zDLOQ59NrA1rvzcejdeYdbyEsq6ZFGjB5JyMD+/Hx3zZ4vrIybZ92+ulJ7cqoqZYvN2eXKT4aVJ8DDxpgu9lcLY8zKmkmvcstidjBuZF8AenZqyZnMbBJSzrBy0x6G9OlAkL8vQf6+DOnTgZWb9lTrWJeFB3P8dCbxZ7IoKLLy/cE4Blwa4dy2YcFk5BWQlp0HwLbjyaUuWDkfMW9+yJyuI5jTdQQ7Fq+k9/gxALTo1ZXcMxkVnueqzI7FK2kzqDcAfo2DsbRpQcrh36vY6o+RE0D2oV/wjmiClyUM8fAguP8g0rfFlopJ3xpLo0FXARDUZwAZe3YC4B4QCG62P59eYeF4RTQhP9H5Yu0o7pMv2HLDOLbcMI6kVWuJuO4aAAI6d6QwM5P8lNLnHfNTUinMyiKgs22INOK6a0heHQNA4/59aH7X7ex86AmsuXku5XO+tCen/uiaiUgfY8xm4FZgA9C1kthfgAgR6WGM2Soi/tiGK78D7heR1caYAhFpA5wwxpxPoSznw3n3Et2tLSFBDTn87cvMevtrPD1sv0wLv1zLig27GNa/M/uXPE9Obj5/mfEuAGnpWcxduJRN/3kWgDkLlpKWXq1U8HBzY+Lgy3n0q41YDYzs0JyWjQNYsHkf7SzBRF8awb6ENJ5aFktGbgEbjpxk4eb9fDJ+CO5uwsMDOvHQog1goK0liFEdo6qVD8Ce5WvoOGIwsw/F2C7Xv3NScdvU7cuZ03UEAGNeeJoet47Cy7cB845vZuM7n7Fs5t/Z910M7YcOYPre77EWFbFo0jyyTp2uPzlZrcS9M5+Wz85F3Nw4tXolucePET52PNmHDpK+LZbUVd/S/JEnueyNf1OYmcGxv9murGzYvhPhY8dDYSHGWIlb8DpFmRnV+t4ApK7bSEh0P/qu+Aprbi57n5lV3Nbrvx+x5YZxAByY/YLtFgJvb1I3bCo+99Z26iTcPL340zvzATizczcHZj1f7bzOpa5fXSm2OeiUKk9EooBvgW1AN2AfcLv93+7GmBR73HvAMmPMlyLSA/gH0ABbgRuCbQbf54BrsfXqkoHRxpgzVKImhitrUuIES9VBF9HkBz6tOuh/3H1j2lYddBGlHHBtCPpCGrJ3a7VvVmkx4UunflePLPhzDdwYc/60J6eqUmiMua3MuijHBWPMHQ7vtwK9K9jPFPtLKVWPuNXETZ0XkBY5pZRSLhMtcuqPyhhzFKiZG4CUUvWSu3vdvn5Ri5xSSimXaU9OKaVUvaVFTimlVL3lJlrklFJK1VPak1NKKVVvuXvohSdKKaXqKanbNU6LnFJKKdeJnpNTSilVX+kTT5RSStVbdf3Ckzo+mqqUUqouEzdx6uXUvkSGicgvInJIRJ6uoL2ZiKwRke0isktERlS1T+3JqTqprj31P2xBUtVBF9GHoXVnFuqzMguttZ1CKSd/cm1+twvF069uTy7qqpp6rJeIuAPzgauAOGCriCwxxuxzCHsG+NwY85aItAeWU+aB8WVpT04ppZTLarAn1xM4ZIw5bIzJBz4FRpWJMcDZGYUDgfiqdqo9OaWUUi5z9sITEZkATHBYtcAYs8BhuQlw3GE5DuhVZjczgJUi8jDgh22+ynPSIqeUUsplzt5CYC9oC6oMPLdbgPeMMa+ISB/gQxHpaIypdKxci5xSSimX1eDN4CeASxyWm9rXObobGAZgjNksIj5ACFDpSXM9J6eUUsplbm7i1MsJW4HWItJCRLyAscCSMjG/A1cCiMhlgA+QfK6dak9OKaWUy9xq6OpKY0yhiDwEfAe4A+8aY/aKyCxgmzFmCfAEsFBEHsd2Ecodxhhzrv1qkVNKKeWymnziiTFmObbbAhzXTXN4vw/odz771CKnlFLKZXX9iSda5JRSSrnMXYucUkqp+kqLnFJKqXrLSydNVUopVV9pT04ppVS95aFFTimlVH2lPTmlLpDNRxP5W8wurFbDdR2bM75H21Lt2+NS+FvMLn5LSWf2iB5c0bpJcVtCejZzf9hOYkY2IsKro/oQGehXrXwWTL+TEdGXk3wqna43Tqsw5tUnb2VYv07k5OZz9/R/sePA7wDcfm1fnv7LtQA8/85SPly6qVq5OOo6ZwoRQ6Ipysnhx4enkLZ7f7mY4M7t6fn6XNwb+HDyh3Vsnzq3uK313eNoddctmCIr8T/EsGvWK9XKp/e8qVxyVTSFObmse3Ayqbv2lYtpfHkHoufPw8PHm+PfryN28hwAGnVsR79XZ+Du7Y21sIhNk2aS8vPuauVz2fSnCB3cn6KcXHZPfJb0vQfKxQR0vIzOL8/Gzceb5DUb2D/zBQBa//VBLFcNAmMlPyWNXROfJS/pnA/gqFKbyU8QEt2Popxc9k2dScb+X8rF+LdvR4c503Hz8SZl3UYOzrP9TFo98QihgwZgLSgg53gc+56ZRWFGZrXyqUpdL3J1+4zhH5iIXFfRpH9lYiJF5MuLldP5EpHuIvJ6FTFRIrKnkrY7RCTyQuRWZDW8vGYnfxvdl0/GD2HlL3EcSU0vFRPm34Bnh3ZjaLum5baf+d1PjOvWms/+7yreHTuIRr7e1c7pg6UbGfngq5W2D+vfiVbNwmg/ajL3P/c+b0wZD0BwgB9TJ4yi/+3P0e+22UydMIog/5qZLy7iymj8WzZnea9hbHtiOt1enF5hXLcXp7HtiWks7zUM/5bNCb9iAACWfj2JHH4F3w2+nm+jr+OXN/9drXyaDokm4NLmfNH9ajY8Po2+r1ScT7+Xp7PhsWf5ovvVBFzanKZDbPn0nDmJ7S/OZ/HA6/l53uv0nDGpWvmEDuqPX4tmrBt0LXunzKLDnGcqjOvw3DPsmTyTdYOuxa9FM0IG2e5HPrLgPTYOv5GNI24mafU6Wj16b7XyaTygL77Nm7Fp+Bj2z5hLu2kV/wlpN+1p9k2fw6bhY/Bt3ozG/fsCcGrzFmJHj2XLmFvJPvY7UffcUa18nOHu5ubUq7ZokbtAjDFLjDHPVxETb4z588XK6XwZY7YZYx6pxi7uAC5IkduXcIqmgX40CfTD092Nq9o0Zd1vJ0vFRAb60To0EKH0J80jqekUGSu9mtsmZvX18sDHs/qDGht+PkjamaxK268d2JWPltl6aD/uPkyQvy/hIYEM7duRVbF7SUvP4nRGNqti93J1v07VzgegyfArOPr51wCk/rQLz0B/fCwhpWJ8LCF4+jck9addABz9/GuajrgSgEvvGMuB19/Bml8AQF7KqWrl03zElRz61JZP8radeAUE0CAstFRMg7BQPP0bkrxtJwCHPv2a5iNsM6oYY/D0bwiAV4A/2QnVm8zWMnQwJxYtBeD09t14+PvjHVr6++MdGoKHvx+nt9t6jCcWLSVs6BUAFGaW/LzdfX3g3E+YqlLoFQM5ueQbANJ37cHD3x+vkMalYrxCGuPh50f6Lttny5NLviH0yoEAnNq0BVNUBMCZnXvwDgurVj7O8PJwc+pVW7TIucDeezkgIu+JyEER+UhEhojIRhH5VUR62nsxb9jj3xOR10Vkk4gcFpE/O+xnj/39HSKyWES+F5GjIvKQiPzVPs17rIg0ssetFZHu9vchInL0fLav5OtZKyIviMiP9q9ngH39IBFZZn8fat/3XhF5R0SOicjZvwbuIrLQ3rZSRBrYv8buwEcissO+7nkR2Weftv7l6vwMkrNysfg3KF62+DcgOSvXqW1/T8vE39uTp5bGMv6j1fxj/W6KrNX74+SMSEswxxNKikRc4ikiLcFEhgYRl1iy/kRSGpGhQTVyzAbhFrLjS2bIzolPpEFE6T98DSLCyD6ZWLycHZ9Ig3DbBwD/S6MI6d2NISs+ZfDi92nUpWO18vGNCCPrRMmHkez4BPzK5OMXEUaWQ85Z8Qn42mNip8yl58xJ3Lx7DT1nPcm2WZX3nJ3hE2YhN77ka89NSMQ7vPSs9N7hFnIdvj+5JxPxCSuJaT3xIQZt+o7IUdfw66tvVisfb0souQklx8pLTMI7rEw+YRZyE0uKe15CEt6W0h8UACLHXEfq+pob9q6Mu5s49aotWuRc1wp4BWhnf90K9AcmAlMqiI+wt48EKuvhdQTGAD2AOUC2MaYrsBkY70RO1dnewxjTE3gMqGgMaTqw2hjTAfgSaObQ1hqYb287DdxgjPkS2AaMM8Z0AXyB64EOxpjOwHNlDyAiE0Rkm4hse2/DDie+XNcUGcOOE6k8Et2Jd28ZxIkz2Xyz79gFO94fmZu7O95BgfwwfCw7Z75Mn4XVKyrVddmdt7Bl6vN81mkwW56ZR//Xy/03uuh+ffkN1va9mvivv6HZ/42t7XQAiJpwJ6awkIRlKy74sdxFnHrVFi1yrjtijNltn6xvL7DK/jTs3UBUBfGLjTFW+wNGKxtDWGOMyTDGJANngKX29ZXtsya3X2T/96dKYvtjm44eY8y3QJpD2xFjzNmqVNn2Z4Bc4F8iMgbILhtgjFlgjOlujOl+R/8u50w21M+HpIyc4uWkjBxC/XzOuc1ZloYNaBMaSJNAPzzc3Bh4aQS/JJ12atvqiE9K45Lwkg5107BGxCelEZ98mqZhJeubWIKJT3Y9n1Z33cLQ1YsYunoROYnJ+EaGF7c1iAwjx6FXApBzMrG4pwTgGxlGjn0YMPtkAnHffA/Aqe27wVjxbhx8XvlcdvetjI75itExX5GTmIRfkwiHY4WTVSafrJOJ+Dnk7BcZXtzTbH3LaI4uXQnAkcXfEtqt83nlAtDs9pvpt/wz+i3/jLykZHwiS752n/Aw8soMgeYlJOHj8P3xiQgr1ZM6K37xcsKHVTlRdTlNb7mRXv/9iF7//Yj8lFR8wkuO5R1mIa/MsfISk0r1JL3DLaUudokYPZKQgf3Z89Sz552LK7QnV3/lOby3OixbqfiqVcf4yn7izuyzkJKfW9m/6uebU0XbFjkRW9m2lW5vjCkEemLrBY4Evj3PY5RyWXgwx09nEn8mi4IiK98fjGPApRFVbwhcFhZMRl4Badm2tLcdT6ZF44DqpOOUZTE7GDfSdoFAz04tOZOZTULKGVZu2sOQPh0I8vclyN+XIX06sHJThdfyOOXQu5+w8ooxrLxiDCdWrCLqplEANO7WmYL0DHKTUkrF5yalUJCRSWN7wYi6aRQnVqwG4MSK1Vj69wSgYcvmuHl6kpeaxvnY/6+PWTzwehYPvJ5j36yi1VhbPqHdL6cgPYOcxNJXI+YkJlOQkUlo98sBaDV2FMeWrwIgOyGJ8H62fCKie5P+2/n3wH//8DM2jriZjSNuJnHlGpqMsV3VGtS1E4UZmeQll/7+5CWnUJiRRVBX23nSJmOuJWnlGgB8o0oGNMKuGkzWb0fOO5+4T75gyw3j2HLDOJJWrSXiumsACOjckcLMTPJTUkvF56ekUpiVRUBn29BxxHXXkLw6BoDG/fvQ/K7b2fnQE1hz87gY6nqR01sI/niOAt2AH4GLedHKRuAm4AURGQo483E+A/AHEJGGgK8xZrmIbAQOVycZDzc3Jg6+nEe/2ojVwMgOzWnZOIAFm/fRzhJM9KUR7EtI46llsWTkFrDhyEkWbt7PJ+OH4O4mPDygEw8t2gAG2lqCGNUxqjrpAPDhvHuJ7taWkKCGHP72ZWa9/TWeHu4ALPxyLSs27GJY/87sX/I8Obn5/GXGuwCkpWcxd+FSNv3H9sl7zoKlpKVXfgHL+Tj5wzoihkRzzY/fUpidy4+PTi1uG7p6ESuvGAPAT0/Nptfrc3Fv4M3JVes5uWodAEc+XkSP155jWMzXWAsK2PJwRSPxzjv+fQxNr4rmxp9WUpiTy/qHSvY3OuYrFg+8HoBNk2YRPX8u7j4+xP2wnrgfbPlsePRZes+bini4U5SXx4bHK75Vw1nJa9YTOrg/A2OWUZSTy65JJfvrt9xWDAH2PjuHzi/Pxt3Hm+S1G0leuwGAtk89il/LKIzVSu6Jk+yZWr3h09R1GwmJ7kffFV9hzc1l7zOzitt6/fcjttwwDoADs1+w3ULg7U3qhk3F597aTp2Em6cXf3pnPgBndu7mwKxzXv9Wbd51/LFeUsV8c6oCIhIFLDPGdLQvv2df/vJsG/Ay0N0Y85Bjuz0+0xjT0HE/InLH2Xh7zFH7copjm4i0Az7H1mP6BrjNGBPl7PaVfD1rgYnGmG32i0m22fc5yL5+pIhYgE+wDbVuxtYbi8J2rtHxezERaGiMmSEiNwBzgRxgOPA1tt6nAC8bY96v7Huc9tbTdeo/ZtiC6l3FV9M+PBFb2ymUk1lore0USokMqP5tITXJ08+rtlMoZ8jerdXuYj2zYr9Tv6vPDb+sVrpzWuSUU0TEGyiyz97bB3jLfkHJBaFF7ty0yFVNi1zVaqLITf/ugFO/qzOvblcrRU6HK5WzmgGfi4gbkA/cU8v5KKXqgLr+xBMtcv9DRGQ+5aeOf80YU+VjLIwxvwJdL0hiSqk/LC1yqs4wxjxY2zkopeoXLXJKKaXqLZ00VSmlVL2lPTmllFL1lhY5pZRS9VZtPpfSGVrklFJKucxNi5xSSqn6yr1u1zgtckoppVzn6a5XVyqllKqndLhSKRdMfuDT2k6hlA9DfWs7hVJub9K7tlMo57W3qjcjQE2TcdfXdgqlhLRrVHXQH1BNDleKyDDgNcAdeMcYU24KBRG5CZgBGGCnMebWc+1Ti5xSSimXudXQLQQi4g7MB64C4oCtIrLEPtH02ZjWwGSgnzEmzT47yrnzq5HslFJK/U9yE3Hq5YSewCFjzGFjTD7wKTCqTMw9wHxjTBqAMabK6UG0yCmllHKZp5s49RKRCSKyzeE1ocyumgDHHZbj7OsctQHaiMhGEYm1D2+ekw5XKqWUcpmzTzwxxiwAFlTzcB5Aa2AQ0BRYJyKdjDGnz7WBUkop5ZIavLryBHCJw3JT+zpHccAWY0wBcEREDmIrelsrza+mslNKKfW/x12cezlhK9BaRFqIiBcwFlhSJmYxtl4cIhKCbfjy8Ll2qj05pZRSLqupnpwxplBEHgK+w3YLwbvGmL0iMgvYZoxZYm8bKiL7gCJgkjEm9Vz71SKnlFLKZTU5C4ExZjmwvMy6aQ7vDfBX+8spWuSUUkq5zFOn2lFKKVVf6WO9lFJK1Vt1/PnMWuSUUkq5TntySiml6i2dGVwppVS9pT05pS6gm16bTscRg8nPzuH9OyZyfPvecjGjnptIr/Fj8A0O5DH/DqXaut14DSNnPIYxhrid+3l33KPVyqfrnClEDImmKCeHHx+eQtru/eVigju3p+frc3Fv4MPJH9axferc4rbWd4+j1V23YIqsxP8Qw65Zr7icy4LpdzIi+nKST6XT9caKp8F59clbGdavEzm5+dw9/V/sOPA7ALdf25en/3ItAM+/s5QPl25yOQ9HR3dtJeajt7Fai+g4cDg9Rt5cLubglhhiF/8HgNBmLRl+/2QAXrtjOI0viQIgoJGF6x6fWSM5XTbtSUIG9cOak8vuJ6eTvvdAuZiAjpfR6cWZuPl4k7J2I/tnvQhAq8cfIGzIQIzVkJ96it1PTicvKdnlXPy7dKfJXfchbu6krlpB0lefl2oXD0+aPTIJ35atKcxI59irc8lPTsQrNIx2ry0kLz4OgKyDB4hb8LrLeZwPzzo+NbgWOfWH1XH4ICytWzCt9SBa9OrKrW/N4YXeo8vF7Vq6ijVvvM+sX9eWWm9pFcXVkx/gpX43kH06Hf/QxtXKJ+LKaPxbNmd5r2E07taZbi9O54fhY8vFdXtxGtuemEbqT7uI/uSfhF8xgITV67H060nk8Cv4bvD1WPML8A6p3vxjHyzdyJufreLfs/9SYfuw/p1o1SyM9qMm07NTS96YMp7+458jOMCPqRNG0WfcLIwxxH48naVrd3A6I7ta+VitRaz5YD5jnpxHw0YhfDLjYVp27U3jJs2LY9ISTrB12Wfc9Myr+Pj5k51e8khCDy8vbpv9VrVyKCtkUH98o5qx/opRBHbpRPtZU4i9YXy5uPazprBnymzO7NhNt3ffIGRgP1JiNnJk4fsc+tubADT/v1u49OEJ7Ht2jmvJuLnR9J4H+W3WZApSU2jzwj84szWWvLjfi0MaXXk1RZmZ7H/oToL6DSTi9rs59qrtQ1Je4kl+mfiAa8RCd9YAACAASURBVMeuhjrekdPHel0IIrJWRLpfxOO9JCJ7ReSlC7T/WSIy5ELsuzo6jxpK7AeLADiyZTsNgvwJCA8tF3dky3bSE8p/uu5/z1hi5n9A9ul0ADKSz/nghCo1GX4FRz//GoDUn3bhGeiPjyWkVIyPJQRP/4ak/rQLgKOff03TEVcCcOkdYznw+jtY8wsAyEs5Va18Nvx8kLQzWZW2XzuwKx8ts/XQftx9mCB/X8JDAhnatyOrYveSlp7F6YxsVsXu5ep+naqVC0DC4V8IDIsk0BKBu4cnbXoN4refN5eK2ROzgsuvvBYfP38AfAOCqn3ccwkbMpD4r5YBcGbHbjwD/PEOLf0z8w4NwaOhH2d27AYg/qtlhF01CICizJLvr3uDBmCMy7n4tmpLXkI8+YkJmMJC0jasJbBHn1IxgT37cGrt9wCc3rwe/05dXD5eTXFDnHrVFu3J1TEi4mGMKTzPzSYAjYwxRRdi/45PHKhLgpqEkXY8vnj5dFwCQU3CKyxoFbG0aQnApA1fIu7uLJvxd/Z9F+NyPg3CLWTHJxQv58Qn0iAijNyklJKYiDCyTyYWL2fHJ9Ig3Dbvo/+lUYT07kanyY9SlJfHzhkvcWrHHpfzqUqkJZjjCSWFNC7xFJGWYCJDg4hLLFl/IimNyNDqF5ustFT8G5V8CPFvFELCb6WHBtMSbMNtn81+HGOs9B59G1GdewBQWJDPx9Mfws3dne7X3Eyrbn2rnZN3mIUch59ZbkIi3uEW8pJLfmbe4RZyE0qmLcs9mYh3WMlcna2feJDI60dSmJHJj+PKzh7jPM9GjSlIKfm/W3AqBd/W7crEhJTEWK0UZWfh7h8AgJclnDYvzceak83JT94na/+F+7/jSHtydZiIRInIfhFZaO8JrRSRBo49MREJEZGj9vd3iMhiEfleRI6KyEMi8lcR2W6f28hxfOl2EdkhIntEpKd9ez8ReVdEfrRvM8phv0tEZDWwqpJcxd5j2yMiu0XkZvv6JUBD4Kez6yrY9j0ReVtEtgAvisilIvKtiPwkIutFpJ2IBIrIMRFxc8j1uIh42rf/s319NxGJsW/7nYhEiIhFRH6yt18uIkZEmtmXfxMRXxG50Z77ThFZV0mexfNN7SPjfH6ULnHzcMfSugWvDBrLv255mNsWzqNBYMAFP26l+bi74x0UyA/Dx7Jz5sv0WfhqreVSW0xREacTTvDnyS8x/P7J/PDvv5OblQnA3a98yK0z32D4fU8T8/HbnE6Mr2JvF8evr8wnpv9wTn69gua3V/greMEVpJ1i3723cXDSg5x47580f+xp3Br4XpRju4lzr9ryP13k7Fpjm2m2A3AauKGK+I7AGKAHMAfINsZ0BTYDjoP5vsaYLsADwLv2dVOB1caYnsBg4CUR8bO3/Qn4szFmYCXHHQN0AS4Hhti3jTDGXAfkGGO6GGM+O0feTYG+xpi/YpvT6WFjTDdgIvCmMeYMsAM4e/yRwHf2KS0AEBFP4B/2PLvZv6459tl5fUQkABgAbAMGiEhzIMkYkw1MA642xlwOXFdRgsaYBcaY7saY7u3xr/CLGPjA7Uzdvpyp25eTfjKJ4Esii9uCmoZz+kRChdtV5HRcAjuX/IC1sJDUo3EkHTyCpXWU09sDtLrrFoauXsTQ1YvISUzGNzK8uK1BZBg5Dr02gJyTifhGhBUv+0aGkWPvJWSfTCDuG9tQ1Kntu8FY8W4cfF75nI/4pDQuCS/5XNY0rBHxSWnEJ5+maVjJ+iaWYOKTK52uy2l+wY3JOFXSU8k4lYJfcOmhwYaNQmjZtTfuHh4EhoYTHN6U04knitsAAi0RNG3XmeTff3Mpj2a33UTfpZ/Sd+mn5CWn0MDhZ+YTHkZeQunJpvMSkvAJL+m5+USEkZdYfkLq+K+XEzbsSpdyAig4lYpnSElP17NRCAWpKWViUkpi3Nxw9/WjKCMdU1hAUabtg2HO4UPkJ8TjHVl2vtELw13EqVdt0SIHR4wxO+zvfwKiqohfY4zJMMYkA2eApfb1u8ts+wmAMWYdECAiQcBQ4GkR2QGsBXyAZvb4740x5zoJ0x/4xBhTZIxJBGKwFVpnfWGMKRKRhkBf4At7Hv8EIuwxnwFnP4qOtS87aoutyH9v3/YZbMUTYBPQD4gG5tr/HQCst7dvBN4TkXuwPWHcJTFvfsicriOY03UEOxavpPf4MQC06NWV3DMZTg9VAuxYvJI2g3oD4Nc4GEubFqQc/r2KrUo79O4nrLxiDCuvGMOJFauIumkUAI27daYgPaPUUCVAblIKBRmZNO7WGYCom0ZxYsVqAE6sWI2lf08AGrZsjpunJ3mpaeeVz/lYFrODcSNtQ349O7XkTGY2CSlnWLlpD0P6dCDI35cgf1+G9OnAyk3VH/oKb9GW04knOJOcQFFhAQe3rOXSrr1LxVz6p77EHbCdr8zJOENaQhyBlghyszIoLMgvXn/y1700imxW7hjO+P0/n7Pp2rFsunYsSSvXEHn9SAACu3SiICOz1FAlQF5yCoWZWQR2sZ2XjLx+JIk/2Ia1faNKcrBcNYis3466lBNA9qFf8I5ogpclDPHwILj/INK3xZaKSd8aS6NBVwEQ1GcAGXt2AuAeEAhutj/nXmHheEU0IT/R+Q981SHi3Ku26Dk5yHN4XwQ0AAop+QDgc454q8OyldLfz7JnoA0gwA3GmF8cG0SkF1D5FQI14+z+3YDT9l5mWUuAufZh127A6jLtAuw1xvQptyWsw1bUmgNfA09h+5q/ATDG3Gf/Oq/BNrTaraopMqqyZ/kaOo4YzOxDMbZbCO6cVNw2dfty5nQdAcCYF56mx62j8PJtwLzjm9n4zmcsm2k7/9Z+6ACm7/0ea1ERiybNI+uU6z2Wkz+sI2JINNf8+C2F2bn8+OjU4rahqxex8gpbQf7pqdn0en0u7g28OblqPSdX2UZvj3y8iB6vPcewmK+xFhSw5eEpLucC8OG8e4nu1paQoIYc/vZlZr39NZ4ets8XC79cy4oNuxjWvzP7lzxPTm4+f5lhG3BIS89i7sKlbPrPswDMWbCUtPTq//d0c3dn8O0P8tVLUzBWKx2ih9K4aRSbF72PJaoNl/6pD807defYnp/5YPI9iJsbA26+hwYNA4j/dS+r3nsdEcEYQ/drbi51VaarktduIGRQf6JXL6EoN5fdT80obuu79FM2XWu7Onbf9Hl0enEm7t7eJMdsJGXtBgDaTHoEv5bNwWol58RJ9rp6ZSWA1UrcO/Np+excxM2NU6tXknv8GOFjx5N96CDp22JJXfUtzR95ksve+DeFmRkc+5vtysqG7TsRPnY8FBZijJW4Ba8X9+wutDr+fGbEVONqoD86EYkClhljOtqXJ2I7v9UU+MkY85aIPAY8ZoyJEpE7gO7GmIfs8UftyymObSKyFjhg/8PeH3jLGNNJROYCAdiGCo2IdDXGbC+730pyHQPcC4wAGmEbEuxljEkQkUxjTMNzbPue/ev80r68CfibMeYLERGgszFmp73tCyAXyDDGPOC4PbYiuA+43Riz2T582cY+51MUtkK3zhhzm4gsx9bru9wYkyYilxpjfrPvbytwj0MPupz7JKpO/cccHHpxzm846/YmvasOushee6tuXZ/UYtz1tZ1CKeFdLFUHXWRd/vtdtUvUkZQMp35XW4T410o51OHKir0M3C8i24GQqoIrkWvf/m3gbvu62YAnsEtE9tqXnfUVsAvYia2H9aQxxtXxiHHA3SKyE9gLjHJo+wy4jfJDlRhj8oE/Ay/Yt92BbegTY8xRbD29sxeVbMDWYzw73vaS/YKZPdiGNne6mLtSqg5xE3HqVVv+p3tyqu7Snty5aU+uatqTq1pN9OR+P5Xp1O9qs0YNa6XS6Tk5pZRSLtMHNKvzIiKdgA/LrM4zxvRyYtupwI1lVn9hjKnG2XCllKpcXb/wRItcHWOM2Y3tfjhXtp2D7d49pZS6KOp4R06LnFJKKdfV9asXtcgppZRymdTxrpwWOaWUUi7Tc3JKKaXqrTo+Z6oWOaWUUq7T4UqllFL1lg5XKqWUqrfqeI3TIqeUMzILrbWdQil17RFaAI/eP6u2UyhluU/d+vOWvC+l6qA/oNp8LqUz6votDkoppeowN4xTL2eIyDAR+UVEDonI0+eIu0FEjIh0rzo/pZRSylXG6tyrCiLiDswHhgPtgVtEpH0Fcf7Ao8AWZ9LTIqeUUsplYqxOvZzQEzhkjDlsn9brU0pPA3bWbOAFbPNeVkmLnFJKKdc52ZMTkQkiss3hNaHMnpoAxx2W4+zrionIn4BLjDHfOJte3Tozq5RS6o/FyTlJjTELgAWuHkZE3IBXgTvOZzstckoppVzn3FCkM04AlzgsN7WvO8sf6Aistd+AHg4sEZHrjDHbKtupFjmllFIuE2thTe1qK9BaRFpgK25jgVvPNhpjzgAhxccVWQtMPFeBAz0np5RSqjpq6OpKY0wh8BDwHbAf+NwYs1dEZonIda6mpz05pZRSrqu54UqMMcuB5WXWVfjkA2PMIGf2qUVOKaWU66x162lAZWmRU0op5TIn74GrNVrklFJKuc5aVNsZnJMWOaWUUq7TnpxSSqn6SocrlbqAbnptOh1HDCY/O4f375jI8e17y8WMem4ivcaPwTc4kMf8O5Rq63bjNYyc8RjGGOJ27ufdcY9WK5/e86ZyyVXRFObksu7ByaTu2lcupvHlHYiePw8PH2+Of7+O2MlzAGjUsR39Xp2Bu7c31sIiNk2aScrPu13O5eiurcR89DZWaxEdBw6nx8iby8Uc3BJD7OL/ABDarCXD758MwGt3DKfxJVEABDSycN3jM13O46wF0+9kRPTlJJ9Kp+uNFU8V9OqTtzKsXydycvO5e/q/2HHgdwBuv7YvT//lWgCef2cpHy7dVO18zmoz+QlCovtRlJPLvqkzydj/S7kY//bt6DBnOm4+3qSs28jBea8AYBl6JS0fnIBfyyh+HHsHGXv3VzuftlMm2fLJzWXvlBlk7DtQcT7zZuLubcvnl7kvAdB64qOEDo7GWlBAzvE49k6ZQWFGZrVzOqc6XuT0Pjn1h9Vx+CAsrVswrfUgPpowhVvfmlNh3K6lq3i+Z/nnvFpaRXH15Ad4qd8NzOo4lC8eq958aE2HRBNwaXO+6H41Gx6fRt9XplcY1+/l6Wx47Fm+6H41AZc2p+mQAQD0nDmJ7S/OZ/HA6/l53uv0nDHJ5Vys1iLWfDCf0U88x/h5C/kldg2pJ46ViklLOMHWZZ9x0zOvMn7eQgaOu7+4zcPLi9tmv8Vts9+qkQIH8MHSjYx88NVK24f170SrZmG0HzWZ+597nzemjAcgOMCPqRNG0f/25+h322ymThhFkL9vjeTUeEBffJs3Y9PwMeyfMZd20yqe3aXdtKfZN30Om4aPwbd5Mxr37wtA5qHf2PXok5zetr1G8gmJ7odv80vYOGw0+6c/x2XTJlcYd9n0yeyfNpuNw0bj2/wSGg+w5ZO6aQubr7uJ2NFjyTp6jKgJd9ZIXudUQ/fJXSha5FwkIpEi8mVt51EXiUgXERnhsDxDRCbW9HE6jxpK7AeLADiyZTsNgvwJCA8tF3dky3bSE5LLre9/z1hi5n9A9ul0ADKSU6uVT/MRV3Lo068BSN62E6+AABqElc6nQVgonv4NSd62E4BDn35N8xFDADDG4OnfEACvAH+yE5JcziXh8C8EhkUSaInA3cOTNr0G8dvPm0vF7IlZweVXXouPnz8AvgFBLh/PGRt+PkjamaxK268d2JWPltl6aD/uPkyQvy/hIYEM7duRVbF7SUvP4nRGNqti93J1v041klPoFQM5ucT2rN/0XXvw8PfHK6RxqRivkMZ4+PmRvmsPACeXfEPolQMByD58lOyjpT88VDufr235nNm5B4+AhniFhpSK8QoNwaNhQ87stOfz9TdYrhwEwKlNsZiiouLtfcLCaiy3StXxIqfDlXZiexiaGOPcT8MYEw/8+cJmVTNExMP+NIGLpQvQnTI3dda0oCZhpB2PL14+HZdAUJPwCgtaRSxtWgIwacOXiLs7y2b8nX3fxbicj29EGFknThYvZ8cn4BcRRk5iST5+EWFkxScUL2fFJ+AbYftDFDtlLsO+fIees55ExI1lw25xOZestFT8G5UUWP9GIST8VnrYKy0hDoDPZj+OMVZ6j76NqM49ACgsyOfj6Q/h5u5O92tuplW3vi7n4qxISzDHE04VL8clniLSEkxkaBBxiSXrTySlERlaMwXZ2xJKbkJi8XJeYhLeYRbyU0o+8HiHWchNLPnAkZeQhLel/IepGsknzFIqn9yEJHwsoeQnl8wq7mMJJTfRISYxEe8wS7l9NRlzHQkrVl6QPB1J0cX803L+/qd7ciISZZ+F9gNgD/CsiGwVkV0iMtMe87yIPOiwzQwRmWjfdo99nbuIvOSw7b329fPPPo5GRL4SkXft7+8SkTki4ici34jIThHZIyLlT5qUHPeoiLwoIrtF5EcRaWVfHyoi/7Ufe6uI9HPI80MR2Qh8WMk+7xCRxSLyvX3/D4nIX0Vku4jEikgje1wX+/Iu+9cRbF+/VkResOdzUEQGiIgXMAu4WUR2OHxN7e3xh0XkkUryKZ6KYx8Zzv0Qq8HNwx1L6xa8Mmgs/7rlYW5bOI8GgQEX/LiVuezOW9gy9Xk+6zSYLc/Mo//rz13Q45miIk4nnODPk19i+P2T+eHffyc3y3b+5u5XPuTWmW8w/L6nifn4bU4nxlexN1WXtLj3LkxREQlLV1z4gxnj3KuW/E8XObvWwJvA49jmLuqJrSfSTUSigc+Amxzib7Kvc3Q3cMYY0wPoAdxjf8joemCAPaYJttlusa9bBwwD4o0xlxtjOgLfVpHrGWNMJ+AN4O/2da8Bf7Mf+wbgHYf49sAQY8y5ugQdgTH2vOcA2caYrsBmYLw95gPgKWNMZ2A34HiyycMY0xN4DJhun+xwGvCZMaaLMebs96odcDW27+90EfEsm4gxZoExprsxpnt7/CtMduADtzN1+3Kmbl9O+skkgi+JLG4LahrO6RMJFW5XkdNxCexc8gPWwkJSj8aRdPAIltZRTm8PcNndtzI65itGx3xFTmISfk0iitt8I8PJOplYKj7rZCJ+keHFy36R4WTbY1rfMpqjS22fvI8s/pbQbp3PKxdHfsGNyThV0oPMOJWCX3DpYa+GjUJo2bU37h4eBIaGExzelNOJJ4rbAAItETRt15nk339zORdnxSelcUl4o+LlpmGNiE9KIz75NE3DStY3sQQTn3za5eM0veVGev33I3r99yPyU1LxCS8Z0vMOs5CXWHqYOC8xCR+HnpJ3uIW8JOdGC5zK59Yb6b3oY3ov+pi85JRS+fiEW8gtc6zcpORSw5A+YWGlco4YfS0hgwawe9IzNZbjOdXx4UotcnDMGBMLDLW/tgM/Y/uj3NoYsx2w2M/BXQ6kGWOOl9nHUGC8iOzANiV7Y2zFcz0wwD6F+z4gUUQigD7AJmwF4yp7b2iA/Snb5/KJw7997O+HAG/Yj70ECBCRhva2JcaYnCr2ucYYk2GMSQbOAEvt63cDUSISCAQZY86O470PRDtsv8j+709A1DmO840xJs8YkwIkAS6dLIh580PmdB3BnK4j2LF4Jb3HjwGgRa+u5J7JcHqoEmDH4pW0GdQbAL/GwVjatCDl8O/nlc/+f33M4oHXs3jg9Rz7ZhWtxtoucAntfjkF6RmlhioBchKTKcjIJLT75QC0GjuKY8tXAZCdkER4v54ARET3Jv0318/1hLdoy+nEE5xJTqCosICDW9ZyadfepWIu/VNf4g7ssuWVcYa0hDgCLRHkZmVQWJBfvP7kr3tpFNnM5VyctSxmB+NG2oZFe3ZqyZnMbBJSzrBy0x6G9OlAkL8vQf6+DOnTgZWb9rh8nLhPvmDLDePYcsM4klatJeK6awAI6NyRwszMUkOVAPkpqRRmZRHQuSMAEdddQ/Jq14e1y+Xz8RfEjrmV2DG3krxqLRGjbPkEXt6RwozMUkOVAPnJKRRmZhJ4uT2fUSX5NO7fh6i7x7Pjgcex5jo1cXa11eDM4BeEnpODs2fCBZhnjPlnBTFfYDv/Fk75XtzZbR82xnxXrkEkCFuPbR3QCFtPMNMYkwFk2Ge6HQE8JyKrjDHnusTPVPDeDehtjCn1P9o+31LlZ/lL5Dm8tzosW3Hu/8fZ+KIq4h2PU1WsU/YsX0PHEYOZfSjGdgvBnSVXI07dvpw5XW3Xvox54Wl63DoKL98GzDu+mY3vfMaymbbzb+2HDmD63u+xFhWxaNI8sk653kM4/n0MTa+K5safVlKYk8v6h6YUt42O+YrFA68HYNOkWUTPn4u7jw9xP6wn7od1AGx49Fl6z5uKeLhTlJfHhscrvszeGW7u7gy+/UG+emkKxmqlQ/RQGjeNYvOi97FEteHSP/WheafuHNvzMx9Mvgdxc2PAzffQoGEA8b/uZdV7ryMiGGPofs3NNG7S3OVczvpw3r1Ed2tLSFBDDn/7MrPe/hpPD3cAFn65lhUbdjGsf2f2L3menNx8/jLjXQDS0rOYu3Apm/7zLABzFiwlLd2Z/9pVS123kZDofvRd8RXW3Fz2PlPy69frvx+x5YZxAByY/YLtFgJvb1I3bCJ1ve0CmdArB9F2ykS8GgXT5c2/kfnLQbZPqHA03ikpMRsIie5Hv+++pig3l31TZhS39V70MbFjbDPPHJj1PB3mzcDN24eU9RtJWbcRgHbPPIWblyfd/vUmAGd27mb/zHku5+OUOn4LgZhaHCutbSISBSwzxnQUkaHAbOBKY0ymiDQBCowxSSLSAViIbS6jgcaYk2W2nYCtUN1ojCkQkTbACWNMloi8B1xhfzUGvgS+NMY8LiKRwCljTK6IjAT+YowZXUmuR4G3jTHPi8htwM3GmGtF5GNguzHmJXtcF2PMDhGZga2YvnyOr/8OoLsx5iGHY3Q3xqQ4tonITuAhY8x6+34D7fmvxT6fk4iEANuMMVEicgNwnTHm/+z7LZWL/VzmSGPM0cpyu0+i6tR/zB7BPrWdQin5y6sa2b74Hr2/erdg1LTl+a7fY3ghmDr4IOOr9v8k1d2H9VCsU7+rbq16V/tYrtCenJ0xZqWIXAZstveCMoHbgCT7nEb+2ArXyQo2fwfbUN3P9qs0k4GzxWo9MNQYc0hEjmHrza23t3UCXhIRK1AA3M+5BYvILmy9orPn2R4B5tvXe2DrMd53fl99lf4PeFtEfIHDQFU336wBnrYPoV7gj5FKqdpkCgtqO4Vz+p/uyf2ROPayajuXi0F7cuemPbmqaU+uajXRkyvat9ap31X39oO0J6eUUuoPRmchUOdDRL4CWpRZ/ZQxJqoa+7waeKHM6iPGmOtd3adSSgHFT1ipq7TI1TEXovDYr/osd+WnUkpVWx0chnWkRU4ppZTLTGF+badwTlrklFJKuU57ckoppeoroxeeKKWUqre0yCmllKq3dLhSKaVUfaW3ECillKq/9OpKpZRS9VVdfFyZIy1yqk66b0zb2k6hlJM/OT8Z68Ug4+rew2qW+9StPycjvDrVdgql7OxSTx87qxeeKKWUqrfqeJHTmcGVUkq5zFitTr2cISLDROQXETkkIk9X0P5XEdknIrtEZJWIVDmbrxY5pZRSrrMWOfeqgoi4A/OB4UB74BYRaV8mbDu2Kcc6Y5uA+sWq9qvDlUoppVxmCmrs6sqewCFjzGEAEfkUGAXsKz6WMWsc4mOxTWx9TtqTU0op5Tqr1amXiEwQkW0Orwll9tQEOO6wHGdfV5m7gRVVpac9OaWUUq5z8sITY8wCYEFNHFJEbgO6AwOritUip5RSymU1+IDmE8AlDstN7etKEZEhwFRgoDEmr6qdapFTSinlshq8GXwr0FpEWmArbmOBWx0DRKQr8E9gmDEmyZmdapFTSinlMmt+YY3sxxhTKCIPAd8B7sC7xpi9IjIL2GaMWQK8BDQEvhARgN+NMdeda79a5JRSSrmsJh/rZYxZDiwvs26aw/sh57tPLXJKKaVcZor02ZVKKaXqKS1ySiml6i2rzien1IXh36U7Te66D3FzJ3XVCpK++rxUu3h40uyRSfi2bE1hRjrHXp1LfnIiXqFhtHttIXnxcQBkHTxA3ILXaySny6Y/Rejg/hTl5LJ74rOk7z1QLiag42V0fnk2bj7eJK/ZwP6ZLwDQ+q8PYrlqEBgr+Slp7Jr4LHlJydXPadr/t3ff8VFV6R/HP99QgvQSCCACshZEQbEhTbE3rKxlbWt3V3ctu3ZdUexrW1d317pW/Ll2BXsDKYINpFrBgtTQQguQ5Pn9ce+QSQ8hzpmE5/16zSuZe8/MfWaSzJNz7rnPuZysQf0pXJPH1MuHlhtTz7/fQEajTHJGjWPmsKha0jaXnE/2Aftghca6xUuYevnQTY5pu6v+Stbe/SlYk8eMa25gxcyvS7Vp1qM7O948NIrno3F8c+tdALQ7aH+6XXAuTbp15ZMTT2fF9JnVjuOhoWdw2N47s2hJLr2Pu67MNndffhKH9O/Jmrx1nDX0USZ/9RMApx7RjyvPPgKA2x4ZwVMjxlc7jmRNdtqV7JPORhn1WPbROyx+48Vi+1W/Ph3PuYRGXbahYGUuv/znDtYvXkjzvfahzaFFK1NkdurK7OsvYe3Ps2skroqk+1I7XvHE1U4ZGXQ65wJm3XwtX118Dq0G7Etmp87FmrTe/2AKVq5k5p/OYNHIl+hw6lkb9q1dMI+vLz2fry89v8YSXNtBA2iydWc+GnQE068exo43X1tmux1vupZpV93AR4OOoMnWncka1B+A2Q89zrhDj2PcYSew8IOP2Oai8zY5pqxBA2jctTNj9juKadfcRI9hV5fZrsewq5l29Y2M2e8oGnftTNY+cUwPP8G4w09g/BEnsujDMfzmzyWLVGycxE2CQQAAIABJREFUNgP70bhLZ8Yfeiwzr7+F7teVqsELQPfrrmTG0JsZf+ixNO7SmTYD+gGw8rvvmXLR5Sz7bNImxQHw5IhxDL7g7nL3HzKgJ9t0zqbHUVfxx5ue4P6rTwOgVfMmXHPuUQw49Sb6n3Ij15x7FC2bNd7keFAG7U89j5/vuYHvr7mA5n32pmHHrYo1aTnwQApWreT7K89jyTuv0e743wOQO2E0s4dezOyhFzP34XtYn7MgJQkOotmVVbmFUqNJTtLpku6v5mMfl/TbKjx/x4183q6SplXynNWKeWNjkzRK0u7x929IallB24slNU66X2H72qLk66quxttsz9r5c1m3YD6Wn8/SsaNosUffYm1a7NmXJaPeBWDZx2No1nOXTT1shdodtC+/vDQiOt6kqdRv1ozMtlnF2mS2zaJ+syYsmzQVgF9eGkH2QfsBkL9y1YZ29Ro3ArNNjin7gH2Y+/JIAJZPnkqD5uXE1LQJyydHMc19eSTZBw4CoCA5pi222OSY2u63D/Neex2A3CnTqN+sGQ2z2hRr0zCrDfWbNCF3SvRnO++112m7f1TYYvWsH1j9w4+bFEPC2C++YenyVeXuP2Kf3gwfGfXQPpk6i5bNGtM+qwUH9duJ9ydMZ2nuKpatWM37E6ZzcP9NX7tui27bsm7hPNYvWgAF+eR+MoZmvfsUa9N01z4sH/cBALmfjaPxDjuXep7mffYmd+KYTY6nqmpyFYJfQ23ryZ0ObFSSS6HT2YjYzOwwM1tWQZOLgcYb0b62KPa6qqtB6zaszykaNlu/JIcGbbJKtMkqalNYSMHqVdRr1hyAhu3as90d/2KbYXfQZIedNjUcABpltyNv7oIN9/PmLyCzfbtibTLbtyNvXlKbeQtolF3UZttL/8Sg8W/T8ajD+fbuf29yTJnZ7Vgzt2jB13Jjml90XW3evAVkJsf01wvYZ+ybdDjqUL79x382LZ52bcmbX/T61y5YWOxYiZjzFhTFs3b+QjLbtd2k41ZHx3at+Hn+kg335yxYQsd2rejYtiVzFhRt/2XhUjq23fT/P+u3akP+kqKFVdcvyaF+q+L/ANRv2Yb1iTaFhRSuWUW9ps2KtWm+5wByJ360yfFUVWFBYZVuoVQpyUk6LV6/50tJT0k6QtJESZMkvScpu4zHZEt6OX7Ml5L6lexVSbpU0vVlPPY6SZ9KmibpIUV+S1SrbLikyZK2kLSbpNGSPpf0tqQO8eN3SxwXuKAKL7GjpLckfStpw9INkn4naWocx+3xtnpxr3NavO+SsmKrwnv6g6QsSU0kvR7HO03SCZIuJEqYH0r6sET7rpJmSnpY0nRJ7ySOJ2mP+Oc0WdIdifda0o6SPom3T5G0bQVxFftZx9u6SvogaQ2nzvH2Yr1vSSvjr4PiXusLkr6SNDz+GZZ6XSWOvaGA64uz51T2Flbb+qVLmHHeKXxz2QX88viDdLn4SjK2qIHhphrw7Z33M6rfwcx99XU6//7E0OEA8O1d/2L0gEOZ9+qbdDn1hNDhuAo06rYdhevWsvaXn1J2TCsorNItlEqTnKQdgWuB/cxsZ+AiYCywl5n1Bp4FLi/jof8ERseP2RWYvhFx3W9me5jZTsAWwGAzewH4DDjZzHYB8oH7gN+a2W7Af4Gb48c/Bvw5PnZV7AKcAPQETpC0VTz0eDuwX7x/D0lHx99vaWY7mVlP4LGSsZnZmo14rYcAc81s5/j1vmVm/wTmAvua2b5lPGZb4F9mtiOwDBiS9LrPi9+f5ClPfwDujbfvTlTdu5RyftYQvc9PxGs4DSf62VamN1GvrQfQDehf2esys4fMbHcz233I1p0qfPL1SxbTIKvov/sGrbNYvzinRJucojYZGdRr3ISCFblY/noKVq4AYM2s71g3fy6ZHSsqdl6+zqeeQP83/kf/N/7H2oWLaNSx6P+9Ru2zWTu/eOWhtfMX0qhDUpsO2cV6LQlzX3mD9ods9HWvUUynHE+/Ec/Sb8SzrF2UwxYd21ceU1LvrlGHbNaWFdOrb5B9yP4bHU+n3x1HnxeH0+fF4azLWUyj9kWvPzO7XaljrV2wsFjvNrN9uxqZgLOx5i5cylbtW2+43ym7NXMXLmXuomV0yi7avmW7VsxdtOmDLPlLF1O/ddFoRIPWWeQvXVy8zbLFNEi0ycggY4smG36XAZrvOZDcCakbqoQ6kOSIPuSfN7McADNbQlQ4821JU4HLgB3Ledx/4scUmNnyjYhr37inODV+nrKef3tgJ+BdSZOJPpw7xeetWppZor/+VBWO976ZLTezPKK1i7oAewCjzGyRmeUTfbjvDcwCukm6T9IhQO5GvK6yTAUOlHS7pIFVfJ9mm9nk+PvPga7x625mZh/H259Jav8xcLWkK4AuFSThsn7WAH2Tnu8pYEAVYvzEzOaYWSEwGehahcdU2ervviazw5Y0bJeN6ten1YBB5H42oVib3E8n0HrQgQC07DuQFdO+BKBe8xaQEf3qN8xuT8MOW7JuwXyq46en/se4w05g3GEnsOCdD9ny2GjGXcvePclfsZK1i4on3rWLcshfsYqWvaNzOFseewQL34k6tY27Fk2cyT5wX1Z9X72JAz89/RzjjziR8UecyMJ3PqTjMYMBaLFLT9aXF9PKVbTYJYqp4zGDWfDe6FIxtTtwEKu+/2Gj45nzf88zccjJTBxyMgvfH0WHIw8HoHmvnchfuZJ1OcU/yNflLCZ/1Sqa94qGkTsceTiLPhi90cfdVCNHT+bkwdGElz17dmP5ytXMz1nOO+OncUDfHWnZrDEtmzXmgL478s74ck/7V9ma2d/SsF1HGmRlQ736NN9zICsmTSzWZuWkT2jRPzqH23z3/qyeOaVopxQNVX6SuqFKSP9zctW9hOA+4G4ze03SIOD6Kj4un+KJtVHJBpIaAf8mWv3153g4s1Q7QMB0M+tb4vHVGRxPrmRdQAXvi5ktlbQzcDBRD+l44MxqHDPxfN9I2hU4DLhJ0vtmNmwj461weNTMnpE0ETgceEPSeWb2QXVjTrLh5ykpA2hYQYw1e7lKYSFzHvkX3f52C8rIYMkH75D384+0P/E0Vn/3DbmfTWDx+2/R5cLL2eH+x8hfuYIf77kFgKY9etL+xNMgPx+zQuY89M9i/w1X16IPx9B23wHsM3okBWvymHJZ0bT0/m9EyRBg+t9uptedN1KvUSaLRo1j0aixAGx/xUU06dYVKywk75d5TLvmpk2PadRYsgYNYO8PXqMgL4+pV1y/YV+/Ec8y/ohoSHTG0Fvp+fcbqJeZyaLR48iJY9rusgtp0q0LFBay5pd5TP/bzWUdpsoWfzSOrL370+/NlynMy2P6tUW/6n1eHM7EIScD8NWNt0eXEGRmsnjseBaPiSaAtN1/ENtffSkNW7dil3/fw8qvv2HSuRdWK5anbj2PvXfbnqyWTZn11p0Me+BVGtSvB8DDL4zizbFTOGRAL2a+dhtr8tZx9vX/BWBp7ipueXgE45/+GwA3PzSCpbnlT2CpssJC5g9/kK3+ej3KyGDZmPdYN/dnso4+ibwfvmPl5E9Y9tG7dDz3L/zmtgcpWLWCXx64Y8PDG2+3I/lLcqKJKykUcuZkVcgqmS0VD2G9DPQ1s8WSWgPvA2eb2eeSHgO2NrNBkk4nSk5/UrSq6wQz+4eiZc2bAquBeUS9sJXAaKLhueslPQ6MBN4Dvib6z78e0eqvL8RtRhAl1w8lNSTqdZ1qZh9LagBsFxf0nAKcb2Zj43Nph8dDgWW9vg0xx/dHAnfGMUwAdgOWEhUNvQ8YB6wzs1xJOwFPm9kuybFV8F6OAi41s88k/UA0dNgQWGJmeZIGx+/r0XEv9kgzmx0/NtG+KTAy8XokXQo0jd+facBZZjZR0i3x43eS1I2o92eS7gTmmNk/qvKzNrMlkl4j6uE9Fb9fR5nZMZKuJeo9XhEP5b4cHUKD4tc5OH7e+4kKrD5e8nWVZ/KQgzd9amENmvd59Xp6vxbVS785Y/Ubpddlt4c13PQZjzXpy11yKm+UYjs89po29Tl+uOL3Vfpb7Xr7E5t8rOqo9LcyTho3A6MlFQCTiHpuz0taCnwAbF3GQy8CHpJ0FtF/8n+Mk9Ew4BOipRRKXZVqZsskPQxMA+YTLb+Q8DjwgKQ1RENovwX+KalF/Fr+QXTu7wzgv5IMeKfSd6Hs1z1P0pXAh0S9xtfN7NW4F/dY3HMBuKqs2DbivFxP4A5JhcB64I/x9oeAtyTNLee8XFnOAh6On2s0kBj6PB44VdJ6ovf0lrIeXM7P+nTgz0Sv+TJgEdH7C/Aw8KqiCT5vAVX5d7Y6r8s5l6bSvaxXpT05V3tIampmiRmOVwIdzOyiSh6WlrwnVzHvyVXOe3KVq4me3KxLTqrS32q3e55Jz56cq1UOl3QV0c/1R6JemHPO/WrSvazXZpPkJB1MdElAstlmdkxZ7TfxWC9Tegj3CjN7u6aPlczM/gf8r7J2ktoQnVctaX8zW1zGduecK1O6TzzZbJJcnGB+1SSTdKwaT5w1KU5kv26NK+fcZiFkNZOq2GySnHPOuZrnw5XOOefqrHSfXelJzjnnXLVZQVpNhC7Fk5xzzrlq83Nyzjnn6qyC9Z7knHPO1VF+Ts4551yd5efknHPO1VmFnuSc23g5Xy2pvFEKNWjSsPJGKZTVvXXljVJs0Yz0qs2YbrUid56cVXmjFFtXA8/hw5XOOefqLJ944pxzrs5K90sI0m+9Duecc7WGFViVblUh6RBJX0v6Ll4urOT+TEn/i/dPlNS1suf0JOecc67aairJSaoH/As4FOgB/E5SjxLNzgKWmtk2wD2UXlmmFE9yzjnnqq2woLBKtyrYE/jOzGaZ2TrgWeCoEm2OAp6Iv38B2F9ShYuxepJzzjlXbVZoVbpJOlfSZ0m3c0s81ZbAz0n358TbymxjZvnAcqBNRfH5xBPnnHPVVrCuoErtzOwh4KFfN5rSPMk555yrthqsePILsFXS/U7xtrLazJFUH2gBLK7oSX240jnnXLUVFliVblXwKbCtpK0lNQROBF4r0eY14Pfx978FPjCzCp/ce3LOOeeqraZWBjezfEl/At4G6gH/NbPpkoYBn5nZa8CjwFOSvgOWECXCCnmSc845V201WbvSzN4A3iix7bqk7/OA4zbmOT3JOeecqzZfhcA551ydVdXZlaF4knPOOVdt3pNz7le03VV/JWvv/hSsyWPGNTewYubXpdo069GdHW8eSkajTHI+Gsc3t94FwDZ/vZC2gwZSuH49a36ew4xrh5G/YmWdiafZLruz5Zl/QBn1WPz+myx8+bli+1W/AZ0vvIzG3bYlf0UuP959C+sWLaBh22y63/swa+fOAWDVN18x56F/VjuOkra/+rLoPcrLY/rV17NixlelY+/RnR1vvYF6mdF79PUtdwCw7aUX0XbfvTe8R9Ovvn6T3qMmO+1K9klno4x6LPvoHRa/8WKx/apfn47nXEKjLttQsDKXX/5zB+sXL6T5XvvQ5tBjNrTL7NSV2ddfwtqfZ1c7FoCHhp7BYXvvzKIlufQ+7roy29x9+Ukc0r8na/LWcdbQR5n81U8AnHpEP648+wgAbntkBE+NGL9JsVRVYcWTG4PzSwjSiKQ3JLWMv6/wL1dSV0nTytn3SKLmm6QfJGXF349PeuxJ1YzxKElTJE2OqxYMSNrXWdI7kmZKmpEonirpcUmz48dMlrRLdY5dUpuB/WjcpTPjDz2WmdffQvfrStVzBaD7dVcyY+jNjD/0WBp36UybAf0AWPLxRCYcfSITjz2J1T/+RNdzTq878WRk0OmcC5h187V8dfE5tBqwL5mdOhdr0nr/gylYuZKZfzqDRSNfosOpZ23Yt3bBPL6+9Hy+vvT8Gk1wWXv3p3GXrRh3yNHMHHoTO1x3VZntdhh6FTOvu5FxhxxN4y5b0WZg9B4tHj+Rj488nglHn8iqH36k67lnVD8YZdD+1PP4+Z4b+P6aC2jeZ28adtyqWJOWAw+kYNVKvr/yPJa88xrtjo9mr+dOGM3soRcze+jFzH34HtbnLNjkBAfw5IhxDL7g7nL3HzKgJ9t0zqbHUVfxx5ue4P6rTwOgVfMmXHPuUQw49Sb6n3Ij15x7FC2bNd7keKqiwKxKt1A8yaURMzvMzJbVwPOcbWYzytjeL/62K1CtJAe8D+xsZrsAZwKPJO17ErjDzHYgqkO3MGnfZWa2S3ybXM1jF9N2v32Y99rrAOROmUb9Zs1omFW8wk/DrDbUb9KE3CnR/wPzXnudtvvvA8CS8ROxguh8wvIvp5GZnV1n4mm8zfasnT+XdQvmY/n5LB07ihZ79C3WpsWefVky6l0Aln08hmY9a+R/jwq13W8f5r0avUfLv5xG/eZNadi2+GKiDdtmUb9pU5Z/Gb9Hr75Ou/0HAbBk/IRi71GjTXiPtui2LesWzmP9ogVQkE/uJ2No1rtPsTZNd+3D8nEfAJD72Tga77Bzqedp3mdvcieOqXYcycZ+8Q1Ll68qd/8R+/Rm+Mioh/bJ1Fm0bNaY9lktOKjfTrw/YTpLc1exbMVq3p8wnYP796yRmCpTYFW7heJJroZIekXS55KmxzXa/iDpjqT9p0u6v6y2SW029LqStjWV9L6kLyRNlZRcsLS+pOFxz+kFSY3jx4yStHsZMSZ6h7cBA+Ne1SWSPkruXUkaK6n0XzNgZiuTLr5sAlj8mB5AfTN7N6nd6qq+f9WR2a4tefMXbLi/dsFCMrPbFW+T3Y68BUW5du38hWS2a1vquToeeySLx2za8E46xdOgdRvW5yzacH/9khwatMkq0SarqE1hIQWrV1GvWXMAGrZrz3Z3/Ittht1Bkx12qnYcJWVmtyv2HuXNX0ijEq+/Ubu25C1IarNgQan3EWDLY48kZ8y4asdSv1Ub8pcUrR6+fkkO9VsV/6ekfss2rE+0KSykcM0q6jVtVqxN8z0HkDvxo2rHsTE6tmvFz/OXbLg/Z8ESOrZrRce2LZmzoGj7LwuX0rFty5TEtK7QqnQLxZNczTnTzHYDdgcuBF4GjknafwJRVe1SbSVVVGA0DzjGzHYF9gXuSqq6vT3w77jnlAucX8VYrwTGxL2qe4gusDwdQNJ2QCMz+7K8B0s6RtJXwOtEvTmA7YBlkl6SNEnSHfHSGQk3x8Oc90jKLOd5NxRwfX3porKa/Cq6nnsGlp/P/JFvpuyYFQkdz/qlS5hx3il8c9kF/PL4g3S5+EoytkjN0FdVbX3emVhBAfNHhP2ZNeq2HYXr1rL2l5+CxhGSD1duPi6U9CUwgai22tbALEl7xUmsOzCunLbbVvC8Am6RNAV4j6gKd2KM5mczSzzn08CAMh5fFc8DgyU1IEpaj1fU2MxeNrPuwNHAjfHm+sBA4FJgD6AbceIEriJ6/XsArYErynneh8xsdzPb/fBWpXs3AJ1+dxx9XhxOnxeHsy5nMY3aFw1XZWa3Y+2ChcXar12wkEZJvYDM9u1Yu7AogXY4ejBZ+wxg2hV/q+gllyvd4klYv2QxDbKK3sMGrbNYvzinRJucojYZGdRr3ISCFblY/noKVq4AYM2s71g3fy6ZHUsWg6+6Ticdx14vPcNeLz3D2kU5xd6jRu3bkbew+D80eQsXFRuGbJSdXex97HD0EWQNGsjUy66tdkwA+UsXU791Ue+2Qess8pcWL4OYv2wxDRJtMjLI2KLJhvcGoPmeA8mdUDNDlVUxd+FStmrfesP9TtmtmbtwKXMXLaNTdtH2Ldu1Yu6iTT7zUSU+XLkZkDQIOADoa2Y7A5OARkQ9t+OBIcDLZmYVtC3PyUBbYLf4PNiCpPYlf3Wq9asUDyu+S7RW0/HA8Co+7iOgWzzEOgeYHK8FlQ+8Auwat5tnkbXAY0Tn66plzv89z8QhJzNxyMksfH8UHY48HIDmvXYif+VK1uUU/5Bal7OY/FWraN4rGnLrcOThLPpgNABtBvSly5mn8uWf/kph3to6EU/C6u++JrPDljRsl43q16fVgEHkfjahWJvcTyfQetCBALTsO5AV06LOe73mLSAj+mhomN2ehh22ZN2C+dWOZc4zzzPh2JOYcOxJLHp/FB2Oit6jFjvvRP6KlaxbVDz5rluUQ/7KlbTYOX6Pjir+HnU96zQmn38JhXl51Y4JYM3sb2nYriMNsrKhXn2a7zmQFZMmFmuzctIntOi/HwDNd+/P6plTinZK0VDlJ6kZqgQYOXoyJw+OTq3v2bMby1euZn7Oct4ZP40D+u5Iy2aNadmsMQf03ZF3xpc5L63GpXtPzi8hqBktiFarXS2pO7BXvP1l4BqgN0W9l/LaVvTcC81svaR9gS5J+zpL6mtmHxNNJBlbxXhXAM1KbHsEGEE0jLm0vAdK2gb4Pk7YuwKZRFXAlwItJbU1s0XAfsBn8WM6mNm8eJj1aKBG/voWfzSOrL370+/NlynMy2P6tcM27Ovz4nAmDjkZgK9uvD2asp+ZyeKx4zec69r+msvIaNCQXR/5FwDLv5zKV8NuqxvxFBYy55F/0e1vt6CMDJZ88A55P/9I+xNPY/V335D72QQWv/8WXS68nB3uf4z8lSv48Z5bAGjaoyftTzwN8vMxK2TOQ/8s1nvZFDmjx5K1d3/6v/0qBXl5zLj6+g379nrpGSYcG82H+mrYbex46/VkZDYiZ8w4cj6KBiy6X3sFGQ0bsNuj/wai92jmDbdWL5jCQuYPf5Ct/no9yshg2Zj3WDf3Z7KOPom8H75j5eRPWPbRu3Q89y/85rYHKVi1gl8e2HCancbb7Uj+kpxo4koNeerW89h7t+3JatmUWW/dybAHXqVB/WjU/+EXRvHm2CkcMqAXM1+7jTV56zj7+v8CsDR3Fbc8PILxT0cjADc/NIKlueVPYKlJaX6ZHKqkgLOrgvgc0ytEsxa/BloC15vZKEkjgR5m1q0KbX8AdjezHEkrzaxp3EsaATQlShp7ES0PD/BWvG03YAZwapw8RwGXmtln5TxnA6IiqG2Ax+PzcsTn2S42s7cqeK1XAKcB64E1RLMmx8b7DgTuIhpi/Rw418zWSfqAqDcqYDLwBzOr8BKJ93bcw38xK5DVvXXljVJs0YycyhulUKe9qj/E+mvYeXJW5Y1SbN2k/1a4qnZV/Kdl9yr9rf5x2VebfKzq8J5cDYiH4Q4tZ9/gjWjbNen7pvHXHKBvWe2JznOV9TyDKnnO9UQ9rQ0kdSQavn6nnGMlnuN24PZy9r0L9Cpj+35lNHfO1QEhZ05WhZ+Tc0g6DZgIXGNmNbNuhnNus+Dn5FzaM7MniS7k3kDSGcBFJZqOM7MLUhaYcy7tpfs5OU9yrkxm9hjRTEjnnCtXyF5aVXiSc845V23ek3POOVdneU/OOedcnbXek5xzzrm6yocrnXPO1Vk+XOmcc67O8p6cc865Ost7cs455+qsdC/r5UnOOedctaX7cKWvQuDqNEnnmtlDoeNIlm4xeTwVS7d4ID1jSldeoNnVdeeGDqAM6RaTx1OxdIsH0jOmtORJzjnnXJ3lSc4551yd5UnO1XXpeN4i3WLyeCqWbvFAesaUlnziiXPOuTrLe3LOOefqLE9yzjnn6ixPcs455+osT3LObeYktZLUK3Qczv0aPMm5OklSF0kHxN9vIalZ4Hj+Lqm5pAaS3pe0SNIpAeMZFcfTGvgCeFjS3aHiiWOqJ6mjpM6JW8BY3q/KthTF0ivp+waSrpX0mqRbJDUOEVNt4knO1TmSzgFeAB6MN3UCXgkXEQAHmVkuMBj4AdgGuCxgPC3ieI4FnjSzPsABoYKR9GdgAfAu8Hp8GxkgjkZx4s+Ke7it41tXYMtUxxN7POn724h+d+4CtgAeCBFQbeIFml1ddAGwJzARwMy+ldQubEg0iL8eDjxvZsslhYynvqQOwPHANSEDiV0EbG9miwPHcR5wMdAR+BxI/JBygfsDxZT8i7I/sIeZrZf0EfBloJhqDU9yri5aa2brEklEUn0g9AWhIyR9BawB/iipLZAXMJ5hwNvAWDP7VFI34NuA8fwMLA94fADM7F7gXkl/NrP7QscTayHpGKKRt0wzWw9gZiYp9O912vOLwV2dI+nvwDLgNODPwPnADDML1mORlAk0AZabWYGkJkBTM1sQKJ5GZhYyySbi+Ev87Y7A9kTDlGsT+80s2HlCSf2AriR1BszsyQBxPFZi05VmtkBSe2C4me2f6phqE09yrs6RlAGcBRxENNTzNvCIBfxll/SFme1a2bYUxvMd0TmwMfFtrJmlvCclaWgFu83MhqUsmCSSngJ+A0wGCpLiuTBEPK76PMm5OifuJeWZWUF8vx7RMM/qALG0J5qw8DRwEkXnV5oDD5hZ91THlBRbZ2Ag0B84DFhmZrsEiuU4M3u+sm0pjGcm0CPkP0ZJsXQGFppZnqIx+NOBXYEZwMNmlh8yvnTnsytdXfQ+0cyzhC2A9wLFcjBwJ9EMz7uJZsXdBfwFuDpQTEjqRJTcBgK9genA/0LFA1xVxW2pMg1oH/D4yd6g6LP6NqLJSxOBPfBCzZXyiSeuLmpkZisTd8xsZajriczsCeAJSUPM7MUQMZTjJ+BT4BYz+0OoICQdStSL3FLSP5N2NQdC9lCygBmSPqH4OcIjA8SSkTQKcQDR7MpC4GlJPruyEp7kXF20StKuZvYFgKTdiGY1hjRS0kmUnsgQ5JwTUe9tAHCSpCuJZlaONrNHUxzHXOAz4EiiKfsJK4BLUhxLsusDHruknyXtZ2YfEF1juRXwo6Q2YcOqHfycnKtzJO0BPEv0ASqiYacTzOzzCh/468b0FtEU+c8pmsiAmd0VMKamRIluIHBKHE+XQLE0SEyNd8VJ2gp4EqhH9Ds0gGhCTEvgUjMLUomltvAk5+okSQ2IpqQDfB36A1TSNDPbKWQMySR9BmQC44lnWJrZjwHj6U/Ue+pC1NMV0WzGboHiWUHRtZUryEKzAAAXcklEQVQNiS7mX2VmzUPEE8e0A7Ad0fszB/g0HrZ0FfDhSldnJIZ0JB1bYtd2kjCzl4IEFhkvqaeZTQ0YQ7JDzWxR6CCSPEo0PFmspxuKmW2odRrPaDwK2CtcRGBmM4GZcUytPcFVjffkXJ0h6QYzG1rGxbMQ9QrODBDTVKIeQX1gW2AW0USGRE8lSPV/SdnALUBHMztUUg+gb4Bzcol4Jsb1M9OWpElm1jvAcfsDjwCFwJnATUA3oh7m8Wb2capjqk08ybk6Jb4Q/Ldm9lzoWCBaDaGi/aGGCCW9CTwGXGNmO8elzyaZWc9A8dxGdM7pJYrPZvwiUDzJowEZwO7APmbWN0AsnxAVN2gKjACONrOxknYF7jOz/qmOqTbx4UpXp5hZoaTLgbRIcokkFle2L2lFisNJlmVmz0m6CsDM8iWFHCZM9OJ2T9pmwH4BYgE4Iun7fKJZjUeFCYUGiWFuSYvMbCxE/wBI2qLihzpPcq4uek/SpUQXN69KbDSzJeFC4guiqd9LiYYqWwLzJS0Azgkw83NVPAXdACTtRcACyWa2b6hjl8XMzggdQ5Lkoh0lL5BvmMpAaiMfrnR1jqTZlLHqQKiZegCSHgZeMLO34/sHAUOIhgzvTfX5qMRQF7ATUXWPtkTDvFNSGUdSPC2AocDe8abRwLAQ9TTjeDoRvT+JocAxwEVmNidALEcC75UsSyfpN8AQM/t7qmOqTTzJuTonHsI5n+h6IiP6gHrAzIJdEC5pasnzXZKmmFkvSZND1IyMz8NtT9SzDHqZhaQXiZLtE/GmU4GdzazkTNlUxfMu8AzwVLzpFOBkMzswRDxVIek+M/tz6DjSjSc5V+dIeo5okcvh8aaTiFbCPj5gTO8Q1dR8Nt50AnAgcAjR9U4pWY2ggsssAIJdZlFWog+V/NMxnqoIuapFOvNzcq4u2snMeiTd/1DSjGDRRE4iGo57Jb4/Lt5Wj2h17lTZB/iA4hMrEoxodmMIayQNSEyqiKfNhyzFtljSKcD/xfd/B4RetdxVg/fkXJ0j6WngfjObEN/vA1xgZqeFjSx9SKqXWIooHUjahWiosgXR8OkS4HQzC1KAOL704z6gL1HyHw9caGY/hYinKrwnVzZPcq7OidcC256o0j5AZ+BroqngKb0AW9I/zOxiSSMoezJMiKr2SPoJeItoBuoH6bBuGoCk5gBmlhs6ltom1MXq6c6HK11ddEjoAJIkJi7cGTSK0roDg4ELgEcljQSeTQwXppqklsBpxKs0RJW0INRK3JKeIJpNuSy+3wq4K0TVnKSYKisLd2/KgqlFvCfn3GYu/gC/l2j2YL1AMYwHJgBTicpXARvW4wsRT6leUeiekqQxREW1HweGh7q8orbxnpxzKZBuVfbjmPYhmuV5CNGabsFmnxItdPuXgMcvKUNSKzNbChsq1gT9vDSzgZK2Japf+Xlc7usxM3s3ZFzpzntyzqWApK8oo8q+mQWZsSfpB2ASUfmz18xsVcWP+NXjuQRYCYykeO3KIFVqJJ0GXA08H286DrjZzJ4q/1GpIakecDTwT6JLZQRcHXiVjbTlSc65FEi3KvuSmqfT5A5JFwA3A8somqATuqfbg6LamR+Y2YykfRt6eSmMpxdwBnA48C7waFy/siPwcagFb9OdJznnUiANq+xvB/wHyDazneIP0CPN7KZA8cwC9jSznBDH31ghputLGk205M4LJav3SDo1HXqZ6ciTnHMpIOnDMjabmQWpsh9/YF4GPJiYTBFy9fK4IszRJeszpqsQk1AkXWxm/yix7SIz81mVFfCJJ86lQGVV9iX9PsUzCRub2SeJqfqx/BQev6RVwOT4n4Hknm6QSwiqIETv4DTgHyW2nY5fOlAhT3LOpYeLKCpOnAo5cRX7xFI7vwXmpfD4Jb1CUckzl0TS74hKwG0t6bWkXc2IKsO4CniScy49qPImNeoC4CGgu6RfgNnAySmOYYPKerGSXjSzIamKpwpS+fMaT/QPSBZwV9L2FUCQpZFqE09yzqWHlA1/xVPQzzezAyQ1ATLMLOQq5VWR0lmWcS93jpmtlTQI6AU8maiAAuyfqlji1eV/JKqj6TZSRuVNnHMpkLKeQVyYeUD8/apakOAg9efAXgQKJG1D1OPdimh9uSiYFF6/JymxMsMKSblJtxWS0uYykHTlPTnn0sO4FB9vUnx+53miSR9AuPXk0lChmeVLOga4z8zukzQpRCBmlviHpFmI49d2nuScS4GSBYgT2xOzB83sTykOqRHR+mjJlzCEXE+uMqk+Z7k+nvDxe4rW3muQ4hiADSXFyhWqKkxt4UnOudR4gzIKEIdiZmdUtF/SVWZ2aypiic8RPmlmFU18uSIVsSQ5A/gDUSmv2ZK2pmhFiVT7nOgfkLISvZHi85W1jV8M7lwK1LYFLVMdb3zeaT8zW5eqY7rNg/fknEuNpySdQ5oUIK6CVA8PzgLGxecJk88R3p3iOACQNJXSk12WE63WcFMqC2tL6m5mX0kq85+OUKXhagtPcs6lxjrgDuAakgoQk75DTake4vk+vmUQXeQc2ptEq0UkZlSeCDQG5hOt53ZE2Q/7VfwFOJfi18glGMXPq7oSfLjSuRSohQWIgywQKqlxOtSvLGu4NrFN0lQz6xkqNrdx/Do551LjOyAdPrxvj78eV0nT5yvZX6Mk9ZU0A/gqvr+zpH+nMoYS6knaM3FH0h5Eq0hAoBqfkhpJ+ouklyS9KOliSY1CxFKbeE/OuRSQ9DKwIxC0AHF8rqkX8Hk6TYSRNBH4LdECrumwKsIewH+BpkTnJ3OBs4HpwOFm9lyAmJ4jKuX1dLzpJKClmVX2D8tmzc/JOZca6VKA+C1gKdA0rpYhiqanm5k1DxWYmf1cYlWEgvLapiCWT4GeklrE95cn7U55govtZGY9ku5/GPd+XQU8yTmXAileRqdcZnYZcJmkV83sqNDxJPlZUj/AJDUgWpVhZqhgJGUCQ4gv3k8kXzMbFiom4AtJe5nZBABJfYhme7oKeJJzLgUkzaaMGYtmFmR2pZkdJSkb2CPeNNHMFoWIJfYHonXRtgTmAm8TrZQQyqtElwx8TtLwcghJlzM0AMZL+im+34X4HKYrn5+Tcy4FJLVJutsIOA5obWbXBYrnOOBOYBTRUOVA4DIzeyFEPOkm5PnAkiR1qWh/vEqBK4cnOecCkfS5me0W6NhfAgea2cL4flvgPTPbOVA83Yh6cnsR9VI+Bi4xs1mB4nmIqDDz1BDHr4ikdkT/KAFgZj8FDCft+XClcylQolpFBrA7Yf/+MhIJLraYsJcUPQP8Czgmvn8i8H9An0DxDABOj4eZ11I0MadXoHiQdCTRBeEdgYVEw5UziWbtunJ4knMuNZKrVeQDPwDHhwkFgLckvU2USABOICoiHUpjM0sugPy0pMuCRQOHBjx2eW4k6um+Z2a9Je0LnBI4prTnw5XObaYkHUu8eCowxsxeDhjL7USXNjxLNFx5AtCKqBRaymp8SmpuZrnlLW8TstaopM/MbPd4qLm3mRVK+jLUEHNt4UnOuRSobD25dCPpYzPrm8Ljza5gt6VqFqqkkWY2OGk2bPKFeymLoyyS3gOOBm4FsoiGLPcws36hYqoNPMk5lwKSxlPGenLpcv1cSaFqV5ZH0oFm9m7oOEKS1ATII0q8JwMtgOGpXBGhNvIk51wK+HpymybA+nbvm9n+lW1z6c8nnjiXGrVtPbl0k5L17eKCx42BLEmtko7bnOhC9ZSTtIKylz4KXoqtNvAk51xq1Lb15FK9aGplUjXkdB5wMdE0/c8peh9ygftTFEMxZpYO6+vVWj5c6VwKpNN6cpLqEU1D37eCNjuZ2bQUhlWhAMOVfzaz+1J1vIqk84zP2sB7cs6lRlqsJwdgZgWSCiW1KFFdP7lN2iS42A8pPt58Sc3MbIWka4FdgZvM7IsUxwHRhfKDiXqWpWZ8kr6jAWnBe3LOpUC6rCeXFM+rQG/gXWBVGsRzHPBWmiQVJE0xs16SBgA3EQ01X2dmoSqwuGrynpxzqZEu68klvBTf0sXfzOz5OKkcQJRU/kO4sl6JtewOBx4ys9cl3RQolg3iyTDbUrx25UfhIkp/3pNzbjMlaQugs5l9nQaxTIpLVd0KTDWzZ0JeqydpJPALcCBRr3IN8EnI6iKSziZaZ68TMJmoxNfHZrZfqJhqg5AFWZ2r8yQ9F3+dKmlKyVvAuI4g+qB8K76/i6TXQsUD/CLpQeIamvGipSE/n44nWtPuYDNbBrQGQtbShCjB7QH8GE8a6g0sCxtS+vOenHO/IkkdzGxeeWuChVoLTNLnwH7AqERvKeQaapIaA4cQ9eK+ldQB6Glm76Q4jrSdySjpUzPbQ9JkoI+ZrZU03cx8FYIK+Dk5535FZjYv/ppuC1uuN7PlUrHL4QrLa5wCVwEfEa0Knnjf5gWII51nMs6Ja6C+ArwraSmQbr9Xacd7cs6lQFzx/3agHdEHZ9BqFZIeBd4HrgSGABcCDczsD4HiOYNodfK+wApgDPCRmb0aIp50J2kfotqVb5nZutDxpDNPcs6lgKTvgCPMbGboWGDD8OA1wEFECfdt4EYzywscV3ui82GXAq1SXe2jxOK2pYS6pAFA0j+BZ81sfKgYaiNPcs6lgKRxZtY/dBwlSWpO1KNcETiOR4AewAKiXtxY4Aszy09xHB9WsNtCzmSU9HuiiTnbAy8TJbzPQsVTW3iScy4FJN0LtCc6n5J8MXiQa9Uk7QH8F0j0lJYDZ5rZ54HieZmoXuQMYDTRUOWsELFURcilf+JJMUOAE4kuAdk2RBy1hU88cS41mhOV9TooaZsR7oLsR4HzzWwMQHwR9mNArxDBmNkxcRw7AAcDH0qqZ2adQsRTBbcTVYsJYRugO9AFSIvh73TmSc65FDCzM0LHUEJBIsEBmNlYSSkdGkwmaTDRxJO9gZbAB0TDlukq5as0SPo7cAzwPfAs0TlUv06uEp7knPsVSbrczP4u6T7KWC4m1bUikyZWjI4vvv6/OK4TgFGpjKWEQ4iS2r1mNjdgHFUV4jzP90A/ossYMoFekrysVyU8yTn360oMJ31GmA/Gku4qcX9o0vfB4jOzP8UXzPcA5sYlx+qHnhCTZgqJerjFynoRXdTvyuETT5xLgXiix9VAV4r+uTQzC3IOLN3Eq6afC7Q2s99I2hZ4wMz2DxRPppmtLW+bpJfM7NgUxzSVqKzXBDPbRVJ34JZUx1HbeE/OudR4mqj24VTCVhYBIK6ccRrFk26wpXaAC4A9gYlxHN9KahcoFoh6SCWvmduwLVBiyTOzPEmJhPuVpO0DxFGreJJzLjUWmVnIAsglvQFMIE2SLrDWzNYlyoxJqk+A4dP4YvQtgS0k9aZogklzoHGq4ynBy3pVgw9XOpcCkvYHfkdUSisdrpP7wswqrO6RSvHMwWVEvcs/A+cDM8zsmhTH8XvgdGB34FOKktwK4PFQP6+SvKxX1XmScy4FJD1NdG3TdIp6TmZmZwaK5xJgJTCS4kk3SJV9SRnAWRQvM/aIBfqAkjTEzF4McWxXszzJOZcCkr42s7Q5fyLpAuBmot5T4kPAzCxklf20IekioovjVwAPE52LuzLVS/+4Tefn5JxLjfGSepjZjNCBxP4KbGNmOSGDkPScmR0fzxws6zrCULNPzzSzeyUdDLQBTgWeAjzJ1TKe5JxLjb2AyZJmEw0PJpbaCfUh/h1RmbHQLoq/Dg4aRWmJc3GHAU+a2XSVWHzP1Q6e5JxLjUNCB1DCKqKk+yHFz8ml9BKCxKKyRAWHn02jaiefS3oH2Bq4SlIz0mMWqttInuScS4E0XBn8lfiWLpoRTYtfAvwPeN7MFgSM5yxgF2CWma2W1AZIt/qjrgp84olzLm1I6kVUR3MIMMfMDggYy5FEBaMBRpvZiFCxuOrznpxzm6H43GBZEz1Cz65cCMwHFgPBKp5Iuo2ohNbweNOFkvqa2dWhYnLV4z055zZD8fBbQiPgOKK6kdcFiud84HigLfA88FzImaiSpgC7mFlhfL8eMMlrjdY+3pNzbjNkZotLbPqHpM+BIEkO2Aq42MwmBzp+WVoCiYvjW4QMxFWfJznnNkNJ68oBZBCVsQr2eWBmV0kaIOkMM3tMUlugqZnNDhTSrcCkePapiM7NXRkoFrcJfLjSuc1Q/OGd+OPPB34A7jSzbwLFM5Qo0W5vZttJ6kg0w7J/iHjimDoQnZcD+MTM5oeKxVWfJznnNkOSGhHNYOxK8fXthgWKZzLQG/jCzHrH26aEPAcmaUugC8WXIvJVuGsZH650bvP0ClHdyi+AvMCxAKwzM5NkAJKahAxG0u1ElzIUK6gNeJKrZTzJObd56mRmaVGFJS6XNVLSg0DLeJXwM4kKI4dyNNHQ6dpKW7q05knOuc3TeEk9zWxq6EDiHtxxwF+AXGB74DozezdgWLOABiSVPHO1kyc55zZPA4DT06hg9BfAMjO7LNDxAZB0H9Gw5Gqi2p4lF7lNaW1Pt+l84olzmyFJXcraHqrGpqSvgG2AH4mKRyfiSWnSjVcGL5eZPZGqWFzN8CTnnAsu3ZJuZSS9aGZDQsfhKufDlc654NI1mVUgdI1PV0UZoQNwzrlayIfAaglPcs455+osT3LOObfxFDoAVzWe5JxzbuNdEToAVzU+u9I552KSplLB+TZfT6728dmVzjlXZHD89YL461Px15MDxOJqgPfknHOuBEmTEqshJG37wsx2Le8xLj35OTnnnCtNkvon3emHf17WSj5c6ZxzpZ0F/FdSi/j+MqKVEVwt48OVzjlXjkSSM7PloWNx1ePdb+ecK0FStqRHgWfNbLmkHpLOCh2X23ie5JxzrrTHgbeBjvH9b4CLg0Xjqs2TnHPOlZZlZs8BhQBmlg8UhA3JVYcnOeecK22VpDbEF4ZL2gvw83K1kM+udM650v4CvAb8RtI4oC1wXNiQXHX47ErnnCtBUibR8OT2RMWYvwYyzGxt0MDcRvMk55xzJZRV3cQrntROPlzpnHMxSe2BLYEtJPWmaEmd5kDjYIG5avMk55xzRQ4GTgc6AXcnbV8BXB0iILdpfLjSOedKkDTEzF4MHYfbdJ7knHOuDJIOB3YEGiW2mdmwcBG56vDr5JxzrgRJDwAnAH8mOi93HNAlaFCuWrwn55xzJUiaYma9kr42Bd40s4GhY3Mbx3tyzjlX2pr462pJHYH1QIeA8bhq8tmVzjlX2khJLYE7gC+Iyns9EjYkVx0+XOmccxWIq5808jXlaidPcs45F5N0bEX7zeylVMXiaoYPVzrnXJEjKthngCe5WsZ7cs455+os78k551wJkq4ra7tfDF77eJJzzrnSViV93wgYDMwMFIvbBD5c6ZxzlYhnWL5tZoNCx+I2jl8M7pxzlWtMtDKBq2V8uNI550qQNJVoNiVAPaAt4OfjaiEfrnTOuRIkJRdjzgcWmFl+qHhc9flwpXPOldYBWGJmP5rZL0QrhfcJHZTbeN6Tc865EiRNAna1+ANSUgbwmZntGjYyt7G8J+ecc6XJknoAZlaIz2GolTzJOedcabMkXSipQXy7CJgVOii38TzJOedcaX8A+gG/AHOAPsC5QSNy1eLn5JxzztVZPsbsnHMxSfdRdH1cKWZ2YQrDcTXAk5xzzhX5LHQArmb5cKVzzrk6y3tyzjlXgqS2wBVAD6JVCAAws/2CBeWqxWdXOudcacOJltbZGrgB+AH4NGRArnp8uNI550qQ9LmZ7SZpipn1ird9amZ7hI7NbRwfrnTOudLWx1/nSTocmAu0DhiPqyZPcs45V9pNkloAfwXuA5oDF4cNyVWHn5NzzrnSjiM6nTPNzPYFDgSOCRyTqwZPcs45V1ovM1uWuGNmS4DeAeNx1eRJzjnnSsuQ1CpxR1Jr/PROreQ/NOecK+0u4GNJz8f3jwNuDhiPqya/hMA558ogqQeQuPj7AzObETIeVz2e5JxzztVZfk7OOedcneVJzjnnXJ3lSc4551yd5UnOOedcnfX/7Rqh77Wkx1YAAAAASUVORK5CYII=\n",
            "text/plain": [
              "<Figure size 432x288 with 2 Axes>"
            ]
          },
          "metadata": {
            "tags": [],
            "needs_background": "light"
          }
        }
      ]
    },
    {
      "cell_type": "markdown",
      "metadata": {
        "id": "7b6RMWpuHKN-"
      },
      "source": [
        "### **Q6. Qual o tipo de imóvel mais alugado no Airbnb?**"
      ]
    },
    {
      "cell_type": "code",
      "metadata": {
        "id": "ueLPNWvPHgfB",
        "colab": {
          "base_uri": "https://localhost:8080/"
        },
        "outputId": "9ce0d656-b834-4ffb-f52f-8f987ba5138f"
      },
      "source": [
        "# mostrar a quantidade de cada tipo de imóvel disponível\n",
        "df_clean.room_type.value_counts()"
      ],
      "execution_count": null,
      "outputs": [
        {
          "output_type": "execute_result",
          "data": {
            "text/plain": [
              "Entire home/apt    22418\n",
              "Private room        8969\n",
              "Shared room          765\n",
              "Hotel room           160\n",
              "Name: room_type, dtype: int64"
            ]
          },
          "metadata": {
            "tags": []
          },
          "execution_count": 35
        }
      ]
    },
    {
      "cell_type": "code",
      "metadata": {
        "id": "EvwoO-XAHhIm",
        "colab": {
          "base_uri": "https://localhost:8080/"
        },
        "outputId": "f416c87c-9677-4d71-f28a-7a8b656aff14"
      },
      "source": [
        "# mostrar a porcentagem de cada tipo de imóvel disponível\n",
        "df_clean.room_type.value_counts() / df.shape[0]"
      ],
      "execution_count": null,
      "outputs": [
        {
          "output_type": "execute_result",
          "data": {
            "text/plain": [
              "Entire home/apt    0.624979\n",
              "Private room       0.250042\n",
              "Shared room        0.021327\n",
              "Hotel room         0.004461\n",
              "Name: room_type, dtype: float64"
            ]
          },
          "metadata": {
            "tags": []
          },
          "execution_count": 36
        }
      ]
    },
    {
      "cell_type": "markdown",
      "metadata": {
        "id": "MFa5NbnLJMcd"
      },
      "source": [
        "### **Q7. Qual a localidade mais cara do dataset?**\n",
        "\n"
      ]
    },
    {
      "cell_type": "code",
      "metadata": {
        "id": "MD_xa143JZpi",
        "colab": {
          "base_uri": "https://localhost:8080/"
        },
        "outputId": "bbef3c16-63bf-4ffe-a57b-590a52784bda"
      },
      "source": [
        "# ver preços por bairros, na média\n",
        "df_clean.groupby('neighbourhood').price.mean().sort_values(ascending = False)"
      ],
      "execution_count": null,
      "outputs": [
        {
          "output_type": "execute_result",
          "data": {
            "text/plain": [
              "neighbourhood\n",
              "Vaz Lobo                  875.666667\n",
              "Engenheiro Leal           800.000000\n",
              "Ricardo de Albuquerque    601.200000\n",
              "Paciência                 523.555556\n",
              "Lagoa                     522.097859\n",
              "                             ...    \n",
              "Jardim América             69.000000\n",
              "Vila Militar               69.000000\n",
              "Honório Gurgel             64.000000\n",
              "Galeão                     63.666667\n",
              "Gericinó                   53.000000\n",
              "Name: price, Length: 155, dtype: float64"
            ]
          },
          "metadata": {
            "tags": []
          },
          "execution_count": 40
        }
      ]
    },
    {
      "cell_type": "markdown",
      "metadata": {
        "id": "_O1AI2TTI4nG"
      },
      "source": [
        "Acima, vemos que bairros como Vaz Lobo, Engenheiro Albuquerque e Paciência, estão com média de preço superior a de lugares como Leblon, Barra da Tijuca e Lagoa.\n",
        "\n",
        "Uma pessoa que não conhecesse o Rio poderia apresentar esses resultados sem se questionar. Só para dar um único exemplo de como uma amostra pode ser não-representativa, veja quantas entradas há para o Vaz Lobo."
      ]
    },
    {
      "cell_type": "code",
      "metadata": {
        "id": "UxVJqJ_3W59I",
        "colab": {
          "base_uri": "https://localhost:8080/",
          "height": 261
        },
        "outputId": "02322d10-b984-4473-9790-fe7d96709181"
      },
      "source": [
        "# ver a quantidade de imóveis no Vaz Lobo\n",
        "print(df_clean[df_clean.neighbourhood == 'Vaz Lobo'].shape)\n",
        "df_clean[df_clean.neighbourhood == 'Vaz Lobo']"
      ],
      "execution_count": null,
      "outputs": [
        {
          "output_type": "stream",
          "text": [
            "(3, 15)\n"
          ],
          "name": "stdout"
        },
        {
          "output_type": "execute_result",
          "data": {
            "text/html": [
              "<div>\n",
              "<style scoped>\n",
              "    .dataframe tbody tr th:only-of-type {\n",
              "        vertical-align: middle;\n",
              "    }\n",
              "\n",
              "    .dataframe tbody tr th {\n",
              "        vertical-align: top;\n",
              "    }\n",
              "\n",
              "    .dataframe thead th {\n",
              "        text-align: right;\n",
              "    }\n",
              "</style>\n",
              "<table border=\"1\" class=\"dataframe\">\n",
              "  <thead>\n",
              "    <tr style=\"text-align: right;\">\n",
              "      <th></th>\n",
              "      <th>id</th>\n",
              "      <th>name</th>\n",
              "      <th>host_id</th>\n",
              "      <th>host_name</th>\n",
              "      <th>neighbourhood</th>\n",
              "      <th>latitude</th>\n",
              "      <th>longitude</th>\n",
              "      <th>room_type</th>\n",
              "      <th>price</th>\n",
              "      <th>minimum_nights</th>\n",
              "      <th>number_of_reviews</th>\n",
              "      <th>last_review</th>\n",
              "      <th>reviews_per_month</th>\n",
              "      <th>calculated_host_listings_count</th>\n",
              "      <th>availability_365</th>\n",
              "    </tr>\n",
              "  </thead>\n",
              "  <tbody>\n",
              "    <tr>\n",
              "      <th>2908</th>\n",
              "      <td>2768499</td>\n",
              "      <td>Próximo ao Maracanã</td>\n",
              "      <td>14157867</td>\n",
              "      <td>Fernando</td>\n",
              "      <td>Vaz Lobo</td>\n",
              "      <td>-22.85955</td>\n",
              "      <td>-43.32918</td>\n",
              "      <td>Private room</td>\n",
              "      <td>1000</td>\n",
              "      <td>1</td>\n",
              "      <td>0</td>\n",
              "      <td>NaN</td>\n",
              "      <td>NaN</td>\n",
              "      <td>1</td>\n",
              "      <td>0</td>\n",
              "    </tr>\n",
              "    <tr>\n",
              "      <th>15776</th>\n",
              "      <td>14221134</td>\n",
              "      <td>casa  colonial  3  quartos, garagem</td>\n",
              "      <td>86402266</td>\n",
              "      <td>Lucia</td>\n",
              "      <td>Vaz Lobo</td>\n",
              "      <td>-22.85583</td>\n",
              "      <td>-43.32441</td>\n",
              "      <td>Entire home/apt</td>\n",
              "      <td>1329</td>\n",
              "      <td>15</td>\n",
              "      <td>0</td>\n",
              "      <td>NaN</td>\n",
              "      <td>NaN</td>\n",
              "      <td>1</td>\n",
              "      <td>365</td>\n",
              "    </tr>\n",
              "    <tr>\n",
              "      <th>33803</th>\n",
              "      <td>42012781</td>\n",
              "      <td>Casas flegler</td>\n",
              "      <td>332881900</td>\n",
              "      <td>Igor Flegler De Souza</td>\n",
              "      <td>Vaz Lobo</td>\n",
              "      <td>-22.86070</td>\n",
              "      <td>-43.32446</td>\n",
              "      <td>Private room</td>\n",
              "      <td>298</td>\n",
              "      <td>1</td>\n",
              "      <td>0</td>\n",
              "      <td>NaN</td>\n",
              "      <td>NaN</td>\n",
              "      <td>1</td>\n",
              "      <td>362</td>\n",
              "    </tr>\n",
              "  </tbody>\n",
              "</table>\n",
              "</div>"
            ],
            "text/plain": [
              "             id  ... availability_365\n",
              "2908    2768499  ...                0\n",
              "15776  14221134  ...              365\n",
              "33803  42012781  ...              362\n",
              "\n",
              "[3 rows x 15 columns]"
            ]
          },
          "metadata": {
            "tags": []
          },
          "execution_count": 44
        }
      ]
    },
    {
      "cell_type": "markdown",
      "metadata": {
        "id": "vTneAMRUYvr1"
      },
      "source": [
        "### **Q8. Qual é a média do mínimo de noites para aluguel (minimum_nights)?**"
      ]
    },
    {
      "cell_type": "code",
      "metadata": {
        "id": "_VzNhrEgY82N",
        "colab": {
          "base_uri": "https://localhost:8080/"
        },
        "outputId": "e600c47c-aaf3-498e-87dd-dfc2ffff7f78"
      },
      "source": [
        "# ver a média da coluna `minimum_nights`\n",
        "df_clean.minimum_nights.sum() / df_clean.shape[0]"
      ],
      "execution_count": null,
      "outputs": [
        {
          "output_type": "execute_result",
          "data": {
            "text/plain": [
              "3.4390009903441445"
            ]
          },
          "metadata": {
            "tags": []
          },
          "execution_count": 46
        }
      ]
    },
    {
      "cell_type": "markdown",
      "metadata": {
        "id": "GkvAg623RjoR"
      },
      "source": [
        "## Conclusões\n"
      ]
    },
    {
      "cell_type": "markdown",
      "metadata": {
        "id": "rbZ3Hsy9Ypw8"
      },
      "source": [
        "Este projeto inicial foi feito visando o estudo e aprendizado em ciência de dados.\n",
        "\n",
        "Nesta primeira exploração, foi apenas feita uma análise superficial dos dados disponibilizados pelo *airbnb*. Apesar de superficial, já foi notada a presença de *outliers* em algumas variáveis.\n",
        "\n",
        "Alguns bairros por terem poucos imóveis listados, podem acabar distorcendo as informações estatísticas de alguns atributos.\n",
        "\n",
        "Também podemos notar que o tipo de imóvel mais procurado é *Entire home* ou casa inteira, auxiliando assim que está decidindo qual tipo de locação fazer.\n",
        "\n",
        "Lembrando que esse *dataset* é uma versão resumida, ideal para uma abordagem inicial. Para uma análise mais profunda, é recomendado usar o conjunto de dados `listings.csv.gz` com 106 variáveis."
      ]
    }
  ]
}
